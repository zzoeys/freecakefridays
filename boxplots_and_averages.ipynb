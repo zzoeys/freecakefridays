{
  "cells": [
    {
      "cell_type": "markdown",
      "metadata": {},
      "source": [
        "Install the required libraries.\n",
        "\n",
        "*   The pandas library allows us to work with data in a dataframe [(pandas - Python Data Analysis Library, 2021)](https://pandas.pydata.org/)\n",
        "*   The NumPy provides us with more ways to work with numbers [(NumPy, 2021)](https://numpy.org/)\n",
        "*   The matplotlib library provides us with more ways to create graphs  [(Matplotlib — Visualization with Python, 2021)](https://matplotlib.org/)\n",
        "*   The plotly library allows us to work with interactive data visualisations [(Plotly, 2022)](https://plotly.com/python/)"
      ]
    },
    {
      "cell_type": "code",
      "execution_count": null,
      "metadata": {
        "id": "RMELIHr75zab"
      },
      "outputs": [],
      "source": [
        "import pandas as pd\n",
        "import numpy as np\n",
        "import matplotlib.cm as cm\n",
        "import plotly.graph_objects as go\n"
      ]
    },
    {
      "cell_type": "markdown",
      "metadata": {
        "id": "4tIiD9P5L35u"
      },
      "source": [
        "The following two functions were based on the example: https://plotly.com/python/box-plots/. \n",
        "\n",
        "To add county/precinct names as a label, code was modified based on this site: https://stackoverflow.com/questions/54368158/add-multiple-text-labels-from-dataframe-columns-in-plotly "
      ]
    },
    {
      "cell_type": "code",
      "execution_count": null,
      "metadata": {
        "id": "3Hy_PK_L56Nu"
      },
      "outputs": [],
      "source": [
        "# function for distribution\n",
        "\n",
        "def distribution(data_set, t, name_of_the_html_file, label):\n",
        "\n",
        "  colors = ['rgba(93, 164, 214, 0.5)', 'rgba(255, 144, 14, 0.5)', 'rgba(44, 160, 101, 0.5)',\n",
        "            'rgba(255, 65, 54, 0.5)', 'rgba(207, 114, 255, 0.5)', 'rgba(127, 96, 0, 0.5)']\n",
        "\n",
        "  x_data = ['Hispanic','White','Black','Asian','Mixed','Others']\n",
        "\n",
        "  fig = go.Figure()\n",
        "\n",
        "  for xd, yd, cls in zip(x_data, data_set, colors):\n",
        "          fig.add_trace(go.Box(\n",
        "              y=yd,\n",
        "              name=xd,\n",
        "              boxpoints='all',\n",
        "              jitter=0.5,\n",
        "              whiskerwidth=0.2,\n",
        "              fillcolor=cls,\n",
        "              marker_size=2,\n",
        "              line_width=2,\n",
        "              boxmean=True,\n",
        "              text = label)\n",
        "          )\n",
        "\n",
        "  fig.update_layout(\n",
        "      title=t,\n",
        "      yaxis=dict(\n",
        "          autorange=True,\n",
        "          showgrid=True,\n",
        "          zeroline=True,\n",
        "          dtick=0.1,\n",
        "          gridcolor='rgb(255, 255, 255)',\n",
        "          gridwidth=0.1,\n",
        "          zerolinecolor='rgb(255, 255, 255)',\n",
        "          zerolinewidth=1,\n",
        "      ),\n",
        "      margin=dict(\n",
        "          l=40,\n",
        "          r=30,\n",
        "          b=80,\n",
        "          t=100,\n",
        "      ),\n",
        "      paper_bgcolor='rgb(243, 243, 243)',\n",
        "      plot_bgcolor='rgb(243, 243, 243)',\n",
        "      showlegend=False\n",
        "  )\n",
        "\n",
        "  fig.write_html(name_of_the_html_file)\n",
        "  fig.show()\n"
      ]
    },
    {
      "cell_type": "code",
      "execution_count": null,
      "metadata": {
        "id": "a2smYi9C68BF"
      },
      "outputs": [],
      "source": [
        "# opening files and selecting the right columns:\n",
        "race =  pd.read_csv('data/race_county_data/cleaned_georgia_race_county.csv')\n",
        "racedenscounty = race[['Population Density: Hispanic','Population Density: White','Population Density: Black','Population Density: Asian','Population Density: Mixed','Population Density: Others']]"
      ]
    },
    {
      "cell_type": "code",
      "execution_count": null,
      "metadata": {
        "colab": {
          "base_uri": "https://localhost:8080/",
          "height": 542
        },
        "id": "7iWxT4O97dsq",
        "outputId": "d7a6a29f-4f06-4f12-d4d1-7ffb5f48a13e"
      },
      "outputs": [],
      "source": [
        "# racial density distribution county level\n",
        "# Georgia State 2020 county level population density distribution by race\n",
        "# list1 is a list for county level pop density\n",
        "list1 = [racedenscounty['Population Density: Hispanic'],racedenscounty['Population Density: White'],racedenscounty['Population Density: Black'],racedenscounty['Population Density: Asian'], racedenscounty['Population Density: Mixed'], racedenscounty['Population Density: Others']]\n",
        "distribution(list1, 'Georgia 2020 County Level Population Density Distribution by Race', 'html_files/county_race_density.html', race['Area Name'])\n"
      ]
    },
    {
      "cell_type": "code",
      "execution_count": null,
      "metadata": {
        "id": "FrovdYszG_u-"
      },
      "outputs": [],
      "source": [
        "from enum import auto\n",
        "# for non density distribution\n",
        "def raw_distribution (x, t, name_of_the_html_file, title):\n",
        "  N= 50\n",
        "\n",
        "  y_data = x\n",
        "\n",
        "  colors = ['rgba(93, 164, 214, 0.5)', 'rgba(255, 144, 14, 0.5)', 'rgba(44, 160, 101, 0.5)',\n",
        "            'rgba(255, 65, 54, 0.5)', 'rgba(207, 114, 255, 0.5)', 'rgba(127, 96, 0, 0.5)']\n",
        "\n",
        "  x_data = ['Hispanic','White','Black','Asian','Mixed','Others']\n",
        "\n",
        "  fig = go.Figure()\n",
        "\n",
        "  for xd, yd, cls in zip(x_data, y_data, colors):\n",
        "          fig.add_trace(go.Box(\n",
        "              y=yd,\n",
        "              name=xd,\n",
        "              boxpoints='all',\n",
        "              jitter=0.5,\n",
        "              whiskerwidth=0.2,\n",
        "              fillcolor=cls,\n",
        "              marker_size=2,\n",
        "              line_width=1,\n",
        "              boxmean=True,\n",
        "              text = title)\n",
        "          )\n",
        "\n",
        "  fig.update_layout(\n",
        "      title=t,\n",
        "      yaxis=dict(\n",
        "          autorange=True,\n",
        "          showgrid=True,\n",
        "          zeroline=True,\n",
        "          gridcolor='rgb(255, 255, 255)',\n",
        "          zerolinecolor='rgb(255, 255, 255)',\n",
        "          zerolinewidth=2,\n",
        "      ),\n",
        "      margin=dict(\n",
        "          l=40,\n",
        "          r=30,\n",
        "          b=80,\n",
        "          t=100,\n",
        "      ),\n",
        "      paper_bgcolor='rgb(243, 243, 243)',\n",
        "      plot_bgcolor='rgb(243, 243, 243)',\n",
        "      showlegend=False\n",
        "  )\n",
        "\n",
        "  fig.write_html(name_of_the_html_file)\n",
        "  fig.show()"
      ]
    },
    {
      "cell_type": "code",
      "execution_count": null,
      "metadata": {
        "colab": {
          "base_uri": "https://localhost:8080/",
          "height": 542
        },
        "id": "DC0nRZ5t8Txe",
        "outputId": "babfbbfa-71a6-4224-803f-aef52b2940b0"
      },
      "outputs": [],
      "source": [
        "# Georgia state 2020 county level population distribution by race\n",
        "# sample_data/html files/raw_county.html\n",
        "# list2 is a list for raw data of county level population by race\n",
        "list2 = [race['Hispanic'], race['White'], race['Black'], race['Asian'], race['Mixed'], race['Others']]\n",
        "raw_distribution(list2, 'Georgia 2020 County Level Population Distribution by Race', 'html_files/county_raw_distribution.html', race['Area Name'])"
      ]
    },
    {
      "cell_type": "code",
      "execution_count": null,
      "metadata": {
        "id": "grecDjG6B2or"
      },
      "outputs": [],
      "source": [
        "# precinct level data\n",
        "precincts = pd.read_csv('data/polling_site_data/clean_precincts_with_polling_site.csv')"
      ]
    },
    {
      "cell_type": "code",
      "execution_count": null,
      "metadata": {
        "colab": {
          "base_uri": "https://localhost:8080/",
          "height": 542
        },
        "id": "_VC-osK0KaHP",
        "outputId": "5b971173-2996-4264-ac2e-124d4668dd1f"
      },
      "outputs": [],
      "source": [
        "# raw precincts\n",
        "# Georgia state 2020 precinct level population distribution by race\n",
        "# sample_data/html files/raw_precinct.html\n",
        "# list3 is a list for raw precinct level population data by race\n",
        "list3 = [precincts['Hispanic'], precincts['White'], precincts['Black'], precincts['Asian'], precincts['Mixed'], precincts['Others']]\n",
        "raw_distribution(list3, 'Georgia 2020 Precinct Level Population Distribution by Race', 'html_files/raw_precincts.html', precincts['Area Name'])"
      ]
    },
    {
      "cell_type": "code",
      "execution_count": null,
      "metadata": {
        "colab": {
          "base_uri": "https://localhost:8080/",
          "height": 542
        },
        "id": "7WJsfNmsB_Lf",
        "outputId": "e207e510-5f1d-4fdf-c4fa-5e4d2766b723"
      },
      "outputs": [],
      "source": [
        "# general precinct racial density dist\n",
        "# Georgia State 2020 precinct level population density distribution by race\n",
        "# sample_data/html files/precinct_general_dist.html\n",
        "# list4 is a list for precinct level population density by race\n",
        "list4 = [precincts['Population Density: Hispanic'],precincts['Population Density: White'],precincts['Population Density: Black'],precincts['Population Density: Asian'], precincts['Population Density: Mixed'], precincts['Population Density: Others']]\n",
        "distribution(list4, 'Georgia 2020 Precinct Level Population Density Distribution by Race', 'html_files/precinct_general_dist.html', precincts['Area Name'])"
      ]
    },
    {
      "cell_type": "markdown",
      "metadata": {},
      "source": [
        "# Table of averages"
      ]
    },
    {
      "cell_type": "markdown",
      "metadata": {},
      "source": [
        "A table of averages on the average racial density of all counties, all precincts and precincts with polling sites and precincts without polling sites."
      ]
    },
    {
      "cell_type": "code",
      "execution_count": null,
      "metadata": {
        "id": "6gxcJy47DMAc"
      },
      "outputs": [],
      "source": [
        "# precincts with poling sites\n",
        "withpolling = precincts[precincts['Polling Site 2020']==1]\n",
        "\n",
        "# precincts without poling sites\n",
        "withoutpolling = precincts[precincts['Polling Site 2020']==0]"
      ]
    },
    {
      "cell_type": "code",
      "execution_count": null,
      "metadata": {
        "colab": {
          "base_uri": "https://localhost:8080/",
          "height": 542
        },
        "id": "MZbsvH7FE9BP",
        "outputId": "5834cd48-c19e-4e06-bb57-efdefaa63ab4"
      },
      "outputs": [],
      "source": [
        "# precincts with polling sites racial density distribution\n",
        "# Georgia State 2020 population density distribution by race in precincts with polling sites\n",
        "# list5 is a list population density by race in precincts with polling sites\n",
        "list5 = [withpolling['Population Density: Hispanic'], withpolling['Population Density: White'], withpolling['Population Density: Black'], withpolling['Population Density: Asian'], withpolling['Population Density: Mixed'], withpolling['Population Density: Others']]\n",
        "\n",
        "# precincts without polling sites population density distribution\n",
        "# Georgia State 2020 population density distribution by race in precincts without polling sites\n",
        "# list6 is a list of population densities by race in precincts without polling sites\n",
        "list6 = [withoutpolling['Population Density: Hispanic'], withoutpolling['Population Density: White'], withoutpolling['Population Density: Black'], withoutpolling['Population Density: Asian'], withoutpolling['Population Density: Mixed'], withoutpolling['Population Density: Others']]"
      ]
    },
    {
      "cell_type": "markdown",
      "metadata": {
        "id": "tSjCgGLtMCUW"
      },
      "source": [
        "The following code was based on an example from https://plotly.com/python/table/#styled-table"
      ]
    },
    {
      "cell_type": "code",
      "execution_count": null,
      "metadata": {},
      "outputs": [],
      "source": [
        "import plotly.graph_objects as go\n",
        "\n",
        "# list of all lists for averages by race\n",
        "list_averages = [list4, list5, list6]\n",
        "\n",
        "averages = []\n",
        "for l in list_averages:\n",
        "  av_list = []\n",
        "  for i in l:\n",
        "    av = sum(i)/len(i)\n",
        "    av = round(av, 3)\n",
        "    av_list.append(av)\n",
        "  averages.append(av_list)\n",
        "averages.insert(0, ['Hispanic','White','Black','Asian','Mixed','Other'])\n",
        "# table\n",
        "fig = go.Figure(data=[go.Table(\n",
        "    header=dict(values=['Race', 'Average precinct population density', \n",
        "                        'Average population density in precincts with polling sites', \n",
        "                        'Average population density in precincts without polling sites'],\n",
        "                line_color='darkslategray',\n",
        "                fill_color='darksalmon',\n",
        "                align='left'),\n",
        "    cells=dict(values=averages,\n",
        "               line_color='darkslategray',\n",
        "               fill_color='white',\n",
        "               align='left'))\n",
        "])\n",
        "\n",
        "fig.update_layout(width=1000, height=600)\n",
        "fig.write_html('html_files/averages_table.html')\n",
        "fig.show()"
      ]
    },
    {
      "cell_type": "markdown",
      "metadata": {},
      "source": [
        "Citations:\n",
        "\n",
        "Matplotlib.org. 2021. Matplotlib — Visualization with Python. [online] Available at: <https://matplotlib.org/> [Accessed 10 September 2021].\n",
        "\n",
        "Numpy.org. 2021. NumPy. [online] Available at: <https://numpy.org/> [Accessed 10 September 2021].\n",
        "\n",
        "Pandas.pydata.org. 2021. pandas - Python Data Analysis Library. [online] Available at: <https://pandas.pydata.org/> [Accessed 10 September 2021].\n",
        "\n",
        "Plotly, 2022. Plotly.  [online] Available at: <https://plotly.com/python/> [Accessed 10 September 2021]."
      ]
    }
  ],
  "metadata": {
    "colab": {
      "name": "QM2.ipynb",
      "provenance": []
    },
    "kernelspec": {
      "display_name": "Python 3",
      "name": "python3"
    },
    "language_info": {
      "codemirror_mode": {
        "name": "ipython",
        "version": 3
      },
      "file_extension": ".py",
      "mimetype": "text/x-python",
      "name": "python",
      "nbconvert_exporter": "python",
      "pygments_lexer": "ipython3",
      "version": "3.8.5"
    }
  },
  "nbformat": 4,
  "nbformat_minor": 0
}
