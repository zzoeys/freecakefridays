{
 "cells": [
  {
   "cell_type": "code",
   "execution_count": null,
   "metadata": {},
   "outputs": [],
   "source": [
    "import matplotlib.pyplot as plt\n",
    "import pandas as pd\n",
    "import numpy as np"
   ]
  },
  {
   "cell_type": "markdown",
   "metadata": {},
   "source": [
    "# Scatter plots for data exploration"
   ]
  },
  {
   "cell_type": "code",
   "execution_count": null,
   "metadata": {},
   "outputs": [],
   "source": [
    "race =  pd.read_csv('data/race_county_data/cleaned_georgia_race_county.csv', index_col = 0)\n",
    "polling_site = pd.read_csv('data/polling_site_data/2020_clean_county_densities.csv', index_col = 0)\n",
    "polling_site_changes = pd.read_csv('data/polling_site_data/polling_sites_in_years_changes.csv', index_col = 0)"
   ]
  },
  {
   "cell_type": "code",
   "execution_count": null,
   "metadata": {},
   "outputs": [],
   "source": [
    "race.head()"
   ]
  },
  {
   "cell_type": "code",
   "execution_count": null,
   "metadata": {},
   "outputs": [],
   "source": [
    "polling_site.head()"
   ]
  },
  {
   "cell_type": "code",
   "execution_count": null,
   "metadata": {},
   "outputs": [],
   "source": [
    "polling_site_changes.head()"
   ]
  },
  {
   "cell_type": "markdown",
   "metadata": {},
   "source": [
    "Since the polling site and polling site changes data does not include race, the dataframes have to be merged."
   ]
  },
  {
   "cell_type": "markdown",
   "metadata": {},
   "source": [
    "Checking the number of rows to ensure that all rows are preserved after the merger."
   ]
  },
  {
   "cell_type": "code",
   "execution_count": null,
   "metadata": {},
   "outputs": [],
   "source": [
    "print(race.shape)\n",
    "print(polling_site.shape)\n",
    "print(polling_site_changes.shape)"
   ]
  },
  {
   "cell_type": "markdown",
   "metadata": {},
   "source": [
    "Since the county names in the race data are have 'County, Georgia' while the polling site data only has the county name, this part of the string is removed and all data is converted to titles."
   ]
  },
  {
   "cell_type": "code",
   "execution_count": null,
   "metadata": {},
   "outputs": [],
   "source": [
    "race['Area Name'] = race['Area Name'].str.replace(' County, Georgia','')\n",
    "race['Area Name'] = race['Area Name'].str.title()\n",
    "\n",
    "polling_site['County'] = polling_site['County'].str.title()\n",
    "polling_site_changes['County'] = polling_site['County'].str.title()"
   ]
  },
  {
   "cell_type": "code",
   "execution_count": null,
   "metadata": {},
   "outputs": [],
   "source": [
    "polling_site = pd.merge(race, polling_site, how=\"inner\", left_on=['Area Name'], right_on=['County'])\n",
    "polling_site_changes = pd.merge(race, polling_site_changes, how=\"inner\", left_on=['Area Name'], right_on=['County'])"
   ]
  },
  {
   "cell_type": "code",
   "execution_count": null,
   "metadata": {},
   "outputs": [],
   "source": [
    "polling_site.head()"
   ]
  },
  {
   "cell_type": "code",
   "execution_count": null,
   "metadata": {},
   "outputs": [],
   "source": [
    "polling_site_changes.head()"
   ]
  },
  {
   "cell_type": "code",
   "execution_count": null,
   "metadata": {},
   "outputs": [],
   "source": [
    "print(polling_site.shape)\n",
    "print(polling_site_changes.shape)"
   ]
  },
  {
   "cell_type": "markdown",
   "metadata": {},
   "source": [
    "It was found that the file kept getting cropped when the file was saved with .savefig(). Thus, the (documentation)[https://matplotlib.org/stable/api/_as_gen/matplotlib.pyplot.savefig.html] was consulted and the paramenter bbox_inches was added so that the full figure is saved."
   ]
  },
  {
   "cell_type": "code",
   "execution_count": null,
   "metadata": {},
   "outputs": [],
   "source": [
    "# Function to create scatter plots of polling site quantity\n",
    "def scatterplot_quantity(race):\n",
    "    polling_site.plot.scatter(x='Population Density: ' + str(race), y='2020 Quantity', s = 10, c = 'brown')\n",
    "    plt.ylabel('2020 Polling \\nQuantity', rotation=0, ha=\"right\")\n",
    "    plt.savefig('images/scatter_plot_quantity' +str(race), bbox_inches='tight')\n",
    "\n",
    "# Function to create scatter plots of polling site density\n",
    "def scatterplot_density(race):\n",
    "    polling_site.plot.scatter(x='Population Density: ' + str(race), y='Polling Site Density', s = 10, c = 'brown', )\n",
    "    plt.ylabel('Polling Site \\nDensity', rotation=0, ha=\"right\")\n",
    "    plt.savefig('images/scatter_plot_density_' +str(race), bbox_inches='tight')\n",
    "\n",
    "# Function to create scatter plots of changes in polling site by county\n",
    "def scatterplot_changes(race, year):\n",
    "    polling_site_changes.plot.scatter(x='Population Density: ' + str(race), y='Delta ' + str(year), s = 10, c = 'brown', )\n",
    "    plt.ylabel('Changes in \\nthe Number of \\nPolling sites', rotation=0, ha=\"right\")\n",
    "    plt.savefig('images/scatter_plot_changes_' +str(year) + '_' + str(race), bbox_inches='tight')\n"
   ]
  },
  {
   "cell_type": "code",
   "execution_count": null,
   "metadata": {},
   "outputs": [],
   "source": [
    "race = ['White', 'Black', 'Hispanic', 'Asian', 'White', 'Others', 'Mixed']\n",
    "years = ['16-18', '18-20', '16-20']\n",
    "\n",
    "for i in race:\n",
    "    scatterplot_quantity(i)\n",
    "    scatterplot_density(i)\n",
    "    for j in years:\n",
    "        scatterplot_changes(i, j)"
   ]
  }
 ],
 "metadata": {
  "interpreter": {
   "hash": "ae287a4b2f3f98ee4d859b3fe7457b4ff6f9cedf230831be035bbfc39aa45414"
  },
  "kernelspec": {
   "display_name": "Python 3.8.5 64-bit ('.venv': venv)",
   "language": "python",
   "name": "python3"
  },
  "language_info": {
   "codemirror_mode": {
    "name": "ipython",
    "version": 3
   },
   "file_extension": ".py",
   "mimetype": "text/x-python",
   "name": "python",
   "nbconvert_exporter": "python",
   "pygments_lexer": "ipython3",
   "version": "3.8.5"
  },
  "orig_nbformat": 4
 },
 "nbformat": 4,
 "nbformat_minor": 2
}
