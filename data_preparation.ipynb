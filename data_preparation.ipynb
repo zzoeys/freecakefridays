{
 "cells": [
  {
   "cell_type": "code",
   "execution_count": 2,
   "metadata": {},
   "outputs": [],
   "source": [
    "import matplotlib.pyplot as plt\n",
    "import pandas as pd\n",
    "import numpy as np\n",
    "import geopandas as gpd"
   ]
  },
  {
   "cell_type": "markdown",
   "metadata": {},
   "source": [
    "## Cleaning the racial data by county level"
   ]
  },
  {
   "cell_type": "code",
   "execution_count": null,
   "metadata": {},
   "outputs": [],
   "source": [
    "# Read csv file to dataframe\n",
    "race_county =  pd.read_csv('data/race_county_data/original_georgia_race_data.csv', skiprows = 1)\n",
    "\n",
    "pd.options.display.width=None\n",
    "pd.set_option('max_row', None)\n",
    "pd.set_option('display.max_rows', race_county.shape[0] + 1)\n",
    "pd.set_option('display.expand_frame_repr', False)\n",
    "\n",
    "race_county"
   ]
  },
  {
   "cell_type": "code",
   "execution_count": null,
   "metadata": {},
   "outputs": [],
   "source": [
    "print(race_county.columns)\n",
    "print(race_county.shape)"
   ]
  },
  {
   "cell_type": "markdown",
   "metadata": {},
   "source": [
    "There's a weird space at the start of each column name so we can remove that. We will combine the columns with the data on the number of people that identify their race as 'American Indian and Alaska Native alone, Native Hawaiian' and 'Other Pacific Islander alone' and 'Some Other Race alone' into an 'Others' column. We wil also combine the data on the number of people that identify as more than one race as 'Mixed'."
   ]
  },
  {
   "cell_type": "code",
   "execution_count": null,
   "metadata": {},
   "outputs": [],
   "source": [
    "race_county.columns = race_county.columns.str.lstrip()\n",
    "\n",
    "race_county.columns = race_county.columns.map(str)\n",
    "\n",
    "race_county.rename(columns={'!!Total:!!Not Hispanic or Latino:!!Population of two or more races:':'Mixed'}, inplace = True)\n",
    "\n",
    "race_county['Others'] = race_county['!!Total:!!Not Hispanic or Latino:!!Population of one race:!!American Indian and Alaska Native alone'] + race_county['!!Total:!!Not Hispanic or Latino:!!Population of one race:!!Native Hawaiian and Other Pacific Islander alone'] + race_county['!!Total:!!Not Hispanic or Latino:!!Population of one race:!!Some Other Race alone']\n",
    "\n"
   ]
  },
  {
   "cell_type": "markdown",
   "metadata": {},
   "source": [
    "Then we create a new datafram with only the columns we want: 'Total', 'White', 'Black', 'Asian' and the previously created columns of 'Others' and 'Mixed. We will also rename the columns accordingly."
   ]
  },
  {
   "cell_type": "code",
   "execution_count": null,
   "metadata": {},
   "outputs": [],
   "source": [
    "# Create a new dataframe with the desired columns\n",
    "race_county = race_county[['Geographic Area Name', 'id', '!!Total:', '!!Total:!!Hispanic or Latino', '!!Total:!!Not Hispanic or Latino:!!Population of one race:!!White alone', '!!Total:!!Not Hispanic or Latino:!!Population of one race:!!Black or African American alone','!!Total:!!Not Hispanic or Latino:!!Population of one race:!!Asian alone', 'Mixed', 'Others' ]].copy()\n",
    "\n",
    "# Rename the columns\n",
    "race_county.columns = ['Area Name', 'id', 'Total', 'Hispanic', 'White', 'Black', 'Asian', 'Mixed', 'Others']"
   ]
  },
  {
   "cell_type": "code",
   "execution_count": null,
   "metadata": {},
   "outputs": [],
   "source": [
    "print(race_county.head())"
   ]
  },
  {
   "cell_type": "code",
   "execution_count": null,
   "metadata": {},
   "outputs": [],
   "source": [
    "race_county.head(20)\n"
   ]
  },
  {
   "cell_type": "markdown",
   "metadata": {},
   "source": [
    "Creating rows with density. "
   ]
  },
  {
   "cell_type": "code",
   "execution_count": null,
   "metadata": {},
   "outputs": [],
   "source": [
    "for ind, row in race_county.iterrows():\n",
    "  race_county.loc[ind,\"Population Density:Hispanic\"]= row ['Hispanic']/row['Total']\n",
    "  race_county.loc[ind,\"Population Density: White\"] = row ['White']/row['Total']\n",
    "  race_county.loc[ind,\"Population Density: Black\"]= row['Black']/row['Total']\n",
    "  race_county.loc[ind,\"Population Density: Asian\"]= row ['Asian']/row['Total']\n",
    "  race_county.loc[ind,\"Population Density: Mixed\"]=row['Mixed']/row[\"Total\"]\n",
    "  race_county.loc[ind,\"Population Density: Others\"]=row[\"Others\"]/row[\"Total\"]"
   ]
  },
  {
   "cell_type": "code",
   "execution_count": null,
   "metadata": {},
   "outputs": [],
   "source": [
    "race_county.tail(20)"
   ]
  },
  {
   "cell_type": "markdown",
   "metadata": {},
   "source": [
    "Downloading the dataframes into new files."
   ]
  },
  {
   "cell_type": "code",
   "execution_count": null,
   "metadata": {},
   "outputs": [],
   "source": [
    "race_county.to_csv('data/race_county_data/cleaned_georgia_race_county.csv')\n"
   ]
  },
  {
   "cell_type": "markdown",
   "metadata": {},
   "source": [
    "# Cleaning the racial data by precinct level"
   ]
  },
  {
   "cell_type": "code",
   "execution_count": null,
   "metadata": {},
   "outputs": [],
   "source": [
    "race_precinct =  pd.read_csv('data/race_precinct_data/cleaned_georgia_race_precinct.csv', index_col=0)\n",
    "\n",
    "race_precinct"
   ]
  },
  {
   "cell_type": "code",
   "execution_count": null,
   "metadata": {},
   "outputs": [],
   "source": [
    "for ind, row in race_precinct.iterrows():\n",
    "  race_precinct.loc[ind,\"Population Density: Hispanic\"]= row ['Hispanic']/row['Total']\n",
    "  race_precinct.loc[ind,\"Population Density: White\"] = row ['White']/row['Total']\n",
    "  race_precinct.loc[ind,\"Population Density: Black\"]= row['Black']/row['Total']\n",
    "  race_precinct.loc[ind,\"Population Density: Asian\"]= row ['Asian']/row['Total']\n",
    "  race_precinct.loc[ind,\"Population Density: Mixed\"]=row['Mixed']/row[\"Total\"]\n",
    "  race_precinct.loc[ind,\"Population Density: Others\"]=row[\"Others\"]/row[\"Total\"]"
   ]
  },
  {
   "cell_type": "markdown",
   "metadata": {},
   "source": [
    "so we see which areas have a population total of 0"
   ]
  },
  {
   "cell_type": "code",
   "execution_count": null,
   "metadata": {},
   "outputs": [],
   "source": [
    "race_precinct.loc[race_precinct['Total']==0]"
   ]
  },
  {
   "cell_type": "code",
   "execution_count": null,
   "metadata": {},
   "outputs": [],
   "source": [
    "race_precinct.drop(race_precinct.loc[race_precinct['Total'] == 0].index, inplace=True)"
   ]
  },
  {
   "cell_type": "code",
   "execution_count": null,
   "metadata": {},
   "outputs": [],
   "source": [
    "for ind, row in race_precinct.iterrows():\n",
    "  race_precinct.loc[ind,\"Population Density: Hispanic\"]= row ['Hispanic']/row['Total']\n",
    "  race_precinct.loc[ind,\"Population Density: White\"] = row ['White']/row['Total']\n",
    "  race_precinct.loc[ind,\"Population Density: Black\"]= row['Black']/row['Total']\n",
    "  race_precinct.loc[ind,\"Population Density: Asian\"]= row ['Asian']/row['Total']\n",
    "  race_precinct.loc[ind,\"Population Density: Mixed\"]=row['Mixed']/row[\"Total\"]\n",
    "  race_precinct.loc[ind,\"Population Density: Others\"]=row[\"Others\"]/row[\"Total\"]"
   ]
  },
  {
   "cell_type": "code",
   "execution_count": null,
   "metadata": {},
   "outputs": [],
   "source": [
    "race_precinct"
   ]
  },
  {
   "cell_type": "code",
   "execution_count": null,
   "metadata": {},
   "outputs": [],
   "source": [
    "race_precinct.to_csv('data/race_precinct_data/cleaned_georgia_race_precinct_densities.csv')"
   ]
  },
  {
   "cell_type": "markdown",
   "metadata": {},
   "source": []
  },
  {
   "cell_type": "markdown",
   "metadata": {},
   "source": [
    "# Preparing the polling site data (old data)"
   ]
  },
  {
   "cell_type": "markdown",
   "metadata": {},
   "source": [
    "Had to use this: https://stackoverflow.com/questions/45690830/reading-in-csv-file-to-pandas-fails"
   ]
  },
  {
   "cell_type": "code",
   "execution_count": null,
   "metadata": {},
   "outputs": [],
   "source": [
    "# Read csv file to dataframe\n",
    "polling_site =  pd.read_csv('data/polling_site_data/original_polling_site_data_2.csv', encoding=\"utf-16\", sep='\\t')\n"
   ]
  },
  {
   "cell_type": "code",
   "execution_count": null,
   "metadata": {},
   "outputs": [],
   "source": [
    "polling_site.shape"
   ]
  },
  {
   "cell_type": "code",
   "execution_count": null,
   "metadata": {},
   "outputs": [],
   "source": [
    "polling_site['County'].value_counts()"
   ]
  },
  {
   "cell_type": "code",
   "execution_count": null,
   "metadata": {},
   "outputs": [],
   "source": [
    "counties = polling_site['County'].value_counts().rename_axis('County').reset_index(name='Number of polling sites')\n",
    "print(counties)\n",
    "\n"
   ]
  },
  {
   "cell_type": "code",
   "execution_count": null,
   "metadata": {},
   "outputs": [],
   "source": [
    "counties.columns = counties.columns.map(str)\n",
    "counties = counties.astype({'County': str, 'Number of polling sites': int})\n",
    "\n",
    "counties['County'] = counties['County'].str.capitalize()\n",
    "\n",
    "print(counties)"
   ]
  },
  {
   "cell_type": "markdown",
   "metadata": {},
   "source": [
    "Now calculating the density"
   ]
  },
  {
   "cell_type": "code",
   "execution_count": null,
   "metadata": {},
   "outputs": [],
   "source": [
    "counties['Total Population'] = pd.Series(race_county['Total'])\n",
    "counties.head()"
   ]
  },
  {
   "cell_type": "code",
   "execution_count": null,
   "metadata": {},
   "outputs": [],
   "source": [
    "for ind, row in counties.iterrows():\n",
    "  counties.loc[ind,\"Polling Site Density\"]= row ['Number of polling sites']/row['Total Population']"
   ]
  },
  {
   "cell_type": "code",
   "execution_count": null,
   "metadata": {},
   "outputs": [],
   "source": [
    "counties.head()"
   ]
  },
  {
   "cell_type": "code",
   "execution_count": null,
   "metadata": {},
   "outputs": [],
   "source": [
    "counties.to_csv('data/polling_site_data/polling_sites_in_counties.csv')"
   ]
  },
  {
   "cell_type": "markdown",
   "metadata": {},
   "source": [
    "# Preparing the polling site data (new data)"
   ]
  },
  {
   "cell_type": "code",
   "execution_count": null,
   "metadata": {},
   "outputs": [],
   "source": [
    "# Read csv file to dataframe\n",
    "polling_site_new =  pd.read_csv('data/polling_site_data_new/original.csv')\n",
    "\n",
    "polling_site_new"
   ]
  },
  {
   "cell_type": "code",
   "execution_count": null,
   "metadata": {},
   "outputs": [],
   "source": [
    "polling_site_new['county_name'].value_counts()"
   ]
  },
  {
   "cell_type": "code",
   "execution_count": null,
   "metadata": {},
   "outputs": [],
   "source": [
    "counties_new = polling_site_new['county_name'].value_counts().rename_axis('County').reset_index(name='Number of polling sites')\n",
    "print(counties_new)\n"
   ]
  },
  {
   "cell_type": "code",
   "execution_count": null,
   "metadata": {},
   "outputs": [],
   "source": [
    "counties_new.columns = counties_new.columns.map(str)\n",
    "counties_new = counties_new.astype({'County': str, 'Number of polling sites': int})\n",
    "\n",
    "print(counties_new)"
   ]
  },
  {
   "cell_type": "code",
   "execution_count": null,
   "metadata": {},
   "outputs": [],
   "source": [
    "race_county['Area Name'] = race_county['Area Name'].str.split(' ').str[0]\n",
    "\n",
    "race_county.head()"
   ]
  },
  {
   "cell_type": "code",
   "execution_count": null,
   "metadata": {},
   "outputs": [],
   "source": [
    "total_population = race_county[['Area Name', 'Total']].copy()\n",
    "total_population.rename(columns={'Area Name': 'County'}, inplace=True)\n"
   ]
  },
  {
   "cell_type": "code",
   "execution_count": null,
   "metadata": {},
   "outputs": [],
   "source": [
    "total_population"
   ]
  },
  {
   "cell_type": "code",
   "execution_count": null,
   "metadata": {},
   "outputs": [],
   "source": [
    "counties_new = counties_new.merge(total_population, on='County', how='inner')\n",
    "counties_new.head()"
   ]
  },
  {
   "cell_type": "code",
   "execution_count": null,
   "metadata": {},
   "outputs": [],
   "source": [
    "for ind, row in counties_new.iterrows():\n",
    "  counties_new.loc[ind,\"Polling Site Density\"]= row ['Number of polling sites']/row['Total']"
   ]
  },
  {
   "cell_type": "code",
   "execution_count": null,
   "metadata": {},
   "outputs": [],
   "source": [
    "counties_new"
   ]
  },
  {
   "cell_type": "code",
   "execution_count": null,
   "metadata": {},
   "outputs": [],
   "source": [
    "counties_new.to_csv('data/polling_site_data_new/clean.csv')"
   ]
  },
  {
   "cell_type": "markdown",
   "metadata": {},
   "source": [
    "## Finding out which precincts have polling sites"
   ]
  },
  {
   "cell_type": "code",
   "execution_count": 36,
   "metadata": {},
   "outputs": [],
   "source": [
    "polling_site_precinct =  pd.read_csv('data/polling_site_data_new/original.csv')\n",
    "race_county =  pd.read_csv('data/race_county_data/cleaned_georgia_race_county.csv', index_col = 0)\n",
    "\n",
    "polling_site_precinct.columns = polling_site_precinct.columns.map(str)"
   ]
  },
  {
   "cell_type": "code",
   "execution_count": null,
   "metadata": {},
   "outputs": [],
   "source": [
    "polling_site_precinct"
   ]
  },
  {
   "cell_type": "code",
   "execution_count": null,
   "metadata": {},
   "outputs": [],
   "source": [
    "race_county"
   ]
  },
  {
   "cell_type": "code",
   "execution_count": 37,
   "metadata": {},
   "outputs": [],
   "source": [
    "race_county.columns = race_county.columns.map(str)"
   ]
  },
  {
   "cell_type": "code",
   "execution_count": null,
   "metadata": {},
   "outputs": [],
   "source": [
    "race_county"
   ]
  },
  {
   "cell_type": "code",
   "execution_count": 38,
   "metadata": {},
   "outputs": [
    {
     "data": {
      "text/html": [
       "<div>\n",
       "<style scoped>\n",
       "    .dataframe tbody tr th:only-of-type {\n",
       "        vertical-align: middle;\n",
       "    }\n",
       "\n",
       "    .dataframe tbody tr th {\n",
       "        vertical-align: top;\n",
       "    }\n",
       "\n",
       "    .dataframe thead th {\n",
       "        text-align: right;\n",
       "    }\n",
       "</style>\n",
       "<table border=\"1\" class=\"dataframe\">\n",
       "  <thead>\n",
       "    <tr style=\"text-align: right;\">\n",
       "      <th></th>\n",
       "      <th>id</th>\n",
       "      <th>Area Name</th>\n",
       "    </tr>\n",
       "  </thead>\n",
       "  <tbody>\n",
       "    <tr>\n",
       "      <th>0</th>\n",
       "      <td>0500000US13001</td>\n",
       "      <td>Appling County, Georgia</td>\n",
       "    </tr>\n",
       "    <tr>\n",
       "      <th>1</th>\n",
       "      <td>0500000US13003</td>\n",
       "      <td>Atkinson County, Georgia</td>\n",
       "    </tr>\n",
       "    <tr>\n",
       "      <th>2</th>\n",
       "      <td>0500000US13005</td>\n",
       "      <td>Bacon County, Georgia</td>\n",
       "    </tr>\n",
       "    <tr>\n",
       "      <th>3</th>\n",
       "      <td>0500000US13007</td>\n",
       "      <td>Baker County, Georgia</td>\n",
       "    </tr>\n",
       "    <tr>\n",
       "      <th>4</th>\n",
       "      <td>0500000US13009</td>\n",
       "      <td>Baldwin County, Georgia</td>\n",
       "    </tr>\n",
       "  </tbody>\n",
       "</table>\n",
       "</div>"
      ],
      "text/plain": [
       "               id                 Area Name\n",
       "0  0500000US13001   Appling County, Georgia\n",
       "1  0500000US13003  Atkinson County, Georgia\n",
       "2  0500000US13005     Bacon County, Georgia\n",
       "3  0500000US13007     Baker County, Georgia\n",
       "4  0500000US13009   Baldwin County, Georgia"
      ]
     },
     "execution_count": 38,
     "metadata": {},
     "output_type": "execute_result"
    }
   ],
   "source": [
    "race_copy = race_county[['id', 'Area Name']]\n",
    "race_copy.head()"
   ]
  },
  {
   "cell_type": "code",
   "execution_count": 39,
   "metadata": {},
   "outputs": [
    {
     "name": "stderr",
     "output_type": "stream",
     "text": [
      "/var/folders/69/g7qpbbld5z521nw3t9pxsq1c0000gp/T/ipykernel_55510/1577194440.py:1: SettingWithCopyWarning: \n",
      "A value is trying to be set on a copy of a slice from a DataFrame.\n",
      "Try using .loc[row_indexer,col_indexer] = value instead\n",
      "\n",
      "See the caveats in the documentation: https://pandas.pydata.org/pandas-docs/stable/user_guide/indexing.html#returning-a-view-versus-a-copy\n",
      "  race_copy['id'] = race_copy['id'].str[7:]\n"
     ]
    }
   ],
   "source": [
    "race_copy['id'] = race_copy['id'].str[7:]"
   ]
  },
  {
   "cell_type": "code",
   "execution_count": 40,
   "metadata": {},
   "outputs": [
    {
     "name": "stderr",
     "output_type": "stream",
     "text": [
      "/var/folders/69/g7qpbbld5z521nw3t9pxsq1c0000gp/T/ipykernel_55510/3406855722.py:1: SettingWithCopyWarning: \n",
      "A value is trying to be set on a copy of a slice from a DataFrame.\n",
      "Try using .loc[row_indexer,col_indexer] = value instead\n",
      "\n",
      "See the caveats in the documentation: https://pandas.pydata.org/pandas-docs/stable/user_guide/indexing.html#returning-a-view-versus-a-copy\n",
      "  race_copy['Area Name'] = race_copy['Area Name'].str.replace(' County, Georgia','')\n"
     ]
    }
   ],
   "source": [
    "race_copy['Area Name'] = race_copy['Area Name'].str.replace(' County, Georgia','')\n"
   ]
  },
  {
   "cell_type": "code",
   "execution_count": null,
   "metadata": {},
   "outputs": [],
   "source": [
    "race_copy.head()"
   ]
  },
  {
   "cell_type": "code",
   "execution_count": 41,
   "metadata": {},
   "outputs": [],
   "source": [
    "merged = pd.merge(polling_site_precinct, race_copy, how=\"inner\", on=None, left_on=['county_name'], right_on=['Area Name'])\n"
   ]
  },
  {
   "cell_type": "code",
   "execution_count": 42,
   "metadata": {},
   "outputs": [],
   "source": [
    "polling_site_precinct = merged[['id', 'Area Name', 'precinct_id']]"
   ]
  },
  {
   "cell_type": "code",
   "execution_count": null,
   "metadata": {},
   "outputs": [],
   "source": [
    "polling_site_precinct.head(20)"
   ]
  },
  {
   "cell_type": "code",
   "execution_count": 43,
   "metadata": {},
   "outputs": [
    {
     "name": "stderr",
     "output_type": "stream",
     "text": [
      "/var/folders/69/g7qpbbld5z521nw3t9pxsq1c0000gp/T/ipykernel_55510/2529592066.py:1: SettingWithCopyWarning: \n",
      "A value is trying to be set on a copy of a slice from a DataFrame.\n",
      "Try using .loc[row_indexer,col_indexer] = value instead\n",
      "\n",
      "See the caveats in the documentation: https://pandas.pydata.org/pandas-docs/stable/user_guide/indexing.html#returning-a-view-versus-a-copy\n",
      "  polling_site_precinct[\"precinct_id\"]= polling_site_precinct[\"precinct_id\"].astype(str)\n"
     ]
    }
   ],
   "source": [
    "polling_site_precinct[\"precinct_id\"]= polling_site_precinct[\"precinct_id\"].astype(str)"
   ]
  },
  {
   "cell_type": "code",
   "execution_count": null,
   "metadata": {},
   "outputs": [],
   "source": [
    "polling_site_precinct.info(verbose=True)"
   ]
  },
  {
   "cell_type": "code",
   "execution_count": 44,
   "metadata": {},
   "outputs": [
    {
     "name": "stderr",
     "output_type": "stream",
     "text": [
      "/var/folders/69/g7qpbbld5z521nw3t9pxsq1c0000gp/T/ipykernel_55510/1551790899.py:1: SettingWithCopyWarning: \n",
      "A value is trying to be set on a copy of a slice from a DataFrame.\n",
      "Try using .loc[row_indexer,col_indexer] = value instead\n",
      "\n",
      "See the caveats in the documentation: https://pandas.pydata.org/pandas-docs/stable/user_guide/indexing.html#returning-a-view-versus-a-copy\n",
      "  polling_site_precinct['precinct_id'] = polling_site_precinct['precinct_id'].str.zfill(6)\n"
     ]
    }
   ],
   "source": [
    "\n",
    "polling_site_precinct['precinct_id'] = polling_site_precinct['precinct_id'].str.zfill(6)"
   ]
  },
  {
   "cell_type": "code",
   "execution_count": null,
   "metadata": {},
   "outputs": [],
   "source": [
    "polling_site_precinct.head(20)"
   ]
  },
  {
   "cell_type": "code",
   "execution_count": 45,
   "metadata": {},
   "outputs": [
    {
     "name": "stderr",
     "output_type": "stream",
     "text": [
      "/var/folders/69/g7qpbbld5z521nw3t9pxsq1c0000gp/T/ipykernel_55510/3540662483.py:1: SettingWithCopyWarning: \n",
      "A value is trying to be set on a copy of a slice from a DataFrame.\n",
      "Try using .loc[row_indexer,col_indexer] = value instead\n",
      "\n",
      "See the caveats in the documentation: https://pandas.pydata.org/pandas-docs/stable/user_guide/indexing.html#returning-a-view-versus-a-copy\n",
      "  polling_site_precinct['Geographic Id'] = polling_site_precinct['id'] + polling_site_precinct['precinct_id']\n"
     ]
    }
   ],
   "source": [
    "polling_site_precinct['Geographic Id'] = polling_site_precinct['id'] + polling_site_precinct['precinct_id']"
   ]
  },
  {
   "cell_type": "code",
   "execution_count": 46,
   "metadata": {},
   "outputs": [
    {
     "name": "stderr",
     "output_type": "stream",
     "text": [
      "/var/folders/69/g7qpbbld5z521nw3t9pxsq1c0000gp/T/ipykernel_55510/3959898076.py:1: SettingWithCopyWarning: \n",
      "A value is trying to be set on a copy of a slice from a DataFrame.\n",
      "Try using .loc[row_indexer,col_indexer] = value instead\n",
      "\n",
      "See the caveats in the documentation: https://pandas.pydata.org/pandas-docs/stable/user_guide/indexing.html#returning-a-view-versus-a-copy\n",
      "  polling_site_precinct['Geographic Id'] = '7000000' + polling_site_precinct['Geographic Id'].astype(str)\n"
     ]
    }
   ],
   "source": [
    "polling_site_precinct['Geographic Id'] = '7000000' + polling_site_precinct['Geographic Id'].astype(str)"
   ]
  },
  {
   "cell_type": "code",
   "execution_count": 47,
   "metadata": {},
   "outputs": [],
   "source": [
    "polling_site_precinct = polling_site_precinct[['Area Name', 'Geographic Id']]"
   ]
  },
  {
   "cell_type": "code",
   "execution_count": 48,
   "metadata": {},
   "outputs": [],
   "source": [
    "polling_site_precinct.rename(columns = {'Area Name': 'County', 'Geographic Id': 'Id'}, inplace = True)"
   ]
  },
  {
   "cell_type": "code",
   "execution_count": 49,
   "metadata": {},
   "outputs": [
    {
     "data": {
      "text/html": [
       "<div>\n",
       "<style scoped>\n",
       "    .dataframe tbody tr th:only-of-type {\n",
       "        vertical-align: middle;\n",
       "    }\n",
       "\n",
       "    .dataframe tbody tr th {\n",
       "        vertical-align: top;\n",
       "    }\n",
       "\n",
       "    .dataframe thead th {\n",
       "        text-align: right;\n",
       "    }\n",
       "</style>\n",
       "<table border=\"1\" class=\"dataframe\">\n",
       "  <thead>\n",
       "    <tr style=\"text-align: right;\">\n",
       "      <th></th>\n",
       "      <th>County</th>\n",
       "      <th>Id</th>\n",
       "    </tr>\n",
       "  </thead>\n",
       "  <tbody>\n",
       "    <tr>\n",
       "      <th>0</th>\n",
       "      <td>Appling</td>\n",
       "      <td>7000000US13001000002</td>\n",
       "    </tr>\n",
       "    <tr>\n",
       "      <th>1</th>\n",
       "      <td>Appling</td>\n",
       "      <td>7000000US1300100001C</td>\n",
       "    </tr>\n",
       "    <tr>\n",
       "      <th>2</th>\n",
       "      <td>Appling</td>\n",
       "      <td>7000000US1300100001B</td>\n",
       "    </tr>\n",
       "    <tr>\n",
       "      <th>3</th>\n",
       "      <td>Appling</td>\n",
       "      <td>7000000US1300100004D</td>\n",
       "    </tr>\n",
       "    <tr>\n",
       "      <th>4</th>\n",
       "      <td>Appling</td>\n",
       "      <td>7000000US1300100005A</td>\n",
       "    </tr>\n",
       "    <tr>\n",
       "      <th>...</th>\n",
       "      <td>...</td>\n",
       "      <td>...</td>\n",
       "    </tr>\n",
       "    <tr>\n",
       "      <th>2465</th>\n",
       "      <td>Worth</td>\n",
       "      <td>7000000US13321000005</td>\n",
       "    </tr>\n",
       "    <tr>\n",
       "      <th>2466</th>\n",
       "      <td>Worth</td>\n",
       "      <td>7000000US13321000004</td>\n",
       "    </tr>\n",
       "    <tr>\n",
       "      <th>2467</th>\n",
       "      <td>Worth</td>\n",
       "      <td>7000000US13321000014</td>\n",
       "    </tr>\n",
       "    <tr>\n",
       "      <th>2468</th>\n",
       "      <td>Worth</td>\n",
       "      <td>7000000US13321000009</td>\n",
       "    </tr>\n",
       "    <tr>\n",
       "      <th>2469</th>\n",
       "      <td>Worth</td>\n",
       "      <td>7000000US13321000015</td>\n",
       "    </tr>\n",
       "  </tbody>\n",
       "</table>\n",
       "<p>2470 rows × 2 columns</p>\n",
       "</div>"
      ],
      "text/plain": [
       "       County                    Id\n",
       "0     Appling  7000000US13001000002\n",
       "1     Appling  7000000US1300100001C\n",
       "2     Appling  7000000US1300100001B\n",
       "3     Appling  7000000US1300100004D\n",
       "4     Appling  7000000US1300100005A\n",
       "...       ...                   ...\n",
       "2465    Worth  7000000US13321000005\n",
       "2466    Worth  7000000US13321000004\n",
       "2467    Worth  7000000US13321000014\n",
       "2468    Worth  7000000US13321000009\n",
       "2469    Worth  7000000US13321000015\n",
       "\n",
       "[2470 rows x 2 columns]"
      ]
     },
     "execution_count": 49,
     "metadata": {},
     "output_type": "execute_result"
    }
   ],
   "source": [
    "polling_site_precinct"
   ]
  },
  {
   "cell_type": "code",
   "execution_count": 50,
   "metadata": {},
   "outputs": [],
   "source": [
    "polling_site_precinct.to_csv('data/polling_site_data_new/clean_precincts.csv')"
   ]
  },
  {
   "cell_type": "markdown",
   "metadata": {},
   "source": [
    "Merging the dataframe with polling sites with the dataframe with race to give a dataframe with a column with 0's and 1's"
   ]
  },
  {
   "cell_type": "code",
   "execution_count": 51,
   "metadata": {},
   "outputs": [],
   "source": [
    "polling_site_precinct_binary =  pd.read_csv('data/polling_site_data_new/clean_precincts.csv', index_col = 0)"
   ]
  },
  {
   "cell_type": "code",
   "execution_count": 52,
   "metadata": {},
   "outputs": [],
   "source": [
    "polling_site_precinct_binary.insert(2, \"Polling Site\", 1)"
   ]
  },
  {
   "cell_type": "code",
   "execution_count": 53,
   "metadata": {},
   "outputs": [
    {
     "data": {
      "text/html": [
       "<div>\n",
       "<style scoped>\n",
       "    .dataframe tbody tr th:only-of-type {\n",
       "        vertical-align: middle;\n",
       "    }\n",
       "\n",
       "    .dataframe tbody tr th {\n",
       "        vertical-align: top;\n",
       "    }\n",
       "\n",
       "    .dataframe thead th {\n",
       "        text-align: right;\n",
       "    }\n",
       "</style>\n",
       "<table border=\"1\" class=\"dataframe\">\n",
       "  <thead>\n",
       "    <tr style=\"text-align: right;\">\n",
       "      <th></th>\n",
       "      <th>County</th>\n",
       "      <th>Id</th>\n",
       "      <th>Polling Site</th>\n",
       "    </tr>\n",
       "  </thead>\n",
       "  <tbody>\n",
       "    <tr>\n",
       "      <th>0</th>\n",
       "      <td>Appling</td>\n",
       "      <td>7000000US13001000002</td>\n",
       "      <td>1</td>\n",
       "    </tr>\n",
       "    <tr>\n",
       "      <th>1</th>\n",
       "      <td>Appling</td>\n",
       "      <td>7000000US1300100001C</td>\n",
       "      <td>1</td>\n",
       "    </tr>\n",
       "    <tr>\n",
       "      <th>2</th>\n",
       "      <td>Appling</td>\n",
       "      <td>7000000US1300100001B</td>\n",
       "      <td>1</td>\n",
       "    </tr>\n",
       "    <tr>\n",
       "      <th>3</th>\n",
       "      <td>Appling</td>\n",
       "      <td>7000000US1300100004D</td>\n",
       "      <td>1</td>\n",
       "    </tr>\n",
       "    <tr>\n",
       "      <th>4</th>\n",
       "      <td>Appling</td>\n",
       "      <td>7000000US1300100005A</td>\n",
       "      <td>1</td>\n",
       "    </tr>\n",
       "  </tbody>\n",
       "</table>\n",
       "</div>"
      ],
      "text/plain": [
       "    County                    Id  Polling Site\n",
       "0  Appling  7000000US13001000002             1\n",
       "1  Appling  7000000US1300100001C             1\n",
       "2  Appling  7000000US1300100001B             1\n",
       "3  Appling  7000000US1300100004D             1\n",
       "4  Appling  7000000US1300100005A             1"
      ]
     },
     "execution_count": 53,
     "metadata": {},
     "output_type": "execute_result"
    }
   ],
   "source": [
    "polling_site_precinct_binary.head()"
   ]
  },
  {
   "cell_type": "code",
   "execution_count": 54,
   "metadata": {},
   "outputs": [],
   "source": [
    "race_precinct = pd.read_csv('data/race_precinct_data/cleaned_georgia_race_precinct_densities.csv', index_col = 0)"
   ]
  },
  {
   "cell_type": "code",
   "execution_count": 55,
   "metadata": {},
   "outputs": [
    {
     "name": "stdout",
     "output_type": "stream",
     "text": [
      "(2685, 15)\n",
      "(2470, 3)\n"
     ]
    }
   ],
   "source": [
    "print(race_precinct.shape)\n",
    "print(polling_site_precinct_binary.shape)"
   ]
  },
  {
   "cell_type": "code",
   "execution_count": 87,
   "metadata": {},
   "outputs": [],
   "source": [
    "merged = race_precinct.merge(polling_site_precinct_binary, how='left', left_on='id', right_on='Id')"
   ]
  },
  {
   "cell_type": "code",
   "execution_count": 88,
   "metadata": {},
   "outputs": [
    {
     "data": {
      "text/html": [
       "<div>\n",
       "<style scoped>\n",
       "    .dataframe tbody tr th:only-of-type {\n",
       "        vertical-align: middle;\n",
       "    }\n",
       "\n",
       "    .dataframe tbody tr th {\n",
       "        vertical-align: top;\n",
       "    }\n",
       "\n",
       "    .dataframe thead th {\n",
       "        text-align: right;\n",
       "    }\n",
       "</style>\n",
       "<table border=\"1\" class=\"dataframe\">\n",
       "  <thead>\n",
       "    <tr style=\"text-align: right;\">\n",
       "      <th></th>\n",
       "      <th>Area Name</th>\n",
       "      <th>id</th>\n",
       "      <th>Total</th>\n",
       "      <th>Hispanic</th>\n",
       "      <th>White</th>\n",
       "      <th>Black</th>\n",
       "      <th>Asian</th>\n",
       "      <th>Mixed</th>\n",
       "      <th>Others</th>\n",
       "      <th>Population Density: Hispanic</th>\n",
       "      <th>Population Density: White</th>\n",
       "      <th>Population Density: Black</th>\n",
       "      <th>Population Density: Asian</th>\n",
       "      <th>Population Density: Mixed</th>\n",
       "      <th>Population Density: Others</th>\n",
       "      <th>County</th>\n",
       "      <th>Id</th>\n",
       "      <th>Polling Site</th>\n",
       "    </tr>\n",
       "  </thead>\n",
       "  <tbody>\n",
       "    <tr>\n",
       "      <th>51</th>\n",
       "      <td>06, Barrow County, Georgia</td>\n",
       "      <td>7000000US13013000006</td>\n",
       "      <td>3656</td>\n",
       "      <td>334</td>\n",
       "      <td>2430</td>\n",
       "      <td>493</td>\n",
       "      <td>175</td>\n",
       "      <td>179</td>\n",
       "      <td>45</td>\n",
       "      <td>0.091357</td>\n",
       "      <td>0.664661</td>\n",
       "      <td>0.134847</td>\n",
       "      <td>0.047867</td>\n",
       "      <td>0.048961</td>\n",
       "      <td>0.012309</td>\n",
       "      <td>NaN</td>\n",
       "      <td>NaN</td>\n",
       "      <td>NaN</td>\n",
       "    </tr>\n",
       "    <tr>\n",
       "      <th>52</th>\n",
       "      <td>07, Barrow County, Georgia</td>\n",
       "      <td>7000000US13013000007</td>\n",
       "      <td>4524</td>\n",
       "      <td>413</td>\n",
       "      <td>3084</td>\n",
       "      <td>700</td>\n",
       "      <td>114</td>\n",
       "      <td>196</td>\n",
       "      <td>17</td>\n",
       "      <td>0.091291</td>\n",
       "      <td>0.681698</td>\n",
       "      <td>0.154730</td>\n",
       "      <td>0.025199</td>\n",
       "      <td>0.043324</td>\n",
       "      <td>0.003758</td>\n",
       "      <td>NaN</td>\n",
       "      <td>NaN</td>\n",
       "      <td>NaN</td>\n",
       "    </tr>\n",
       "    <tr>\n",
       "      <th>54</th>\n",
       "      <td>09, Barrow County, Georgia</td>\n",
       "      <td>7000000US13013000009</td>\n",
       "      <td>5165</td>\n",
       "      <td>698</td>\n",
       "      <td>3620</td>\n",
       "      <td>494</td>\n",
       "      <td>139</td>\n",
       "      <td>194</td>\n",
       "      <td>20</td>\n",
       "      <td>0.135140</td>\n",
       "      <td>0.700871</td>\n",
       "      <td>0.095644</td>\n",
       "      <td>0.026912</td>\n",
       "      <td>0.037561</td>\n",
       "      <td>0.003872</td>\n",
       "      <td>NaN</td>\n",
       "      <td>NaN</td>\n",
       "      <td>NaN</td>\n",
       "    </tr>\n",
       "    <tr>\n",
       "      <th>55</th>\n",
       "      <td>10, Barrow County, Georgia</td>\n",
       "      <td>7000000US13013000010</td>\n",
       "      <td>5978</td>\n",
       "      <td>951</td>\n",
       "      <td>2796</td>\n",
       "      <td>1720</td>\n",
       "      <td>172</td>\n",
       "      <td>268</td>\n",
       "      <td>71</td>\n",
       "      <td>0.159083</td>\n",
       "      <td>0.467715</td>\n",
       "      <td>0.287722</td>\n",
       "      <td>0.028772</td>\n",
       "      <td>0.044831</td>\n",
       "      <td>0.011877</td>\n",
       "      <td>NaN</td>\n",
       "      <td>NaN</td>\n",
       "      <td>NaN</td>\n",
       "    </tr>\n",
       "    <tr>\n",
       "      <th>56</th>\n",
       "      <td>11, Barrow County, Georgia</td>\n",
       "      <td>7000000US13013000011</td>\n",
       "      <td>7348</td>\n",
       "      <td>1377</td>\n",
       "      <td>4001</td>\n",
       "      <td>1310</td>\n",
       "      <td>256</td>\n",
       "      <td>332</td>\n",
       "      <td>72</td>\n",
       "      <td>0.187398</td>\n",
       "      <td>0.544502</td>\n",
       "      <td>0.178280</td>\n",
       "      <td>0.034839</td>\n",
       "      <td>0.045182</td>\n",
       "      <td>0.009799</td>\n",
       "      <td>NaN</td>\n",
       "      <td>NaN</td>\n",
       "      <td>NaN</td>\n",
       "    </tr>\n",
       "    <tr>\n",
       "      <th>...</th>\n",
       "      <td>...</td>\n",
       "      <td>...</td>\n",
       "      <td>...</td>\n",
       "      <td>...</td>\n",
       "      <td>...</td>\n",
       "      <td>...</td>\n",
       "      <td>...</td>\n",
       "      <td>...</td>\n",
       "      <td>...</td>\n",
       "      <td>...</td>\n",
       "      <td>...</td>\n",
       "      <td>...</td>\n",
       "      <td>...</td>\n",
       "      <td>...</td>\n",
       "      <td>...</td>\n",
       "      <td>...</td>\n",
       "      <td>...</td>\n",
       "      <td>...</td>\n",
       "    </tr>\n",
       "    <tr>\n",
       "      <th>2586</th>\n",
       "      <td>3015 - RICKETSON Voting District, Warren Count...</td>\n",
       "      <td>7000000US13301000005</td>\n",
       "      <td>429</td>\n",
       "      <td>8</td>\n",
       "      <td>341</td>\n",
       "      <td>64</td>\n",
       "      <td>0</td>\n",
       "      <td>12</td>\n",
       "      <td>4</td>\n",
       "      <td>0.018648</td>\n",
       "      <td>0.794872</td>\n",
       "      <td>0.149184</td>\n",
       "      <td>0.000000</td>\n",
       "      <td>0.027972</td>\n",
       "      <td>0.009324</td>\n",
       "      <td>NaN</td>\n",
       "      <td>NaN</td>\n",
       "      <td>NaN</td>\n",
       "    </tr>\n",
       "    <tr>\n",
       "      <th>2587</th>\n",
       "      <td>3016 - PAN HANDLE Voting District, Warren Coun...</td>\n",
       "      <td>7000000US13301000006</td>\n",
       "      <td>113</td>\n",
       "      <td>3</td>\n",
       "      <td>95</td>\n",
       "      <td>10</td>\n",
       "      <td>0</td>\n",
       "      <td>5</td>\n",
       "      <td>0</td>\n",
       "      <td>0.026549</td>\n",
       "      <td>0.840708</td>\n",
       "      <td>0.088496</td>\n",
       "      <td>0.000000</td>\n",
       "      <td>0.044248</td>\n",
       "      <td>0.000000</td>\n",
       "      <td>NaN</td>\n",
       "      <td>NaN</td>\n",
       "      <td>NaN</td>\n",
       "    </tr>\n",
       "    <tr>\n",
       "      <th>2608</th>\n",
       "      <td>307G3 - GOOSEBERRY 3 Voting District, Webster ...</td>\n",
       "      <td>7000000US133070000G3</td>\n",
       "      <td>239</td>\n",
       "      <td>4</td>\n",
       "      <td>188</td>\n",
       "      <td>40</td>\n",
       "      <td>0</td>\n",
       "      <td>6</td>\n",
       "      <td>1</td>\n",
       "      <td>0.016736</td>\n",
       "      <td>0.786611</td>\n",
       "      <td>0.167364</td>\n",
       "      <td>0.000000</td>\n",
       "      <td>0.025105</td>\n",
       "      <td>0.004184</td>\n",
       "      <td>NaN</td>\n",
       "      <td>NaN</td>\n",
       "      <td>NaN</td>\n",
       "    </tr>\n",
       "    <tr>\n",
       "      <th>2610</th>\n",
       "      <td>307P3 - PRESTON 3 Voting District, Webster Cou...</td>\n",
       "      <td>7000000US133070000P3</td>\n",
       "      <td>297</td>\n",
       "      <td>8</td>\n",
       "      <td>198</td>\n",
       "      <td>78</td>\n",
       "      <td>0</td>\n",
       "      <td>12</td>\n",
       "      <td>1</td>\n",
       "      <td>0.026936</td>\n",
       "      <td>0.666667</td>\n",
       "      <td>0.262626</td>\n",
       "      <td>0.000000</td>\n",
       "      <td>0.040404</td>\n",
       "      <td>0.003367</td>\n",
       "      <td>NaN</td>\n",
       "      <td>NaN</td>\n",
       "      <td>NaN</td>\n",
       "    </tr>\n",
       "    <tr>\n",
       "      <th>2611</th>\n",
       "      <td>307W2 - WESTON 2 Voting District, Webster Coun...</td>\n",
       "      <td>7000000US133070000W2</td>\n",
       "      <td>594</td>\n",
       "      <td>10</td>\n",
       "      <td>275</td>\n",
       "      <td>286</td>\n",
       "      <td>6</td>\n",
       "      <td>17</td>\n",
       "      <td>0</td>\n",
       "      <td>0.016835</td>\n",
       "      <td>0.462963</td>\n",
       "      <td>0.481481</td>\n",
       "      <td>0.010101</td>\n",
       "      <td>0.028620</td>\n",
       "      <td>0.000000</td>\n",
       "      <td>NaN</td>\n",
       "      <td>NaN</td>\n",
       "      <td>NaN</td>\n",
       "    </tr>\n",
       "  </tbody>\n",
       "</table>\n",
       "<p>311 rows × 18 columns</p>\n",
       "</div>"
      ],
      "text/plain": [
       "                                              Area Name                    id  \\\n",
       "51                           06, Barrow County, Georgia  7000000US13013000006   \n",
       "52                           07, Barrow County, Georgia  7000000US13013000007   \n",
       "54                           09, Barrow County, Georgia  7000000US13013000009   \n",
       "55                           10, Barrow County, Georgia  7000000US13013000010   \n",
       "56                           11, Barrow County, Georgia  7000000US13013000011   \n",
       "...                                                 ...                   ...   \n",
       "2586  3015 - RICKETSON Voting District, Warren Count...  7000000US13301000005   \n",
       "2587  3016 - PAN HANDLE Voting District, Warren Coun...  7000000US13301000006   \n",
       "2608  307G3 - GOOSEBERRY 3 Voting District, Webster ...  7000000US133070000G3   \n",
       "2610  307P3 - PRESTON 3 Voting District, Webster Cou...  7000000US133070000P3   \n",
       "2611  307W2 - WESTON 2 Voting District, Webster Coun...  7000000US133070000W2   \n",
       "\n",
       "      Total  Hispanic  White  Black  Asian  Mixed  Others  \\\n",
       "51     3656       334   2430    493    175    179      45   \n",
       "52     4524       413   3084    700    114    196      17   \n",
       "54     5165       698   3620    494    139    194      20   \n",
       "55     5978       951   2796   1720    172    268      71   \n",
       "56     7348      1377   4001   1310    256    332      72   \n",
       "...     ...       ...    ...    ...    ...    ...     ...   \n",
       "2586    429         8    341     64      0     12       4   \n",
       "2587    113         3     95     10      0      5       0   \n",
       "2608    239         4    188     40      0      6       1   \n",
       "2610    297         8    198     78      0     12       1   \n",
       "2611    594        10    275    286      6     17       0   \n",
       "\n",
       "      Population Density: Hispanic  Population Density: White  \\\n",
       "51                        0.091357                   0.664661   \n",
       "52                        0.091291                   0.681698   \n",
       "54                        0.135140                   0.700871   \n",
       "55                        0.159083                   0.467715   \n",
       "56                        0.187398                   0.544502   \n",
       "...                            ...                        ...   \n",
       "2586                      0.018648                   0.794872   \n",
       "2587                      0.026549                   0.840708   \n",
       "2608                      0.016736                   0.786611   \n",
       "2610                      0.026936                   0.666667   \n",
       "2611                      0.016835                   0.462963   \n",
       "\n",
       "      Population Density: Black  Population Density: Asian  \\\n",
       "51                     0.134847                   0.047867   \n",
       "52                     0.154730                   0.025199   \n",
       "54                     0.095644                   0.026912   \n",
       "55                     0.287722                   0.028772   \n",
       "56                     0.178280                   0.034839   \n",
       "...                         ...                        ...   \n",
       "2586                   0.149184                   0.000000   \n",
       "2587                   0.088496                   0.000000   \n",
       "2608                   0.167364                   0.000000   \n",
       "2610                   0.262626                   0.000000   \n",
       "2611                   0.481481                   0.010101   \n",
       "\n",
       "      Population Density: Mixed  Population Density: Others County   Id  \\\n",
       "51                     0.048961                    0.012309    NaN  NaN   \n",
       "52                     0.043324                    0.003758    NaN  NaN   \n",
       "54                     0.037561                    0.003872    NaN  NaN   \n",
       "55                     0.044831                    0.011877    NaN  NaN   \n",
       "56                     0.045182                    0.009799    NaN  NaN   \n",
       "...                         ...                         ...    ...  ...   \n",
       "2586                   0.027972                    0.009324    NaN  NaN   \n",
       "2587                   0.044248                    0.000000    NaN  NaN   \n",
       "2608                   0.025105                    0.004184    NaN  NaN   \n",
       "2610                   0.040404                    0.003367    NaN  NaN   \n",
       "2611                   0.028620                    0.000000    NaN  NaN   \n",
       "\n",
       "      Polling Site  \n",
       "51             NaN  \n",
       "52             NaN  \n",
       "54             NaN  \n",
       "55             NaN  \n",
       "56             NaN  \n",
       "...            ...  \n",
       "2586           NaN  \n",
       "2587           NaN  \n",
       "2608           NaN  \n",
       "2610           NaN  \n",
       "2611           NaN  \n",
       "\n",
       "[311 rows x 18 columns]"
      ]
     },
     "execution_count": 88,
     "metadata": {},
     "output_type": "execute_result"
    }
   ],
   "source": [
    "merged_isna = merged[merged.isna().any(axis=1)]\n",
    "merged_isna"
   ]
  },
  {
   "cell_type": "code",
   "execution_count": 89,
   "metadata": {},
   "outputs": [],
   "source": [
    "merged.fillna(0, inplace = True)"
   ]
  },
  {
   "cell_type": "code",
   "execution_count": 85,
   "metadata": {},
   "outputs": [
    {
     "data": {
      "text/plain": [
       "Area Name                       0\n",
       "id                              0\n",
       "Total                           0\n",
       "Hispanic                        0\n",
       "White                           0\n",
       "Black                           0\n",
       "Asian                           0\n",
       "Mixed                           0\n",
       "Others                          0\n",
       "Population Density: Hispanic    0\n",
       "Population Density: White       0\n",
       "Population Density: Black       0\n",
       "Population Density: Asian       0\n",
       "Population Density: Mixed       0\n",
       "Population Density: Others      0\n",
       "Polling Site                    0\n",
       "dtype: int64"
      ]
     },
     "execution_count": 85,
     "metadata": {},
     "output_type": "execute_result"
    }
   ],
   "source": [
    "merged.isna().sum()"
   ]
  },
  {
   "cell_type": "code",
   "execution_count": 90,
   "metadata": {},
   "outputs": [
    {
     "data": {
      "text/html": [
       "<div>\n",
       "<style scoped>\n",
       "    .dataframe tbody tr th:only-of-type {\n",
       "        vertical-align: middle;\n",
       "    }\n",
       "\n",
       "    .dataframe tbody tr th {\n",
       "        vertical-align: top;\n",
       "    }\n",
       "\n",
       "    .dataframe thead th {\n",
       "        text-align: right;\n",
       "    }\n",
       "</style>\n",
       "<table border=\"1\" class=\"dataframe\">\n",
       "  <thead>\n",
       "    <tr style=\"text-align: right;\">\n",
       "      <th></th>\n",
       "      <th>Area Name</th>\n",
       "      <th>id</th>\n",
       "      <th>Total</th>\n",
       "      <th>Hispanic</th>\n",
       "      <th>White</th>\n",
       "      <th>Black</th>\n",
       "      <th>Asian</th>\n",
       "      <th>Mixed</th>\n",
       "      <th>Others</th>\n",
       "      <th>Population Density: Hispanic</th>\n",
       "      <th>Population Density: White</th>\n",
       "      <th>Population Density: Black</th>\n",
       "      <th>Population Density: Asian</th>\n",
       "      <th>Population Density: Mixed</th>\n",
       "      <th>Population Density: Others</th>\n",
       "      <th>Polling Site</th>\n",
       "    </tr>\n",
       "  </thead>\n",
       "  <tbody>\n",
       "    <tr>\n",
       "      <th>0</th>\n",
       "      <td>2, Appling County, Georgia</td>\n",
       "      <td>7000000US13001000002</td>\n",
       "      <td>3563</td>\n",
       "      <td>403</td>\n",
       "      <td>1215</td>\n",
       "      <td>1838</td>\n",
       "      <td>10</td>\n",
       "      <td>81</td>\n",
       "      <td>16</td>\n",
       "      <td>0.113107</td>\n",
       "      <td>0.341005</td>\n",
       "      <td>0.515857</td>\n",
       "      <td>0.002807</td>\n",
       "      <td>0.022734</td>\n",
       "      <td>0.004491</td>\n",
       "      <td>1.0</td>\n",
       "    </tr>\n",
       "    <tr>\n",
       "      <th>1</th>\n",
       "      <td>1B, Appling County, Georgia</td>\n",
       "      <td>7000000US1300100001B</td>\n",
       "      <td>1834</td>\n",
       "      <td>76</td>\n",
       "      <td>1575</td>\n",
       "      <td>109</td>\n",
       "      <td>3</td>\n",
       "      <td>63</td>\n",
       "      <td>8</td>\n",
       "      <td>0.041439</td>\n",
       "      <td>0.858779</td>\n",
       "      <td>0.059433</td>\n",
       "      <td>0.001636</td>\n",
       "      <td>0.034351</td>\n",
       "      <td>0.004362</td>\n",
       "      <td>1.0</td>\n",
       "    </tr>\n",
       "    <tr>\n",
       "      <th>2</th>\n",
       "      <td>1C, Appling County, Georgia</td>\n",
       "      <td>7000000US1300100001C</td>\n",
       "      <td>1538</td>\n",
       "      <td>116</td>\n",
       "      <td>1242</td>\n",
       "      <td>150</td>\n",
       "      <td>5</td>\n",
       "      <td>25</td>\n",
       "      <td>0</td>\n",
       "      <td>0.075423</td>\n",
       "      <td>0.807542</td>\n",
       "      <td>0.097529</td>\n",
       "      <td>0.003251</td>\n",
       "      <td>0.016255</td>\n",
       "      <td>0.000000</td>\n",
       "      <td>1.0</td>\n",
       "    </tr>\n",
       "    <tr>\n",
       "      <th>3</th>\n",
       "      <td>3C, Appling County, Georgia</td>\n",
       "      <td>7000000US1300100003C</td>\n",
       "      <td>2515</td>\n",
       "      <td>263</td>\n",
       "      <td>1528</td>\n",
       "      <td>608</td>\n",
       "      <td>39</td>\n",
       "      <td>69</td>\n",
       "      <td>8</td>\n",
       "      <td>0.104573</td>\n",
       "      <td>0.607555</td>\n",
       "      <td>0.241750</td>\n",
       "      <td>0.015507</td>\n",
       "      <td>0.027435</td>\n",
       "      <td>0.003181</td>\n",
       "      <td>1.0</td>\n",
       "    </tr>\n",
       "    <tr>\n",
       "      <th>4</th>\n",
       "      <td>4B, Appling County, Georgia</td>\n",
       "      <td>7000000US1300100004B</td>\n",
       "      <td>1321</td>\n",
       "      <td>62</td>\n",
       "      <td>1147</td>\n",
       "      <td>59</td>\n",
       "      <td>5</td>\n",
       "      <td>43</td>\n",
       "      <td>5</td>\n",
       "      <td>0.046934</td>\n",
       "      <td>0.868282</td>\n",
       "      <td>0.044663</td>\n",
       "      <td>0.003785</td>\n",
       "      <td>0.032551</td>\n",
       "      <td>0.003785</td>\n",
       "      <td>1.0</td>\n",
       "    </tr>\n",
       "  </tbody>\n",
       "</table>\n",
       "</div>"
      ],
      "text/plain": [
       "                     Area Name                    id  Total  Hispanic  White  \\\n",
       "0   2, Appling County, Georgia  7000000US13001000002   3563       403   1215   \n",
       "1  1B, Appling County, Georgia  7000000US1300100001B   1834        76   1575   \n",
       "2  1C, Appling County, Georgia  7000000US1300100001C   1538       116   1242   \n",
       "3  3C, Appling County, Georgia  7000000US1300100003C   2515       263   1528   \n",
       "4  4B, Appling County, Georgia  7000000US1300100004B   1321        62   1147   \n",
       "\n",
       "   Black  Asian  Mixed  Others  Population Density: Hispanic  \\\n",
       "0   1838     10     81      16                      0.113107   \n",
       "1    109      3     63       8                      0.041439   \n",
       "2    150      5     25       0                      0.075423   \n",
       "3    608     39     69       8                      0.104573   \n",
       "4     59      5     43       5                      0.046934   \n",
       "\n",
       "   Population Density: White  Population Density: Black  \\\n",
       "0                   0.341005                   0.515857   \n",
       "1                   0.858779                   0.059433   \n",
       "2                   0.807542                   0.097529   \n",
       "3                   0.607555                   0.241750   \n",
       "4                   0.868282                   0.044663   \n",
       "\n",
       "   Population Density: Asian  Population Density: Mixed  \\\n",
       "0                   0.002807                   0.022734   \n",
       "1                   0.001636                   0.034351   \n",
       "2                   0.003251                   0.016255   \n",
       "3                   0.015507                   0.027435   \n",
       "4                   0.003785                   0.032551   \n",
       "\n",
       "   Population Density: Others  Polling Site  \n",
       "0                    0.004491           1.0  \n",
       "1                    0.004362           1.0  \n",
       "2                    0.000000           1.0  \n",
       "3                    0.003181           1.0  \n",
       "4                    0.003785           1.0  "
      ]
     },
     "execution_count": 90,
     "metadata": {},
     "output_type": "execute_result"
    }
   ],
   "source": [
    "merged.drop(['Id', 'County'], axis=1, inplace = True)\n",
    "merged.head()"
   ]
  },
  {
   "cell_type": "code",
   "execution_count": 94,
   "metadata": {},
   "outputs": [],
   "source": [
    "merged['Polling Site'] = merged['Polling Site'].astype(int)"
   ]
  },
  {
   "cell_type": "code",
   "execution_count": 95,
   "metadata": {},
   "outputs": [],
   "source": [
    "merged.to_csv('data/polling_site_data_new/clean_precincts_with_polling_site.csv')"
   ]
  },
  {
   "cell_type": "markdown",
   "metadata": {},
   "source": [
    "# (old test) Viewing the shapefile and checking if merging works for precinct"
   ]
  },
  {
   "cell_type": "code",
   "execution_count": null,
   "metadata": {},
   "outputs": [],
   "source": [
    "precinct = pd.read_csv(\"data/race_precinct_data/cleaned_georgia_race_precinct_densities.csv\")\n",
    "\n",
    "precinct.head(10)"
   ]
  },
  {
   "cell_type": "code",
   "execution_count": null,
   "metadata": {},
   "outputs": [],
   "source": [
    "shapefile = gpd.read_file(\"data/test/cb_2020_13_vtd_500k.shp\")\n",
    "\n",
    "shapefile.head(10)"
   ]
  },
  {
   "cell_type": "code",
   "execution_count": null,
   "metadata": {},
   "outputs": [],
   "source": [
    "merged = pd.merge(precinct, shapefile, left_on=precinct['id'], right_on=shapefile['AFFGEOID20'], how=\"left\")"
   ]
  },
  {
   "cell_type": "code",
   "execution_count": null,
   "metadata": {},
   "outputs": [],
   "source": [
    "merged"
   ]
  },
  {
   "cell_type": "code",
   "execution_count": null,
   "metadata": {},
   "outputs": [],
   "source": []
  },
  {
   "cell_type": "code",
   "execution_count": null,
   "metadata": {},
   "outputs": [],
   "source": [
    "\n",
    "# set the value column that will be visualised\n",
    "variable = 'Hispanic'\n",
    "# set the range for the choropleth values\n",
    "vmin, vmax = 0, 100\n",
    "# create figure and axes for Matplotlib\n",
    "fig, ax = plt.subplots(1, figsize=(30, 10))\n",
    "# remove the axis\n",
    "ax.axis('off')\n",
    "# add a title and annotation\n",
    "ax.set_title('White Choropleth Map', fontdict={'fontsize': '25', 'fontweight' : '3'})\n",
    "#ax.annotate('Source: Wikipedia - https://en.wikipedia.org/wiki/Provinces_of_Indonesia', xy=(0.6, .05), xycoords='figure fraction', fontsize=12, color='#555555')\n",
    "# Create colorbar legend\n",
    "sm = plt.cm.ScalarMappable(cmap='Blues', norm=plt.Normalize(vmin=vmin, vmax=vmax))\n",
    "# empty array for the data range\n",
    "sm.set_array([]) # or alternatively sm._A = []. Not sure why this step is necessary, but many recommends it\n",
    "# add the colorbar to the figure\n",
    "fig.colorbar(sm)\n",
    "# create map\n",
    "merged.plot(column=variable, cmap='Blues', linewidth=0.8, ax=ax, edgecolor='0.8')\n"
   ]
  },
  {
   "cell_type": "code",
   "execution_count": null,
   "metadata": {},
   "outputs": [],
   "source": [
    "print(race[race['Area Name'].str.contains('Fulton')])\n",
    "print(race[race['Area Name'].str.contains('Columbia')])"
   ]
  },
  {
   "cell_type": "markdown",
   "metadata": {},
   "source": [
    "The names of the area are different. Will remove ',', 'County' and ',Georgia from the race data. Then will create a new column joining the columns 'prec_shp' and 'locality'."
   ]
  },
  {
   "cell_type": "code",
   "execution_count": null,
   "metadata": {},
   "outputs": [],
   "source": [
    "def remove_string(string):\n",
    "    race['Area Name'] = race['Area Name'].str.replace(str(string), '')\n",
    "    race['Area Name'] = race['Area Name'].str.strip()\n",
    "\n",
    "remove_string(',')\n",
    "remove_string('County')\n",
    "remove_string('Georgia')"
   ]
  },
  {
   "cell_type": "code",
   "execution_count": null,
   "metadata": {},
   "outputs": [],
   "source": [
    "shapefile['Area Name'] = shapefile['prec_shp'].str.upper() + ' ' + shapefile['locality'].str.capitalize()\n",
    "\n",
    "shapefile['Area Name'].head(5)"
   ]
  },
  {
   "cell_type": "code",
   "execution_count": null,
   "metadata": {},
   "outputs": [],
   "source": [
    "print(race[race['Area Name'].str.contains('Fulton')])"
   ]
  },
  {
   "cell_type": "code",
   "execution_count": null,
   "metadata": {},
   "outputs": [],
   "source": [
    "shapefile[shapefile['Area Name'].str.contains('Appling')]"
   ]
  },
  {
   "cell_type": "code",
   "execution_count": null,
   "metadata": {},
   "outputs": [],
   "source": [
    "merged = pd.merge(race, shapefile, left_on=race['Area Name'].str.casefold(), right_on=shapefile['Area Name'].str.casefold(), how=\"left\")\n",
    "\n",
    "merged.head(5)"
   ]
  },
  {
   "cell_type": "code",
   "execution_count": null,
   "metadata": {},
   "outputs": [],
   "source": [
    "merged_isna = merged[merged.isna().any(axis=1)]"
   ]
  },
  {
   "cell_type": "markdown",
   "metadata": {},
   "source": [
    "exogenous random, not related to the research"
   ]
  },
  {
   "cell_type": "code",
   "execution_count": null,
   "metadata": {},
   "outputs": [],
   "source": [
    "print(merged_isna)"
   ]
  },
  {
   "cell_type": "code",
   "execution_count": null,
   "metadata": {},
   "outputs": [],
   "source": [
    "i = 0\n",
    "j = 0\n",
    "polling_site_precinct[\"county_id\"] = \"\"\n",
    "\n",
    "for i in range (0, len(polling_site_precinct.index)):\n",
    "    for j in range (0, len(race_copy.index)):\n",
    "        if polling_site_precinct.loc[i]['county_name'] == race_copy[j]['Geographic Area Name']:\n",
    "            polling_site_precinct[i]['county_id'] = race_copy[i]['id']\n"
   ]
  },
  {
   "cell_type": "code",
   "execution_count": null,
   "metadata": {},
   "outputs": [],
   "source": [
    "for i in range (0, len(polling_site_precinct.index)):\n",
    "    polling_site_precinct.at[int(i), 'precinct_id'] = str(polling_site_precinct.at[int(i), 'precinct_id']).rjust(6,\"0\")"
   ]
  }
 ],
 "metadata": {
  "interpreter": {
   "hash": "57df1f250cc3cad7857b1c31c89c7f8dc8d82bb58c297090b30cb2fa44112ac4"
  },
  "kernelspec": {
   "display_name": "Python 3.8.5 64-bit ('.venv': venv)",
   "language": "python",
   "name": "python3"
  },
  "language_info": {
   "codemirror_mode": {
    "name": "ipython",
    "version": 3
   },
   "file_extension": ".py",
   "mimetype": "text/x-python",
   "name": "python",
   "nbconvert_exporter": "python",
   "pygments_lexer": "ipython3",
   "version": "3.8.5"
  },
  "orig_nbformat": 4
 },
 "nbformat": 4,
 "nbformat_minor": 2
}
