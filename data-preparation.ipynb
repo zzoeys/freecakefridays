{
 "cells": [
  {
   "cell_type": "code",
   "execution_count": 4,
   "metadata": {},
   "outputs": [],
   "source": [
    "import matplotlib.pyplot as plt\n",
    "import pandas as pd\n",
    "import numpy as np\n",
    "import geopandas as gpd"
   ]
  },
  {
   "cell_type": "markdown",
   "metadata": {},
   "source": [
    "## Cleaning the racial data by county level"
   ]
  },
  {
   "cell_type": "code",
   "execution_count": null,
   "metadata": {},
   "outputs": [],
   "source": [
    "# Read csv file to dataframe\n",
    "race_county =  pd.read_csv('data/race_county_data/original_georgia_race_data.csv', skiprows = 1)\n",
    "\n",
    "pd.options.display.width=None\n",
    "pd.set_option('max_row', None)\n",
    "pd.set_option('display.max_rows', race_county.shape[0] + 1)\n",
    "pd.set_option('display.expand_frame_repr', False)\n",
    "\n",
    "race_county"
   ]
  },
  {
   "cell_type": "code",
   "execution_count": null,
   "metadata": {},
   "outputs": [],
   "source": [
    "print(race_county.columns)\n",
    "print(race_county.shape)"
   ]
  },
  {
   "cell_type": "markdown",
   "metadata": {},
   "source": [
    "There's a weird space at the start of each column name so we can remove that. We will combine the columns with the data on the number of people that identify their race as 'American Indian and Alaska Native alone, Native Hawaiian' and 'Other Pacific Islander alone' and 'Some Other Race alone' into an 'Others' column. We wil also combine the data on the number of people that identify as more than one race as 'Mixed'."
   ]
  },
  {
   "cell_type": "code",
   "execution_count": 8,
   "metadata": {},
   "outputs": [],
   "source": [
    "race_county.columns = race_county.columns.str.lstrip()\n",
    "\n",
    "race_county.columns = race_county.columns.map(str)\n",
    "\n",
    "race_county.rename(columns={'!!Total:!!Not Hispanic or Latino:!!Population of two or more races:':'Mixed'}, inplace = True)\n",
    "\n",
    "race_county['Others'] = race_county['!!Total:!!Not Hispanic or Latino:!!Population of one race:!!American Indian and Alaska Native alone'] + race_county['!!Total:!!Not Hispanic or Latino:!!Population of one race:!!Native Hawaiian and Other Pacific Islander alone'] + race_county['!!Total:!!Not Hispanic or Latino:!!Population of one race:!!Some Other Race alone']\n",
    "\n"
   ]
  },
  {
   "cell_type": "markdown",
   "metadata": {},
   "source": [
    "Then we create a new datafram with only the columns we want: 'Total', 'White', 'Black', 'Asian' and the previously created columns of 'Others' and 'Mixed. We will also rename the columns accordingly."
   ]
  },
  {
   "cell_type": "code",
   "execution_count": 9,
   "metadata": {},
   "outputs": [],
   "source": [
    "# Create a new dataframe with the desired columns\n",
    "race_county = race_county[['Geographic Area Name', 'id', '!!Total:', '!!Total:!!Hispanic or Latino', '!!Total:!!Not Hispanic or Latino:!!Population of one race:!!White alone', '!!Total:!!Not Hispanic or Latino:!!Population of one race:!!Black or African American alone','!!Total:!!Not Hispanic or Latino:!!Population of one race:!!Asian alone', 'Mixed', 'Others' ]].copy()\n",
    "\n",
    "# Rename the columns\n",
    "race_county.columns = ['Area Name', 'id', 'Total', 'Hispanic', 'White', 'Black', 'Asian', 'Mixed', 'Others']"
   ]
  },
  {
   "cell_type": "code",
   "execution_count": null,
   "metadata": {},
   "outputs": [],
   "source": [
    "print(race_county.head())"
   ]
  },
  {
   "cell_type": "code",
   "execution_count": null,
   "metadata": {},
   "outputs": [],
   "source": [
    "race_county.head(20)\n"
   ]
  },
  {
   "cell_type": "markdown",
   "metadata": {},
   "source": [
    "Creating rows with density. "
   ]
  },
  {
   "cell_type": "code",
   "execution_count": 10,
   "metadata": {},
   "outputs": [],
   "source": [
    "for ind, row in race_county.iterrows():\n",
    "  race_county.loc[ind,\"Population Density:Hispanic\"]= row ['Hispanic']/row['Total']\n",
    "  race_county.loc[ind,\"Population Density: White\"] = row ['White']/row['Total']\n",
    "  race_county.loc[ind,\"Population Density: Black\"]= row['Black']/row['Total']\n",
    "  race_county.loc[ind,\"Population Density: Asian\"]= row ['Asian']/row['Total']\n",
    "  race_county.loc[ind,\"Population Density: Mixed\"]=row['Mixed']/row[\"Total\"]\n",
    "  race_county.loc[ind,\"Population Density: Others\"]=row[\"Others\"]/row[\"Total\"]"
   ]
  },
  {
   "cell_type": "code",
   "execution_count": null,
   "metadata": {},
   "outputs": [],
   "source": [
    "race_county.tail(20)"
   ]
  },
  {
   "cell_type": "markdown",
   "metadata": {},
   "source": [
    "Downloading the dataframes into new files."
   ]
  },
  {
   "cell_type": "code",
   "execution_count": null,
   "metadata": {},
   "outputs": [],
   "source": [
    "race_county.to_csv('data/race_county_data/cleaned_georgia_race_county.csv')\n"
   ]
  },
  {
   "cell_type": "markdown",
   "metadata": {},
   "source": [
    "# Cleaning the racial data by precinct level"
   ]
  },
  {
   "cell_type": "code",
   "execution_count": 22,
   "metadata": {},
   "outputs": [
    {
     "data": {
      "text/html": [
       "<div>\n",
       "<style scoped>\n",
       "    .dataframe tbody tr th:only-of-type {\n",
       "        vertical-align: middle;\n",
       "    }\n",
       "\n",
       "    .dataframe tbody tr th {\n",
       "        vertical-align: top;\n",
       "    }\n",
       "\n",
       "    .dataframe thead th {\n",
       "        text-align: right;\n",
       "    }\n",
       "</style>\n",
       "<table border=\"1\" class=\"dataframe\">\n",
       "  <thead>\n",
       "    <tr style=\"text-align: right;\">\n",
       "      <th></th>\n",
       "      <th>Area Name</th>\n",
       "      <th>id</th>\n",
       "      <th>Total</th>\n",
       "      <th>Hispanic</th>\n",
       "      <th>White</th>\n",
       "      <th>Black</th>\n",
       "      <th>Asian</th>\n",
       "      <th>Mixed</th>\n",
       "      <th>Others</th>\n",
       "    </tr>\n",
       "  </thead>\n",
       "  <tbody>\n",
       "    <tr>\n",
       "      <th>1</th>\n",
       "      <td>2, Appling County, Georgia</td>\n",
       "      <td>7000000US13001000002</td>\n",
       "      <td>3563</td>\n",
       "      <td>403</td>\n",
       "      <td>1215</td>\n",
       "      <td>1838</td>\n",
       "      <td>10</td>\n",
       "      <td>81</td>\n",
       "      <td>16</td>\n",
       "    </tr>\n",
       "    <tr>\n",
       "      <th>2</th>\n",
       "      <td>1B, Appling County, Georgia</td>\n",
       "      <td>7000000US1300100001B</td>\n",
       "      <td>1834</td>\n",
       "      <td>76</td>\n",
       "      <td>1575</td>\n",
       "      <td>109</td>\n",
       "      <td>3</td>\n",
       "      <td>63</td>\n",
       "      <td>8</td>\n",
       "    </tr>\n",
       "    <tr>\n",
       "      <th>3</th>\n",
       "      <td>1C, Appling County, Georgia</td>\n",
       "      <td>7000000US1300100001C</td>\n",
       "      <td>1538</td>\n",
       "      <td>116</td>\n",
       "      <td>1242</td>\n",
       "      <td>150</td>\n",
       "      <td>5</td>\n",
       "      <td>25</td>\n",
       "      <td>0</td>\n",
       "    </tr>\n",
       "    <tr>\n",
       "      <th>4</th>\n",
       "      <td>3C, Appling County, Georgia</td>\n",
       "      <td>7000000US1300100003C</td>\n",
       "      <td>2515</td>\n",
       "      <td>263</td>\n",
       "      <td>1528</td>\n",
       "      <td>608</td>\n",
       "      <td>39</td>\n",
       "      <td>69</td>\n",
       "      <td>8</td>\n",
       "    </tr>\n",
       "    <tr>\n",
       "      <th>5</th>\n",
       "      <td>4B, Appling County, Georgia</td>\n",
       "      <td>7000000US1300100004B</td>\n",
       "      <td>1321</td>\n",
       "      <td>62</td>\n",
       "      <td>1147</td>\n",
       "      <td>59</td>\n",
       "      <td>5</td>\n",
       "      <td>43</td>\n",
       "      <td>5</td>\n",
       "    </tr>\n",
       "    <tr>\n",
       "      <th>...</th>\n",
       "      <td>...</td>\n",
       "      <td>...</td>\n",
       "      <td>...</td>\n",
       "      <td>...</td>\n",
       "      <td>...</td>\n",
       "      <td>...</td>\n",
       "      <td>...</td>\n",
       "      <td>...</td>\n",
       "      <td>...</td>\n",
       "    </tr>\n",
       "    <tr>\n",
       "      <th>2694</th>\n",
       "      <td>MINTON, Worth County, Georgia</td>\n",
       "      <td>7000000US13321000011</td>\n",
       "      <td>731</td>\n",
       "      <td>10</td>\n",
       "      <td>668</td>\n",
       "      <td>34</td>\n",
       "      <td>2</td>\n",
       "      <td>13</td>\n",
       "      <td>4</td>\n",
       "    </tr>\n",
       "    <tr>\n",
       "      <th>2695</th>\n",
       "      <td>BRIDGEBORO, Worth County, Georgia</td>\n",
       "      <td>7000000US13321000012</td>\n",
       "      <td>1802</td>\n",
       "      <td>14</td>\n",
       "      <td>1554</td>\n",
       "      <td>160</td>\n",
       "      <td>9</td>\n",
       "      <td>47</td>\n",
       "      <td>18</td>\n",
       "    </tr>\n",
       "    <tr>\n",
       "      <th>2696</th>\n",
       "      <td>COUNTY LINE, Worth County, Georgia</td>\n",
       "      <td>7000000US13321000014</td>\n",
       "      <td>1253</td>\n",
       "      <td>20</td>\n",
       "      <td>1122</td>\n",
       "      <td>94</td>\n",
       "      <td>2</td>\n",
       "      <td>13</td>\n",
       "      <td>2</td>\n",
       "    </tr>\n",
       "    <tr>\n",
       "      <th>2697</th>\n",
       "      <td>ISABELLA, Worth County, Georgia</td>\n",
       "      <td>7000000US13321000015</td>\n",
       "      <td>1830</td>\n",
       "      <td>46</td>\n",
       "      <td>1589</td>\n",
       "      <td>125</td>\n",
       "      <td>11</td>\n",
       "      <td>45</td>\n",
       "      <td>14</td>\n",
       "    </tr>\n",
       "    <tr>\n",
       "      <th>2698</th>\n",
       "      <td>PINEY WOODS, Worth County, Georgia</td>\n",
       "      <td>7000000US13321000016</td>\n",
       "      <td>460</td>\n",
       "      <td>25</td>\n",
       "      <td>260</td>\n",
       "      <td>160</td>\n",
       "      <td>0</td>\n",
       "      <td>11</td>\n",
       "      <td>4</td>\n",
       "    </tr>\n",
       "  </tbody>\n",
       "</table>\n",
       "<p>2698 rows × 9 columns</p>\n",
       "</div>"
      ],
      "text/plain": [
       "                               Area Name                    id  Total  Hispanic  White  Black  Asian  Mixed  Others\n",
       "1             2, Appling County, Georgia  7000000US13001000002   3563       403   1215   1838     10     81      16\n",
       "2            1B, Appling County, Georgia  7000000US1300100001B   1834        76   1575    109      3     63       8\n",
       "3            1C, Appling County, Georgia  7000000US1300100001C   1538       116   1242    150      5     25       0\n",
       "4            3C, Appling County, Georgia  7000000US1300100003C   2515       263   1528    608     39     69       8\n",
       "5            4B, Appling County, Georgia  7000000US1300100004B   1321        62   1147     59      5     43       5\n",
       "...                                  ...                   ...    ...       ...    ...    ...    ...    ...     ...\n",
       "2694       MINTON, Worth County, Georgia  7000000US13321000011    731        10    668     34      2     13       4\n",
       "2695   BRIDGEBORO, Worth County, Georgia  7000000US13321000012   1802        14   1554    160      9     47      18\n",
       "2696  COUNTY LINE, Worth County, Georgia  7000000US13321000014   1253        20   1122     94      2     13       2\n",
       "2697     ISABELLA, Worth County, Georgia  7000000US13321000015   1830        46   1589    125     11     45      14\n",
       "2698  PINEY WOODS, Worth County, Georgia  7000000US13321000016    460        25    260    160      0     11       4\n",
       "\n",
       "[2698 rows x 9 columns]"
      ]
     },
     "execution_count": 22,
     "metadata": {},
     "output_type": "execute_result"
    }
   ],
   "source": [
    "race_precinct =  pd.read_csv('data/race_precinct_data/cleaned_georgia_race_precinct.csv', index_col=0)\n",
    "\n",
    "race_precinct"
   ]
  },
  {
   "cell_type": "code",
   "execution_count": null,
   "metadata": {},
   "outputs": [],
   "source": [
    "for ind, row in race_precinct.iterrows():\n",
    "  race_precinct.loc[ind,\"Population Density: Hispanic\"]= row ['Hispanic']/row['Total']\n",
    "  race_precinct.loc[ind,\"Population Density: White\"] = row ['White']/row['Total']\n",
    "  race_precinct.loc[ind,\"Population Density: Black\"]= row['Black']/row['Total']\n",
    "  race_precinct.loc[ind,\"Population Density: Asian\"]= row ['Asian']/row['Total']\n",
    "  race_precinct.loc[ind,\"Population Density: Mixed\"]=row['Mixed']/row[\"Total\"]\n",
    "  race_precinct.loc[ind,\"Population Density: Others\"]=row[\"Others\"]/row[\"Total\"]"
   ]
  },
  {
   "cell_type": "markdown",
   "metadata": {},
   "source": [
    "so we see which areas have a population total of 0"
   ]
  },
  {
   "cell_type": "code",
   "execution_count": null,
   "metadata": {},
   "outputs": [],
   "source": [
    "race_precinct.loc[race_precinct['Total']==0]"
   ]
  },
  {
   "cell_type": "code",
   "execution_count": null,
   "metadata": {},
   "outputs": [],
   "source": [
    "race_precinct.drop(race_precinct.loc[race_precinct['Total'] == 0].index, inplace=True)"
   ]
  },
  {
   "cell_type": "code",
   "execution_count": null,
   "metadata": {},
   "outputs": [],
   "source": [
    "for ind, row in race_precinct.iterrows():\n",
    "  race_precinct.loc[ind,\"Population Density: Hispanic\"]= row ['Hispanic']/row['Total']\n",
    "  race_precinct.loc[ind,\"Population Density: White\"] = row ['White']/row['Total']\n",
    "  race_precinct.loc[ind,\"Population Density: Black\"]= row['Black']/row['Total']\n",
    "  race_precinct.loc[ind,\"Population Density: Asian\"]= row ['Asian']/row['Total']\n",
    "  race_precinct.loc[ind,\"Population Density: Mixed\"]=row['Mixed']/row[\"Total\"]\n",
    "  race_precinct.loc[ind,\"Population Density: Others\"]=row[\"Others\"]/row[\"Total\"]"
   ]
  },
  {
   "cell_type": "code",
   "execution_count": null,
   "metadata": {},
   "outputs": [],
   "source": [
    "race_precinct"
   ]
  },
  {
   "cell_type": "code",
   "execution_count": null,
   "metadata": {},
   "outputs": [],
   "source": [
    "race_precinct.to_csv('data/race_precinct_data/cleaned_georgia_race_precinct_densities.csv')"
   ]
  },
  {
   "cell_type": "markdown",
   "metadata": {},
   "source": []
  },
  {
   "cell_type": "markdown",
   "metadata": {},
   "source": [
    "# Preparing the polling site data (old data)"
   ]
  },
  {
   "cell_type": "markdown",
   "metadata": {},
   "source": [
    "Had to use this: https://stackoverflow.com/questions/45690830/reading-in-csv-file-to-pandas-fails"
   ]
  },
  {
   "cell_type": "code",
   "execution_count": 11,
   "metadata": {},
   "outputs": [],
   "source": [
    "# Read csv file to dataframe\n",
    "polling_site =  pd.read_csv('data/polling_site_data/original_polling_site_data_2.csv', encoding=\"utf-16\", sep='\\t')\n"
   ]
  },
  {
   "cell_type": "code",
   "execution_count": 12,
   "metadata": {},
   "outputs": [
    {
     "data": {
      "text/plain": [
       "(2286, 8)"
      ]
     },
     "execution_count": 12,
     "metadata": {},
     "output_type": "execute_result"
    }
   ],
   "source": [
    "polling_site.shape"
   ]
  },
  {
   "cell_type": "code",
   "execution_count": null,
   "metadata": {},
   "outputs": [],
   "source": [
    "polling_site['County'].value_counts()"
   ]
  },
  {
   "cell_type": "code",
   "execution_count": null,
   "metadata": {},
   "outputs": [],
   "source": [
    "counties = polling_site['County'].value_counts().rename_axis('County').reset_index(name='Number of polling sites')\n",
    "print(counties)\n",
    "\n"
   ]
  },
  {
   "cell_type": "code",
   "execution_count": null,
   "metadata": {},
   "outputs": [],
   "source": [
    "counties.columns = counties.columns.map(str)\n",
    "counties = counties.astype({'County': str, 'Number of polling sites': int})\n",
    "\n",
    "counties['County'] = counties['County'].str.capitalize()\n",
    "\n",
    "print(counties)"
   ]
  },
  {
   "cell_type": "markdown",
   "metadata": {},
   "source": [
    "Now calculating the density"
   ]
  },
  {
   "cell_type": "code",
   "execution_count": null,
   "metadata": {},
   "outputs": [],
   "source": [
    "counties['Total Population'] = pd.Series(race_county['Total'])\n",
    "counties.head()"
   ]
  },
  {
   "cell_type": "code",
   "execution_count": null,
   "metadata": {},
   "outputs": [],
   "source": [
    "for ind, row in counties.iterrows():\n",
    "  counties.loc[ind,\"Polling Site Density\"]= row ['Number of polling sites']/row['Total Population']"
   ]
  },
  {
   "cell_type": "code",
   "execution_count": null,
   "metadata": {},
   "outputs": [],
   "source": [
    "counties.head()"
   ]
  },
  {
   "cell_type": "code",
   "execution_count": null,
   "metadata": {},
   "outputs": [],
   "source": [
    "counties.to_csv('data/polling_site_data/polling_sites_in_counties.csv')"
   ]
  },
  {
   "cell_type": "markdown",
   "metadata": {},
   "source": [
    "# Preparing the polling site data (new data)"
   ]
  },
  {
   "cell_type": "code",
   "execution_count": null,
   "metadata": {},
   "outputs": [],
   "source": [
    "# Read csv file to dataframe\n",
    "polling_site_new =  pd.read_csv('data/polling_site_data_new/original.csv')\n",
    "\n",
    "polling_site_new"
   ]
  },
  {
   "cell_type": "code",
   "execution_count": null,
   "metadata": {},
   "outputs": [],
   "source": [
    "polling_site_new['county_name'].value_counts()"
   ]
  },
  {
   "cell_type": "code",
   "execution_count": null,
   "metadata": {},
   "outputs": [],
   "source": [
    "counties_new = polling_site_new['county_name'].value_counts().rename_axis('County').reset_index(name='Number of polling sites')\n",
    "print(counties_new)\n"
   ]
  },
  {
   "cell_type": "code",
   "execution_count": null,
   "metadata": {},
   "outputs": [],
   "source": [
    "counties_new.columns = counties_new.columns.map(str)\n",
    "counties_new = counties_new.astype({'County': str, 'Number of polling sites': int})\n",
    "\n",
    "print(counties_new)"
   ]
  },
  {
   "cell_type": "code",
   "execution_count": null,
   "metadata": {},
   "outputs": [],
   "source": [
    "race_county['Area Name'] = race_county['Area Name'].str.split(' ').str[0]\n",
    "\n",
    "race_county.head()"
   ]
  },
  {
   "cell_type": "code",
   "execution_count": null,
   "metadata": {},
   "outputs": [],
   "source": [
    "total_population = race_county[['Area Name', 'Total']].copy()\n",
    "total_population.rename(columns={'Area Name': 'County'}, inplace=True)\n"
   ]
  },
  {
   "cell_type": "code",
   "execution_count": null,
   "metadata": {},
   "outputs": [],
   "source": [
    "total_population"
   ]
  },
  {
   "cell_type": "code",
   "execution_count": null,
   "metadata": {},
   "outputs": [],
   "source": [
    "counties_new = counties_new.merge(total_population, on='County', how='inner')\n",
    "counties_new.head()"
   ]
  },
  {
   "cell_type": "code",
   "execution_count": null,
   "metadata": {},
   "outputs": [],
   "source": [
    "for ind, row in counties_new.iterrows():\n",
    "  counties_new.loc[ind,\"Polling Site Density\"]= row ['Number of polling sites']/row['Total']"
   ]
  },
  {
   "cell_type": "code",
   "execution_count": null,
   "metadata": {},
   "outputs": [],
   "source": [
    "counties_new"
   ]
  },
  {
   "cell_type": "code",
   "execution_count": null,
   "metadata": {},
   "outputs": [],
   "source": [
    "counties_new.to_csv('data/polling_site_data_new/clean.csv')"
   ]
  },
  {
   "cell_type": "markdown",
   "metadata": {},
   "source": [
    "## Finding out which precincts have polling sites"
   ]
  },
  {
   "cell_type": "code",
   "execution_count": 73,
   "metadata": {},
   "outputs": [],
   "source": [
    "polling_site_precinct =  pd.read_csv('data/polling_site_data_new/original.csv')\n",
    "\n",
    "polling_site_precinct.columns = polling_site_precinct.columns.map(str)"
   ]
  },
  {
   "cell_type": "code",
   "execution_count": 74,
   "metadata": {},
   "outputs": [
    {
     "data": {
      "text/html": [
       "<div>\n",
       "<style scoped>\n",
       "    .dataframe tbody tr th:only-of-type {\n",
       "        vertical-align: middle;\n",
       "    }\n",
       "\n",
       "    .dataframe tbody tr th {\n",
       "        vertical-align: top;\n",
       "    }\n",
       "\n",
       "    .dataframe thead th {\n",
       "        text-align: right;\n",
       "    }\n",
       "</style>\n",
       "<table border=\"1\" class=\"dataframe\">\n",
       "  <thead>\n",
       "    <tr style=\"text-align: right;\">\n",
       "      <th></th>\n",
       "      <th>election_date</th>\n",
       "      <th>state</th>\n",
       "      <th>county_name</th>\n",
       "      <th>jurisdiction</th>\n",
       "      <th>jurisdiction_type</th>\n",
       "      <th>precinct_id</th>\n",
       "      <th>precinct_name</th>\n",
       "      <th>polling_place_id</th>\n",
       "      <th>location_type</th>\n",
       "      <th>name</th>\n",
       "      <th>address</th>\n",
       "      <th>notes</th>\n",
       "      <th>source</th>\n",
       "      <th>source_date</th>\n",
       "      <th>source_notes</th>\n",
       "    </tr>\n",
       "  </thead>\n",
       "  <tbody>\n",
       "    <tr>\n",
       "      <th>0</th>\n",
       "      <td>2020-11-03</td>\n",
       "      <td>GA</td>\n",
       "      <td>Appling</td>\n",
       "      <td>Appling</td>\n",
       "      <td>county</td>\n",
       "      <td>2</td>\n",
       "      <td>NaN</td>\n",
       "      <td>1012</td>\n",
       "      <td>election_day</td>\n",
       "      <td>LIONS CLUB BLDG/ AT FAIR GROUNDS</td>\n",
       "      <td>245 INDUSTRIAL DR, BAXLEY, GA 31513</td>\n",
       "      <td>OTHER</td>\n",
       "      <td>ORR</td>\n",
       "      <td>2020-10-19</td>\n",
       "      <td>NaN</td>\n",
       "    </tr>\n",
       "    <tr>\n",
       "      <th>1</th>\n",
       "      <td>2020-11-03</td>\n",
       "      <td>GA</td>\n",
       "      <td>Appling</td>\n",
       "      <td>Appling</td>\n",
       "      <td>county</td>\n",
       "      <td>1C</td>\n",
       "      <td>NaN</td>\n",
       "      <td>1018</td>\n",
       "      <td>election_day</td>\n",
       "      <td>1ST ASSEMBLY OF GOD CHURCH</td>\n",
       "      <td>3397 HATCH PKY N, BAXLEY, GA 31513</td>\n",
       "      <td>CHURCH</td>\n",
       "      <td>ORR</td>\n",
       "      <td>2020-10-19</td>\n",
       "      <td>NaN</td>\n",
       "    </tr>\n",
       "    <tr>\n",
       "      <th>2</th>\n",
       "      <td>2020-11-03</td>\n",
       "      <td>GA</td>\n",
       "      <td>Appling</td>\n",
       "      <td>Appling</td>\n",
       "      <td>county</td>\n",
       "      <td>1B</td>\n",
       "      <td>NaN</td>\n",
       "      <td>1001</td>\n",
       "      <td>election_day</td>\n",
       "      <td>ALTAMAHA FIRE STATION</td>\n",
       "      <td>392 ALTAMAHA SCHOOL RD, BAXLEY, GA 31513</td>\n",
       "      <td>County Building</td>\n",
       "      <td>ORR</td>\n",
       "      <td>2020-10-19</td>\n",
       "      <td>NaN</td>\n",
       "    </tr>\n",
       "    <tr>\n",
       "      <th>3</th>\n",
       "      <td>2020-11-03</td>\n",
       "      <td>GA</td>\n",
       "      <td>Appling</td>\n",
       "      <td>Appling</td>\n",
       "      <td>county</td>\n",
       "      <td>4D</td>\n",
       "      <td>NaN</td>\n",
       "      <td>1006</td>\n",
       "      <td>election_day</td>\n",
       "      <td>BAX CH OF GOD/FELLOWSHIP HALL</td>\n",
       "      <td>353 BLACKSHEAR HWY, BAXLEY, GA 31513</td>\n",
       "      <td>CHURCH</td>\n",
       "      <td>ORR</td>\n",
       "      <td>2020-10-19</td>\n",
       "      <td>NaN</td>\n",
       "    </tr>\n",
       "    <tr>\n",
       "      <th>4</th>\n",
       "      <td>2020-11-03</td>\n",
       "      <td>GA</td>\n",
       "      <td>Appling</td>\n",
       "      <td>Appling</td>\n",
       "      <td>county</td>\n",
       "      <td>5A</td>\n",
       "      <td>NaN</td>\n",
       "      <td>1002</td>\n",
       "      <td>election_day</td>\n",
       "      <td>BAXLEY CITY GYM</td>\n",
       "      <td>252 W. PARKER ST., BAXLEY, GA 31513</td>\n",
       "      <td>County Building</td>\n",
       "      <td>ORR</td>\n",
       "      <td>2020-10-19</td>\n",
       "      <td>NaN</td>\n",
       "    </tr>\n",
       "    <tr>\n",
       "      <th>...</th>\n",
       "      <td>...</td>\n",
       "      <td>...</td>\n",
       "      <td>...</td>\n",
       "      <td>...</td>\n",
       "      <td>...</td>\n",
       "      <td>...</td>\n",
       "      <td>...</td>\n",
       "      <td>...</td>\n",
       "      <td>...</td>\n",
       "      <td>...</td>\n",
       "      <td>...</td>\n",
       "      <td>...</td>\n",
       "      <td>...</td>\n",
       "      <td>...</td>\n",
       "      <td>...</td>\n",
       "    </tr>\n",
       "    <tr>\n",
       "      <th>2673</th>\n",
       "      <td>2020-11-03</td>\n",
       "      <td>GA</td>\n",
       "      <td>Worth</td>\n",
       "      <td>Worth</td>\n",
       "      <td>county</td>\n",
       "      <td>5</td>\n",
       "      <td>NaN</td>\n",
       "      <td>159014</td>\n",
       "      <td>election_day</td>\n",
       "      <td>SHINGLER FIRE STATION</td>\n",
       "      <td>126 SHINGLER LITTLE RIVER RD, POULAN, GA 31781</td>\n",
       "      <td>NaN</td>\n",
       "      <td>ORR</td>\n",
       "      <td>2020-10-19</td>\n",
       "      <td>NaN</td>\n",
       "    </tr>\n",
       "    <tr>\n",
       "      <th>2674</th>\n",
       "      <td>2020-11-03</td>\n",
       "      <td>GA</td>\n",
       "      <td>Worth</td>\n",
       "      <td>Worth</td>\n",
       "      <td>county</td>\n",
       "      <td>4</td>\n",
       "      <td>NaN</td>\n",
       "      <td>159022</td>\n",
       "      <td>election_day</td>\n",
       "      <td>SUMNER MUNICIPAL COMPLEX</td>\n",
       "      <td>702 WALNUT ST, SUMNER, GA 31789</td>\n",
       "      <td>NaN</td>\n",
       "      <td>ORR</td>\n",
       "      <td>2020-10-19</td>\n",
       "      <td>NaN</td>\n",
       "    </tr>\n",
       "    <tr>\n",
       "      <th>2675</th>\n",
       "      <td>2020-11-03</td>\n",
       "      <td>GA</td>\n",
       "      <td>Worth</td>\n",
       "      <td>Worth</td>\n",
       "      <td>county</td>\n",
       "      <td>14</td>\n",
       "      <td>NaN</td>\n",
       "      <td>159016</td>\n",
       "      <td>election_day</td>\n",
       "      <td>VOLUNTEER FIRE DEPARTMENT</td>\n",
       "      <td>6104 WILLOW/BIRCH RD, ALBANY, GA 31705</td>\n",
       "      <td>NaN</td>\n",
       "      <td>ORR</td>\n",
       "      <td>2020-10-19</td>\n",
       "      <td>NaN</td>\n",
       "    </tr>\n",
       "    <tr>\n",
       "      <th>2676</th>\n",
       "      <td>2020-11-03</td>\n",
       "      <td>GA</td>\n",
       "      <td>Worth</td>\n",
       "      <td>Worth</td>\n",
       "      <td>county</td>\n",
       "      <td>9</td>\n",
       "      <td>NaN</td>\n",
       "      <td>159017</td>\n",
       "      <td>election_day</td>\n",
       "      <td>WARWICK COMM CENTER</td>\n",
       "      <td>111 DOGWOOD ST SW, WARWICK, GA 31796</td>\n",
       "      <td>NaN</td>\n",
       "      <td>ORR</td>\n",
       "      <td>2020-10-19</td>\n",
       "      <td>NaN</td>\n",
       "    </tr>\n",
       "    <tr>\n",
       "      <th>2677</th>\n",
       "      <td>2020-11-03</td>\n",
       "      <td>GA</td>\n",
       "      <td>Worth</td>\n",
       "      <td>Worth</td>\n",
       "      <td>county</td>\n",
       "      <td>15</td>\n",
       "      <td>NaN</td>\n",
       "      <td>159009</td>\n",
       "      <td>election_day</td>\n",
       "      <td>WORTH COUNTY AG BUILDING</td>\n",
       "      <td>102 REBECCA DRIVE, SYLVESTER, GA 31791</td>\n",
       "      <td>NaN</td>\n",
       "      <td>ORR</td>\n",
       "      <td>2020-10-19</td>\n",
       "      <td>NaN</td>\n",
       "    </tr>\n",
       "  </tbody>\n",
       "</table>\n",
       "<p>2678 rows × 15 columns</p>\n",
       "</div>"
      ],
      "text/plain": [
       "     election_date state county_name jurisdiction jurisdiction_type precinct_id  precinct_name  polling_place_id location_type                              name                                         address            notes source source_date  source_notes\n",
       "0       2020-11-03    GA     Appling      Appling            county           2            NaN              1012  election_day  LIONS CLUB BLDG/ AT FAIR GROUNDS             245 INDUSTRIAL DR, BAXLEY, GA 31513            OTHER    ORR  2020-10-19           NaN\n",
       "1       2020-11-03    GA     Appling      Appling            county          1C            NaN              1018  election_day        1ST ASSEMBLY OF GOD CHURCH              3397 HATCH PKY N, BAXLEY, GA 31513           CHURCH    ORR  2020-10-19           NaN\n",
       "2       2020-11-03    GA     Appling      Appling            county          1B            NaN              1001  election_day             ALTAMAHA FIRE STATION        392 ALTAMAHA SCHOOL RD, BAXLEY, GA 31513  County Building    ORR  2020-10-19           NaN\n",
       "3       2020-11-03    GA     Appling      Appling            county          4D            NaN              1006  election_day     BAX CH OF GOD/FELLOWSHIP HALL            353 BLACKSHEAR HWY, BAXLEY, GA 31513           CHURCH    ORR  2020-10-19           NaN\n",
       "4       2020-11-03    GA     Appling      Appling            county          5A            NaN              1002  election_day                   BAXLEY CITY GYM             252 W. PARKER ST., BAXLEY, GA 31513  County Building    ORR  2020-10-19           NaN\n",
       "...            ...   ...         ...          ...               ...         ...            ...               ...           ...                               ...                                             ...              ...    ...         ...           ...\n",
       "2673    2020-11-03    GA       Worth        Worth            county           5            NaN            159014  election_day             SHINGLER FIRE STATION  126 SHINGLER LITTLE RIVER RD, POULAN, GA 31781              NaN    ORR  2020-10-19           NaN\n",
       "2674    2020-11-03    GA       Worth        Worth            county           4            NaN            159022  election_day          SUMNER MUNICIPAL COMPLEX                 702 WALNUT ST, SUMNER, GA 31789              NaN    ORR  2020-10-19           NaN\n",
       "2675    2020-11-03    GA       Worth        Worth            county          14            NaN            159016  election_day         VOLUNTEER FIRE DEPARTMENT          6104 WILLOW/BIRCH RD, ALBANY, GA 31705              NaN    ORR  2020-10-19           NaN\n",
       "2676    2020-11-03    GA       Worth        Worth            county           9            NaN            159017  election_day               WARWICK COMM CENTER            111 DOGWOOD ST SW, WARWICK, GA 31796              NaN    ORR  2020-10-19           NaN\n",
       "2677    2020-11-03    GA       Worth        Worth            county          15            NaN            159009  election_day          WORTH COUNTY AG BUILDING          102 REBECCA DRIVE, SYLVESTER, GA 31791              NaN    ORR  2020-10-19           NaN\n",
       "\n",
       "[2678 rows x 15 columns]"
      ]
     },
     "execution_count": 74,
     "metadata": {},
     "output_type": "execute_result"
    }
   ],
   "source": [
    "polling_site_precinct"
   ]
  },
  {
   "cell_type": "code",
   "execution_count": 75,
   "metadata": {},
   "outputs": [],
   "source": [
    "race_county.columns = race_county.columns.map(str)"
   ]
  },
  {
   "cell_type": "code",
   "execution_count": null,
   "metadata": {},
   "outputs": [],
   "source": [
    "race_county"
   ]
  },
  {
   "cell_type": "code",
   "execution_count": 77,
   "metadata": {},
   "outputs": [
    {
     "data": {
      "text/html": [
       "<div>\n",
       "<style scoped>\n",
       "    .dataframe tbody tr th:only-of-type {\n",
       "        vertical-align: middle;\n",
       "    }\n",
       "\n",
       "    .dataframe tbody tr th {\n",
       "        vertical-align: top;\n",
       "    }\n",
       "\n",
       "    .dataframe thead th {\n",
       "        text-align: right;\n",
       "    }\n",
       "</style>\n",
       "<table border=\"1\" class=\"dataframe\">\n",
       "  <thead>\n",
       "    <tr style=\"text-align: right;\">\n",
       "      <th></th>\n",
       "      <th>id</th>\n",
       "      <th>Area Name</th>\n",
       "    </tr>\n",
       "  </thead>\n",
       "  <tbody>\n",
       "    <tr>\n",
       "      <th>0</th>\n",
       "      <td>0500000US13001</td>\n",
       "      <td>Appling County, Georgia</td>\n",
       "    </tr>\n",
       "    <tr>\n",
       "      <th>1</th>\n",
       "      <td>0500000US13003</td>\n",
       "      <td>Atkinson County, Georgia</td>\n",
       "    </tr>\n",
       "    <tr>\n",
       "      <th>2</th>\n",
       "      <td>0500000US13005</td>\n",
       "      <td>Bacon County, Georgia</td>\n",
       "    </tr>\n",
       "    <tr>\n",
       "      <th>3</th>\n",
       "      <td>0500000US13007</td>\n",
       "      <td>Baker County, Georgia</td>\n",
       "    </tr>\n",
       "    <tr>\n",
       "      <th>4</th>\n",
       "      <td>0500000US13009</td>\n",
       "      <td>Baldwin County, Georgia</td>\n",
       "    </tr>\n",
       "  </tbody>\n",
       "</table>\n",
       "</div>"
      ],
      "text/plain": [
       "               id                 Area Name\n",
       "0  0500000US13001   Appling County, Georgia\n",
       "1  0500000US13003  Atkinson County, Georgia\n",
       "2  0500000US13005     Bacon County, Georgia\n",
       "3  0500000US13007     Baker County, Georgia\n",
       "4  0500000US13009   Baldwin County, Georgia"
      ]
     },
     "execution_count": 77,
     "metadata": {},
     "output_type": "execute_result"
    }
   ],
   "source": [
    "race_copy = race_county[['id', 'Area Name']]\n",
    "race_copy.head()"
   ]
  },
  {
   "cell_type": "code",
   "execution_count": 78,
   "metadata": {},
   "outputs": [
    {
     "name": "stderr",
     "output_type": "stream",
     "text": [
      "/var/folders/69/g7qpbbld5z521nw3t9pxsq1c0000gp/T/ipykernel_27661/1577194440.py:1: SettingWithCopyWarning: \n",
      "A value is trying to be set on a copy of a slice from a DataFrame.\n",
      "Try using .loc[row_indexer,col_indexer] = value instead\n",
      "\n",
      "See the caveats in the documentation: https://pandas.pydata.org/pandas-docs/stable/user_guide/indexing.html#returning-a-view-versus-a-copy\n",
      "  race_copy['id'] = race_copy['id'].str[7:]\n"
     ]
    }
   ],
   "source": [
    "race_copy['id'] = race_copy['id'].str[7:]"
   ]
  },
  {
   "cell_type": "code",
   "execution_count": 79,
   "metadata": {},
   "outputs": [
    {
     "name": "stderr",
     "output_type": "stream",
     "text": [
      "/var/folders/69/g7qpbbld5z521nw3t9pxsq1c0000gp/T/ipykernel_27661/3406855722.py:1: SettingWithCopyWarning: \n",
      "A value is trying to be set on a copy of a slice from a DataFrame.\n",
      "Try using .loc[row_indexer,col_indexer] = value instead\n",
      "\n",
      "See the caveats in the documentation: https://pandas.pydata.org/pandas-docs/stable/user_guide/indexing.html#returning-a-view-versus-a-copy\n",
      "  race_copy['Area Name'] = race_copy['Area Name'].str.replace(' County, Georgia','')\n"
     ]
    }
   ],
   "source": [
    "race_copy['Area Name'] = race_copy['Area Name'].str.replace(' County, Georgia','')\n"
   ]
  },
  {
   "cell_type": "code",
   "execution_count": 80,
   "metadata": {},
   "outputs": [
    {
     "data": {
      "text/html": [
       "<div>\n",
       "<style scoped>\n",
       "    .dataframe tbody tr th:only-of-type {\n",
       "        vertical-align: middle;\n",
       "    }\n",
       "\n",
       "    .dataframe tbody tr th {\n",
       "        vertical-align: top;\n",
       "    }\n",
       "\n",
       "    .dataframe thead th {\n",
       "        text-align: right;\n",
       "    }\n",
       "</style>\n",
       "<table border=\"1\" class=\"dataframe\">\n",
       "  <thead>\n",
       "    <tr style=\"text-align: right;\">\n",
       "      <th></th>\n",
       "      <th>id</th>\n",
       "      <th>Area Name</th>\n",
       "    </tr>\n",
       "  </thead>\n",
       "  <tbody>\n",
       "    <tr>\n",
       "      <th>0</th>\n",
       "      <td>US13001</td>\n",
       "      <td>Appling</td>\n",
       "    </tr>\n",
       "    <tr>\n",
       "      <th>1</th>\n",
       "      <td>US13003</td>\n",
       "      <td>Atkinson</td>\n",
       "    </tr>\n",
       "    <tr>\n",
       "      <th>2</th>\n",
       "      <td>US13005</td>\n",
       "      <td>Bacon</td>\n",
       "    </tr>\n",
       "    <tr>\n",
       "      <th>3</th>\n",
       "      <td>US13007</td>\n",
       "      <td>Baker</td>\n",
       "    </tr>\n",
       "    <tr>\n",
       "      <th>4</th>\n",
       "      <td>US13009</td>\n",
       "      <td>Baldwin</td>\n",
       "    </tr>\n",
       "  </tbody>\n",
       "</table>\n",
       "</div>"
      ],
      "text/plain": [
       "        id Area Name\n",
       "0  US13001   Appling\n",
       "1  US13003  Atkinson\n",
       "2  US13005     Bacon\n",
       "3  US13007     Baker\n",
       "4  US13009   Baldwin"
      ]
     },
     "execution_count": 80,
     "metadata": {},
     "output_type": "execute_result"
    }
   ],
   "source": [
    "race_copy.head()"
   ]
  },
  {
   "cell_type": "code",
   "execution_count": 81,
   "metadata": {},
   "outputs": [],
   "source": [
    "merged = pd.merge(polling_site_precinct, race_copy, how=\"inner\", on=None, left_on=['county_name'], right_on=['Area Name'])\n"
   ]
  },
  {
   "cell_type": "code",
   "execution_count": 82,
   "metadata": {},
   "outputs": [],
   "source": [
    "polling_site_precinct = merged[['id', 'Area Name', 'precinct_id']]"
   ]
  },
  {
   "cell_type": "code",
   "execution_count": 34,
   "metadata": {},
   "outputs": [
    {
     "data": {
      "text/html": [
       "<div>\n",
       "<style scoped>\n",
       "    .dataframe tbody tr th:only-of-type {\n",
       "        vertical-align: middle;\n",
       "    }\n",
       "\n",
       "    .dataframe tbody tr th {\n",
       "        vertical-align: top;\n",
       "    }\n",
       "\n",
       "    .dataframe thead th {\n",
       "        text-align: right;\n",
       "    }\n",
       "</style>\n",
       "<table border=\"1\" class=\"dataframe\">\n",
       "  <thead>\n",
       "    <tr style=\"text-align: right;\">\n",
       "      <th></th>\n",
       "      <th>id</th>\n",
       "      <th>Area Name</th>\n",
       "      <th>precinct_id</th>\n",
       "    </tr>\n",
       "  </thead>\n",
       "  <tbody>\n",
       "    <tr>\n",
       "      <th>0</th>\n",
       "      <td>US13001</td>\n",
       "      <td>Appling</td>\n",
       "      <td>2</td>\n",
       "    </tr>\n",
       "    <tr>\n",
       "      <th>1</th>\n",
       "      <td>US13001</td>\n",
       "      <td>Appling</td>\n",
       "      <td>1C</td>\n",
       "    </tr>\n",
       "    <tr>\n",
       "      <th>2</th>\n",
       "      <td>US13001</td>\n",
       "      <td>Appling</td>\n",
       "      <td>1B</td>\n",
       "    </tr>\n",
       "    <tr>\n",
       "      <th>3</th>\n",
       "      <td>US13001</td>\n",
       "      <td>Appling</td>\n",
       "      <td>4D</td>\n",
       "    </tr>\n",
       "    <tr>\n",
       "      <th>4</th>\n",
       "      <td>US13001</td>\n",
       "      <td>Appling</td>\n",
       "      <td>5A</td>\n",
       "    </tr>\n",
       "    <tr>\n",
       "      <th>5</th>\n",
       "      <td>US13001</td>\n",
       "      <td>Appling</td>\n",
       "      <td>5B</td>\n",
       "    </tr>\n",
       "    <tr>\n",
       "      <th>6</th>\n",
       "      <td>US13001</td>\n",
       "      <td>Appling</td>\n",
       "      <td>3C</td>\n",
       "    </tr>\n",
       "    <tr>\n",
       "      <th>7</th>\n",
       "      <td>US13001</td>\n",
       "      <td>Appling</td>\n",
       "      <td>3A1</td>\n",
       "    </tr>\n",
       "    <tr>\n",
       "      <th>8</th>\n",
       "      <td>US13001</td>\n",
       "      <td>Appling</td>\n",
       "      <td>4B</td>\n",
       "    </tr>\n",
       "    <tr>\n",
       "      <th>9</th>\n",
       "      <td>US13003</td>\n",
       "      <td>Atkinson</td>\n",
       "      <td>0001</td>\n",
       "    </tr>\n",
       "    <tr>\n",
       "      <th>10</th>\n",
       "      <td>US13003</td>\n",
       "      <td>Atkinson</td>\n",
       "      <td>0002</td>\n",
       "    </tr>\n",
       "    <tr>\n",
       "      <th>11</th>\n",
       "      <td>US13003</td>\n",
       "      <td>Atkinson</td>\n",
       "      <td>0004</td>\n",
       "    </tr>\n",
       "    <tr>\n",
       "      <th>12</th>\n",
       "      <td>US13003</td>\n",
       "      <td>Atkinson</td>\n",
       "      <td>0003</td>\n",
       "    </tr>\n",
       "    <tr>\n",
       "      <th>13</th>\n",
       "      <td>US13005</td>\n",
       "      <td>Bacon</td>\n",
       "      <td>DOUGL</td>\n",
       "    </tr>\n",
       "    <tr>\n",
       "      <th>14</th>\n",
       "      <td>US13007</td>\n",
       "      <td>Baker</td>\n",
       "      <td>A</td>\n",
       "    </tr>\n",
       "    <tr>\n",
       "      <th>15</th>\n",
       "      <td>US13007</td>\n",
       "      <td>Baker</td>\n",
       "      <td>E</td>\n",
       "    </tr>\n",
       "    <tr>\n",
       "      <th>16</th>\n",
       "      <td>US13007</td>\n",
       "      <td>Baker</td>\n",
       "      <td>H</td>\n",
       "    </tr>\n",
       "    <tr>\n",
       "      <th>17</th>\n",
       "      <td>US13007</td>\n",
       "      <td>Baker</td>\n",
       "      <td>M</td>\n",
       "    </tr>\n",
       "    <tr>\n",
       "      <th>18</th>\n",
       "      <td>US13007</td>\n",
       "      <td>Baker</td>\n",
       "      <td>N</td>\n",
       "    </tr>\n",
       "    <tr>\n",
       "      <th>19</th>\n",
       "      <td>US13009</td>\n",
       "      <td>Baldwin</td>\n",
       "      <td>CTY4</td>\n",
       "    </tr>\n",
       "  </tbody>\n",
       "</table>\n",
       "</div>"
      ],
      "text/plain": [
       "         id Area Name precinct_id\n",
       "0   US13001   Appling           2\n",
       "1   US13001   Appling          1C\n",
       "2   US13001   Appling          1B\n",
       "3   US13001   Appling          4D\n",
       "4   US13001   Appling          5A\n",
       "5   US13001   Appling          5B\n",
       "6   US13001   Appling          3C\n",
       "7   US13001   Appling         3A1\n",
       "8   US13001   Appling          4B\n",
       "9   US13003  Atkinson        0001\n",
       "10  US13003  Atkinson        0002\n",
       "11  US13003  Atkinson        0004\n",
       "12  US13003  Atkinson        0003\n",
       "13  US13005     Bacon       DOUGL\n",
       "14  US13007     Baker           A\n",
       "15  US13007     Baker           E\n",
       "16  US13007     Baker           H\n",
       "17  US13007     Baker           M\n",
       "18  US13007     Baker           N\n",
       "19  US13009   Baldwin        CTY4"
      ]
     },
     "execution_count": 34,
     "metadata": {},
     "output_type": "execute_result"
    }
   ],
   "source": [
    "polling_site_precinct.head(20)"
   ]
  },
  {
   "cell_type": "code",
   "execution_count": 83,
   "metadata": {},
   "outputs": [
    {
     "name": "stderr",
     "output_type": "stream",
     "text": [
      "/var/folders/69/g7qpbbld5z521nw3t9pxsq1c0000gp/T/ipykernel_27661/2529592066.py:1: SettingWithCopyWarning: \n",
      "A value is trying to be set on a copy of a slice from a DataFrame.\n",
      "Try using .loc[row_indexer,col_indexer] = value instead\n",
      "\n",
      "See the caveats in the documentation: https://pandas.pydata.org/pandas-docs/stable/user_guide/indexing.html#returning-a-view-versus-a-copy\n",
      "  polling_site_precinct[\"precinct_id\"]= polling_site_precinct[\"precinct_id\"].astype(str)\n"
     ]
    }
   ],
   "source": [
    "polling_site_precinct[\"precinct_id\"]= polling_site_precinct[\"precinct_id\"].astype(str)"
   ]
  },
  {
   "cell_type": "code",
   "execution_count": 55,
   "metadata": {},
   "outputs": [
    {
     "name": "stdout",
     "output_type": "stream",
     "text": [
      "<class 'pandas.core.frame.DataFrame'>\n",
      "Int64Index: 2470 entries, 0 to 2469\n",
      "Data columns (total 3 columns):\n",
      " #   Column       Non-Null Count  Dtype \n",
      "---  ------       --------------  ----- \n",
      " 0   id           2470 non-null   object\n",
      " 1   Area Name    2470 non-null   object\n",
      " 2   precinct_id  2470 non-null   object\n",
      "dtypes: object(3)\n",
      "memory usage: 141.7+ KB\n"
     ]
    }
   ],
   "source": [
    "polling_site_precinct.info(verbose=True)"
   ]
  },
  {
   "cell_type": "code",
   "execution_count": 84,
   "metadata": {},
   "outputs": [
    {
     "name": "stderr",
     "output_type": "stream",
     "text": [
      "/var/folders/69/g7qpbbld5z521nw3t9pxsq1c0000gp/T/ipykernel_27661/1551790899.py:1: SettingWithCopyWarning: \n",
      "A value is trying to be set on a copy of a slice from a DataFrame.\n",
      "Try using .loc[row_indexer,col_indexer] = value instead\n",
      "\n",
      "See the caveats in the documentation: https://pandas.pydata.org/pandas-docs/stable/user_guide/indexing.html#returning-a-view-versus-a-copy\n",
      "  polling_site_precinct['precinct_id'] = polling_site_precinct['precinct_id'].str.zfill(6)\n"
     ]
    }
   ],
   "source": [
    "\n",
    "polling_site_precinct['precinct_id'] = polling_site_precinct['precinct_id'].str.zfill(6)"
   ]
  },
  {
   "cell_type": "code",
   "execution_count": 86,
   "metadata": {},
   "outputs": [
    {
     "data": {
      "text/html": [
       "<div>\n",
       "<style scoped>\n",
       "    .dataframe tbody tr th:only-of-type {\n",
       "        vertical-align: middle;\n",
       "    }\n",
       "\n",
       "    .dataframe tbody tr th {\n",
       "        vertical-align: top;\n",
       "    }\n",
       "\n",
       "    .dataframe thead th {\n",
       "        text-align: right;\n",
       "    }\n",
       "</style>\n",
       "<table border=\"1\" class=\"dataframe\">\n",
       "  <thead>\n",
       "    <tr style=\"text-align: right;\">\n",
       "      <th></th>\n",
       "      <th>id</th>\n",
       "      <th>Area Name</th>\n",
       "      <th>precinct_id</th>\n",
       "    </tr>\n",
       "  </thead>\n",
       "  <tbody>\n",
       "    <tr>\n",
       "      <th>0</th>\n",
       "      <td>US13001</td>\n",
       "      <td>Appling</td>\n",
       "      <td>000002</td>\n",
       "    </tr>\n",
       "    <tr>\n",
       "      <th>1</th>\n",
       "      <td>US13001</td>\n",
       "      <td>Appling</td>\n",
       "      <td>00001C</td>\n",
       "    </tr>\n",
       "    <tr>\n",
       "      <th>2</th>\n",
       "      <td>US13001</td>\n",
       "      <td>Appling</td>\n",
       "      <td>00001B</td>\n",
       "    </tr>\n",
       "    <tr>\n",
       "      <th>3</th>\n",
       "      <td>US13001</td>\n",
       "      <td>Appling</td>\n",
       "      <td>00004D</td>\n",
       "    </tr>\n",
       "    <tr>\n",
       "      <th>4</th>\n",
       "      <td>US13001</td>\n",
       "      <td>Appling</td>\n",
       "      <td>00005A</td>\n",
       "    </tr>\n",
       "    <tr>\n",
       "      <th>5</th>\n",
       "      <td>US13001</td>\n",
       "      <td>Appling</td>\n",
       "      <td>00005B</td>\n",
       "    </tr>\n",
       "    <tr>\n",
       "      <th>6</th>\n",
       "      <td>US13001</td>\n",
       "      <td>Appling</td>\n",
       "      <td>00003C</td>\n",
       "    </tr>\n",
       "    <tr>\n",
       "      <th>7</th>\n",
       "      <td>US13001</td>\n",
       "      <td>Appling</td>\n",
       "      <td>0003A1</td>\n",
       "    </tr>\n",
       "    <tr>\n",
       "      <th>8</th>\n",
       "      <td>US13001</td>\n",
       "      <td>Appling</td>\n",
       "      <td>00004B</td>\n",
       "    </tr>\n",
       "    <tr>\n",
       "      <th>9</th>\n",
       "      <td>US13003</td>\n",
       "      <td>Atkinson</td>\n",
       "      <td>000001</td>\n",
       "    </tr>\n",
       "    <tr>\n",
       "      <th>10</th>\n",
       "      <td>US13003</td>\n",
       "      <td>Atkinson</td>\n",
       "      <td>000002</td>\n",
       "    </tr>\n",
       "    <tr>\n",
       "      <th>11</th>\n",
       "      <td>US13003</td>\n",
       "      <td>Atkinson</td>\n",
       "      <td>000004</td>\n",
       "    </tr>\n",
       "    <tr>\n",
       "      <th>12</th>\n",
       "      <td>US13003</td>\n",
       "      <td>Atkinson</td>\n",
       "      <td>000003</td>\n",
       "    </tr>\n",
       "    <tr>\n",
       "      <th>13</th>\n",
       "      <td>US13005</td>\n",
       "      <td>Bacon</td>\n",
       "      <td>0DOUGL</td>\n",
       "    </tr>\n",
       "    <tr>\n",
       "      <th>14</th>\n",
       "      <td>US13007</td>\n",
       "      <td>Baker</td>\n",
       "      <td>00000A</td>\n",
       "    </tr>\n",
       "    <tr>\n",
       "      <th>15</th>\n",
       "      <td>US13007</td>\n",
       "      <td>Baker</td>\n",
       "      <td>00000E</td>\n",
       "    </tr>\n",
       "    <tr>\n",
       "      <th>16</th>\n",
       "      <td>US13007</td>\n",
       "      <td>Baker</td>\n",
       "      <td>00000H</td>\n",
       "    </tr>\n",
       "    <tr>\n",
       "      <th>17</th>\n",
       "      <td>US13007</td>\n",
       "      <td>Baker</td>\n",
       "      <td>00000M</td>\n",
       "    </tr>\n",
       "    <tr>\n",
       "      <th>18</th>\n",
       "      <td>US13007</td>\n",
       "      <td>Baker</td>\n",
       "      <td>00000N</td>\n",
       "    </tr>\n",
       "    <tr>\n",
       "      <th>19</th>\n",
       "      <td>US13009</td>\n",
       "      <td>Baldwin</td>\n",
       "      <td>00CTY4</td>\n",
       "    </tr>\n",
       "  </tbody>\n",
       "</table>\n",
       "</div>"
      ],
      "text/plain": [
       "         id Area Name precinct_id\n",
       "0   US13001   Appling      000002\n",
       "1   US13001   Appling      00001C\n",
       "2   US13001   Appling      00001B\n",
       "3   US13001   Appling      00004D\n",
       "4   US13001   Appling      00005A\n",
       "5   US13001   Appling      00005B\n",
       "6   US13001   Appling      00003C\n",
       "7   US13001   Appling      0003A1\n",
       "8   US13001   Appling      00004B\n",
       "9   US13003  Atkinson      000001\n",
       "10  US13003  Atkinson      000002\n",
       "11  US13003  Atkinson      000004\n",
       "12  US13003  Atkinson      000003\n",
       "13  US13005     Bacon      0DOUGL\n",
       "14  US13007     Baker      00000A\n",
       "15  US13007     Baker      00000E\n",
       "16  US13007     Baker      00000H\n",
       "17  US13007     Baker      00000M\n",
       "18  US13007     Baker      00000N\n",
       "19  US13009   Baldwin      00CTY4"
      ]
     },
     "execution_count": 86,
     "metadata": {},
     "output_type": "execute_result"
    }
   ],
   "source": [
    "polling_site_precinct.head(20)"
   ]
  },
  {
   "cell_type": "code",
   "execution_count": 87,
   "metadata": {},
   "outputs": [
    {
     "name": "stderr",
     "output_type": "stream",
     "text": [
      "/var/folders/69/g7qpbbld5z521nw3t9pxsq1c0000gp/T/ipykernel_27661/3540662483.py:1: SettingWithCopyWarning: \n",
      "A value is trying to be set on a copy of a slice from a DataFrame.\n",
      "Try using .loc[row_indexer,col_indexer] = value instead\n",
      "\n",
      "See the caveats in the documentation: https://pandas.pydata.org/pandas-docs/stable/user_guide/indexing.html#returning-a-view-versus-a-copy\n",
      "  polling_site_precinct['Geographic Id'] = polling_site_precinct['id'] + polling_site_precinct['precinct_id']\n"
     ]
    }
   ],
   "source": [
    "polling_site_precinct['Geographic Id'] = polling_site_precinct['id'] + polling_site_precinct['precinct_id']"
   ]
  },
  {
   "cell_type": "code",
   "execution_count": 89,
   "metadata": {},
   "outputs": [
    {
     "name": "stderr",
     "output_type": "stream",
     "text": [
      "/var/folders/69/g7qpbbld5z521nw3t9pxsq1c0000gp/T/ipykernel_27661/1808753716.py:1: SettingWithCopyWarning: \n",
      "A value is trying to be set on a copy of a slice from a DataFrame.\n",
      "Try using .loc[row_indexer,col_indexer] = value instead\n",
      "\n",
      "See the caveats in the documentation: https://pandas.pydata.org/pandas-docs/stable/user_guide/indexing.html#returning-a-view-versus-a-copy\n",
      "  polling_site_precinct['Geographic Id'] = '70000000' + polling_site_precinct['Geographic Id'].astype(str)\n"
     ]
    }
   ],
   "source": [
    "polling_site_precinct['Geographic Id'] = '70000000' + polling_site_precinct['Geographic Id'].astype(str)"
   ]
  },
  {
   "cell_type": "code",
   "execution_count": 92,
   "metadata": {},
   "outputs": [],
   "source": [
    "polling_site_precinct = polling_site_precinct[['Area Name', 'Geographic Id']]"
   ]
  },
  {
   "cell_type": "code",
   "execution_count": 94,
   "metadata": {},
   "outputs": [
    {
     "name": "stderr",
     "output_type": "stream",
     "text": [
      "/Users/zoeyisoh/Desktop/ /UCL Work/BASC0005/cw/freecakefridays/freecakefridays/.venv/lib/python3.8/site-packages/pandas/core/frame.py:5039: SettingWithCopyWarning: \n",
      "A value is trying to be set on a copy of a slice from a DataFrame\n",
      "\n",
      "See the caveats in the documentation: https://pandas.pydata.org/pandas-docs/stable/user_guide/indexing.html#returning-a-view-versus-a-copy\n",
      "  return super().rename(\n"
     ]
    }
   ],
   "source": [
    "polling_site_precinct.rename({'Area Name': 'County', 'Geographic Id': 'Id'}, inplace = True)"
   ]
  },
  {
   "cell_type": "code",
   "execution_count": 95,
   "metadata": {},
   "outputs": [
    {
     "data": {
      "text/html": [
       "<div>\n",
       "<style scoped>\n",
       "    .dataframe tbody tr th:only-of-type {\n",
       "        vertical-align: middle;\n",
       "    }\n",
       "\n",
       "    .dataframe tbody tr th {\n",
       "        vertical-align: top;\n",
       "    }\n",
       "\n",
       "    .dataframe thead th {\n",
       "        text-align: right;\n",
       "    }\n",
       "</style>\n",
       "<table border=\"1\" class=\"dataframe\">\n",
       "  <thead>\n",
       "    <tr style=\"text-align: right;\">\n",
       "      <th></th>\n",
       "      <th>Area Name</th>\n",
       "      <th>Geographic Id</th>\n",
       "    </tr>\n",
       "  </thead>\n",
       "  <tbody>\n",
       "    <tr>\n",
       "      <th>0</th>\n",
       "      <td>Appling</td>\n",
       "      <td>70000000US13001000002</td>\n",
       "    </tr>\n",
       "    <tr>\n",
       "      <th>1</th>\n",
       "      <td>Appling</td>\n",
       "      <td>70000000US1300100001C</td>\n",
       "    </tr>\n",
       "    <tr>\n",
       "      <th>2</th>\n",
       "      <td>Appling</td>\n",
       "      <td>70000000US1300100001B</td>\n",
       "    </tr>\n",
       "    <tr>\n",
       "      <th>3</th>\n",
       "      <td>Appling</td>\n",
       "      <td>70000000US1300100004D</td>\n",
       "    </tr>\n",
       "    <tr>\n",
       "      <th>4</th>\n",
       "      <td>Appling</td>\n",
       "      <td>70000000US1300100005A</td>\n",
       "    </tr>\n",
       "    <tr>\n",
       "      <th>...</th>\n",
       "      <td>...</td>\n",
       "      <td>...</td>\n",
       "    </tr>\n",
       "    <tr>\n",
       "      <th>2465</th>\n",
       "      <td>Worth</td>\n",
       "      <td>70000000US13321000005</td>\n",
       "    </tr>\n",
       "    <tr>\n",
       "      <th>2466</th>\n",
       "      <td>Worth</td>\n",
       "      <td>70000000US13321000004</td>\n",
       "    </tr>\n",
       "    <tr>\n",
       "      <th>2467</th>\n",
       "      <td>Worth</td>\n",
       "      <td>70000000US13321000014</td>\n",
       "    </tr>\n",
       "    <tr>\n",
       "      <th>2468</th>\n",
       "      <td>Worth</td>\n",
       "      <td>70000000US13321000009</td>\n",
       "    </tr>\n",
       "    <tr>\n",
       "      <th>2469</th>\n",
       "      <td>Worth</td>\n",
       "      <td>70000000US13321000015</td>\n",
       "    </tr>\n",
       "  </tbody>\n",
       "</table>\n",
       "<p>2470 rows × 2 columns</p>\n",
       "</div>"
      ],
      "text/plain": [
       "     Area Name          Geographic Id\n",
       "0      Appling  70000000US13001000002\n",
       "1      Appling  70000000US1300100001C\n",
       "2      Appling  70000000US1300100001B\n",
       "3      Appling  70000000US1300100004D\n",
       "4      Appling  70000000US1300100005A\n",
       "...        ...                    ...\n",
       "2465     Worth  70000000US13321000005\n",
       "2466     Worth  70000000US13321000004\n",
       "2467     Worth  70000000US13321000014\n",
       "2468     Worth  70000000US13321000009\n",
       "2469     Worth  70000000US13321000015\n",
       "\n",
       "[2470 rows x 2 columns]"
      ]
     },
     "execution_count": 95,
     "metadata": {},
     "output_type": "execute_result"
    }
   ],
   "source": [
    "polling_site_precinct"
   ]
  },
  {
   "cell_type": "code",
   "execution_count": 96,
   "metadata": {},
   "outputs": [],
   "source": [
    "polling_site_precinct.to_csv('data/polling_site_data_new/clean_precincts.csv')"
   ]
  },
  {
   "cell_type": "markdown",
   "metadata": {},
   "source": [
    "# (old test) Viewing the shapefile and checking if merging works for precinct"
   ]
  },
  {
   "cell_type": "code",
   "execution_count": null,
   "metadata": {},
   "outputs": [],
   "source": [
    "precinct = pd.read_csv(\"data/race_precinct_data/cleaned_georgia_race_precinct_densities.csv\")\n",
    "\n",
    "precinct.head(10)"
   ]
  },
  {
   "cell_type": "code",
   "execution_count": null,
   "metadata": {},
   "outputs": [],
   "source": [
    "shapefile = gpd.read_file(\"data/test/cb_2020_13_vtd_500k.shp\")\n",
    "\n",
    "shapefile.head(10)"
   ]
  },
  {
   "cell_type": "code",
   "execution_count": null,
   "metadata": {},
   "outputs": [],
   "source": [
    "merged = pd.merge(precinct, shapefile, left_on=precinct['id'], right_on=shapefile['AFFGEOID20'], how=\"left\")"
   ]
  },
  {
   "cell_type": "code",
   "execution_count": null,
   "metadata": {},
   "outputs": [],
   "source": [
    "merged"
   ]
  },
  {
   "cell_type": "code",
   "execution_count": null,
   "metadata": {},
   "outputs": [],
   "source": []
  },
  {
   "cell_type": "code",
   "execution_count": null,
   "metadata": {},
   "outputs": [],
   "source": [
    "\n",
    "# set the value column that will be visualised\n",
    "variable = 'Hispanic'\n",
    "# set the range for the choropleth values\n",
    "vmin, vmax = 0, 100\n",
    "# create figure and axes for Matplotlib\n",
    "fig, ax = plt.subplots(1, figsize=(30, 10))\n",
    "# remove the axis\n",
    "ax.axis('off')\n",
    "# add a title and annotation\n",
    "ax.set_title('White Choropleth Map', fontdict={'fontsize': '25', 'fontweight' : '3'})\n",
    "#ax.annotate('Source: Wikipedia - https://en.wikipedia.org/wiki/Provinces_of_Indonesia', xy=(0.6, .05), xycoords='figure fraction', fontsize=12, color='#555555')\n",
    "# Create colorbar legend\n",
    "sm = plt.cm.ScalarMappable(cmap='Blues', norm=plt.Normalize(vmin=vmin, vmax=vmax))\n",
    "# empty array for the data range\n",
    "sm.set_array([]) # or alternatively sm._A = []. Not sure why this step is necessary, but many recommends it\n",
    "# add the colorbar to the figure\n",
    "fig.colorbar(sm)\n",
    "# create map\n",
    "merged.plot(column=variable, cmap='Blues', linewidth=0.8, ax=ax, edgecolor='0.8')\n"
   ]
  },
  {
   "cell_type": "code",
   "execution_count": null,
   "metadata": {},
   "outputs": [],
   "source": [
    "print(race[race['Area Name'].str.contains('Fulton')])\n",
    "print(race[race['Area Name'].str.contains('Columbia')])"
   ]
  },
  {
   "cell_type": "markdown",
   "metadata": {},
   "source": [
    "The names of the area are different. Will remove ',', 'County' and ',Georgia from the race data. Then will create a new column joining the columns 'prec_shp' and 'locality'."
   ]
  },
  {
   "cell_type": "code",
   "execution_count": null,
   "metadata": {},
   "outputs": [],
   "source": [
    "def remove_string(string):\n",
    "    race['Area Name'] = race['Area Name'].str.replace(str(string), '')\n",
    "    race['Area Name'] = race['Area Name'].str.strip()\n",
    "\n",
    "remove_string(',')\n",
    "remove_string('County')\n",
    "remove_string('Georgia')"
   ]
  },
  {
   "cell_type": "code",
   "execution_count": null,
   "metadata": {},
   "outputs": [],
   "source": [
    "shapefile['Area Name'] = shapefile['prec_shp'].str.upper() + ' ' + shapefile['locality'].str.capitalize()\n",
    "\n",
    "shapefile['Area Name'].head(5)"
   ]
  },
  {
   "cell_type": "code",
   "execution_count": null,
   "metadata": {},
   "outputs": [],
   "source": [
    "print(race[race['Area Name'].str.contains('Fulton')])"
   ]
  },
  {
   "cell_type": "code",
   "execution_count": null,
   "metadata": {},
   "outputs": [],
   "source": [
    "shapefile[shapefile['Area Name'].str.contains('Appling')]"
   ]
  },
  {
   "cell_type": "code",
   "execution_count": null,
   "metadata": {},
   "outputs": [],
   "source": [
    "merged = pd.merge(race, shapefile, left_on=race['Area Name'].str.casefold(), right_on=shapefile['Area Name'].str.casefold(), how=\"left\")\n",
    "\n",
    "merged.head(5)"
   ]
  },
  {
   "cell_type": "code",
   "execution_count": null,
   "metadata": {},
   "outputs": [],
   "source": [
    "merged_isna = merged[merged.isna().any(axis=1)]"
   ]
  },
  {
   "cell_type": "markdown",
   "metadata": {},
   "source": [
    "exogenous random, not related to the research"
   ]
  },
  {
   "cell_type": "code",
   "execution_count": null,
   "metadata": {},
   "outputs": [],
   "source": [
    "print(merged_isna)"
   ]
  },
  {
   "cell_type": "code",
   "execution_count": null,
   "metadata": {},
   "outputs": [],
   "source": [
    "i = 0\n",
    "j = 0\n",
    "polling_site_precinct[\"county_id\"] = \"\"\n",
    "\n",
    "for i in range (0, len(polling_site_precinct.index)):\n",
    "    for j in range (0, len(race_copy.index)):\n",
    "        if polling_site_precinct.loc[i]['county_name'] == race_copy[j]['Geographic Area Name']:\n",
    "            polling_site_precinct[i]['county_id'] = race_copy[i]['id']\n"
   ]
  },
  {
   "cell_type": "code",
   "execution_count": null,
   "metadata": {},
   "outputs": [],
   "source": [
    "for i in range (0, len(polling_site_precinct.index)):\n",
    "    polling_site_precinct.at[int(i), 'precinct_id'] = str(polling_site_precinct.at[int(i), 'precinct_id']).rjust(6,\"0\")"
   ]
  }
 ],
 "metadata": {
  "interpreter": {
   "hash": "57df1f250cc3cad7857b1c31c89c7f8dc8d82bb58c297090b30cb2fa44112ac4"
  },
  "kernelspec": {
   "display_name": "Python 3.8.5 64-bit ('.venv': venv)",
   "language": "python",
   "name": "python3"
  },
  "language_info": {
   "codemirror_mode": {
    "name": "ipython",
    "version": 3
   },
   "file_extension": ".py",
   "mimetype": "text/x-python",
   "name": "python",
   "nbconvert_exporter": "python",
   "pygments_lexer": "ipython3",
   "version": "3.8.5"
  },
  "orig_nbformat": 4
 },
 "nbformat": 4,
 "nbformat_minor": 2
}
