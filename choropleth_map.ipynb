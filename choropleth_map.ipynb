{
 "cells": [
  {
   "cell_type": "markdown",
   "metadata": {},
   "source": [
    "Install the required libraries.\n",
    "\n",
    "*   The geopandas library allows us to work with geospatial data [(GeoPandas, 2013)](https://geopandas.org/en/stable/)\n",
    "*   The pandas library allows us to work with data in a dataframe [(pandas - Python Data Analysis Library, 2021)](https://pandas.pydata.org/)\n",
    "*   The plotly library allows us to work with interactive data visualisations [(Plotly, 2022)](https://plotly.com/python/)\n",
    "*   The json library allows us to work with JSON data [(Python, 2022)](https://docs.python.org/3/library/json.html)\n",
    "*   The pyproj library allows us to work with cartographic projects [(PyPi, 2022)](https://pypi.org/project/pyproj/)\n",
    "\n",
    "\n"
   ]
  },
  {
   "cell_type": "code",
   "execution_count": null,
   "metadata": {},
   "outputs": [],
   "source": [
    "import geopandas as gpd\n",
    "import pandas as pd\n",
    "import plotly.express as px\n",
    "import json\n",
    "import pyproj"
   ]
  },
  {
   "cell_type": "markdown",
   "metadata": {},
   "source": [
    "# Interactive choropleth map of precincts"
   ]
  },
  {
   "cell_type": "markdown",
   "metadata": {},
   "source": [
    "Code is adapted from a blog on Medium [(Sanghvi, 2020)](https://medium.com/tech-carnot/interactive-map-based-visualization-using-plotly-44e8ad419b97).\n",
    "\n",
    "First we need to convert the shapefile to a geojson file as plotly doesn't read shapefiles like pandas."
   ]
  },
  {
   "cell_type": "code",
   "execution_count": null,
   "metadata": {},
   "outputs": [],
   "source": [
    "# Read the file stored\n",
    "map_df = gpd.read_file('data/georgia_shapefiles_2020_precinct/cb_2020_13_vtd_500k.shp')\n",
    "\n",
    "# Export it as GeoJSON\n",
    "map_df.to_file(\"data/json/georgia_geojson_2020_precinct.json\", driver='GeoJSON')"
   ]
  },
  {
   "cell_type": "markdown",
   "metadata": {},
   "source": [
    "Viewing the json file."
   ]
  },
  {
   "cell_type": "code",
   "execution_count": null,
   "metadata": {},
   "outputs": [],
   "source": [
    "with open('data/json/georgia_geojson_2020_precinct.json') as f:\n",
    "  precinct = json.load(f)"
   ]
  },
  {
   "cell_type": "code",
   "execution_count": null,
   "metadata": {},
   "outputs": [],
   "source": [
    "precinct[\"features\"][0]['properties']"
   ]
  },
  {
   "cell_type": "markdown",
   "metadata": {},
   "source": [
    "Creating the visualisation by reading the shapefile and joining the race data with the shapefile."
   ]
  },
  {
   "cell_type": "code",
   "execution_count": null,
   "metadata": {},
   "outputs": [],
   "source": [
    "# Read the shapefile\n",
    "filepath = 'data/json/georgia_geojson_2020_precinct.json'\n",
    "map_df = gpd.read_file(filepath)\n",
    "map_df.to_crs(pyproj.CRS.from_epsg(4326), inplace=True)\n",
    "\n",
    "df = pd.read_csv(\"data/race_precinct_data/cleaned_georgia_race_precinct_densities.csv\")\n",
    "\n",
    "# Join the geodataframe with the cleaned up csv dataframe\n",
    "merged = map_df.set_index('AFFGEOID20').join(df.set_index('id'))\n",
    "merged.set_index('Area Name', inplace=True)\n",
    "merged.head()\n",
    "\n"
   ]
  },
  {
   "cell_type": "code",
   "execution_count": null,
   "metadata": {},
   "outputs": [],
   "source": [
    "merged.isnull().sum()"
   ]
  },
  {
   "cell_type": "markdown",
   "metadata": {},
   "source": [
    "To test it out and show just one race with code adapted from [(Plotly, 2019a](https://plotly.com/python/choropleth-maps/); [Plotly, 2019b](https://plotly.com/python/mapbox-county-choropleth/))."
   ]
  },
  {
   "cell_type": "code",
   "execution_count": null,
   "metadata": {},
   "outputs": [],
   "source": [
    "fig = px.choropleth_mapbox(merged, geojson=merged.geometry, locations=merged.index, mapbox_style=\"open-street-map\", zoom = 5, center = {\"lat\": 32.6047297, \"lon\": -83.3045263}, color=\"Population Density: White\", labels={'AFFGEOID20':'Precinct'})\n",
    "fig.update_geos(fitbounds=\"locations\", visible=False)"
   ]
  },
  {
   "cell_type": "markdown",
   "metadata": {},
   "source": [
    "Making the visualisation with dropdown menus to allow you to select different races with code adapted from the plotly community forum [(Plotly Community, 2021)](https://community.plotly.com/t/creating-a-dropdown-slider-for-a-choropleth-map-with-plotly-express/49370)."
   ]
  },
  {
   "cell_type": "code",
   "execution_count": null,
   "metadata": {},
   "outputs": [],
   "source": [
    "df = merged\n",
    "\n",
    "fig = px.choropleth_mapbox(df, geojson=merged.geometry,\n",
    "                    locations=merged.index, zoom = 5, center = {\"lat\": 32.6047297, \"lon\": -83.3045263}, color=\"Population Density: White\", labels={'Population Density: White':'Population Density'}, \n",
    "                    mapbox_style=\"open-street-map\", color_continuous_scale=\"deep\"\n",
    "                   )\n",
    "fig.update_geos(fitbounds=\"locations\", visible=False)\n",
    "\n",
    "\n",
    "button1 =  dict(method = \"restyle\",\n",
    "                args = [{'z': [ df[\"Population Density: White\"] ]}],\n",
    "                label = \"White\")\n",
    "button2 =  dict(method = \"restyle\",\n",
    "                args = [{'z': [ df[\"Population Density: Black\"] ] }],\n",
    "                label = \"Black\")\n",
    "button3 =  dict(method = \"restyle\",\n",
    "                args = [{'z': [ df[\"Population Density: Hispanic\"] ] }],\n",
    "                label = \"Hispanic\")\n",
    "button4 =  dict(method = \"restyle\",\n",
    "                args = [{'z': [ df[\"Population Density: Asian\"] ] }],\n",
    "                label = \"Asian\")  \n",
    "button5 =  dict(method = \"restyle\",\n",
    "                args = [{'z': [ df[\"Population Density: Others\"] ] }],\n",
    "                label = \"Others\")\n",
    "button6 =  dict(method = \"restyle\",\n",
    "                args = [{'z': [ df[\"Population Density: Mixed\"] ] }],\n",
    "                label = \"Mixed\")                              \n",
    "\n",
    "fig.update_layout(width=700,\n",
    "                  coloraxis_colorbar_thickness=23,\n",
    "                  updatemenus=[dict(y=0.9,\n",
    "                                    x=0.275,\n",
    "                                    xanchor='right',\n",
    "                                    yanchor='top',\n",
    "                                    active=0,\n",
    "                                    buttons=[button1, button2, button3, button4, button5, button6])\n",
    "                              ]) \n",
    "\n"
   ]
  },
  {
   "cell_type": "code",
   "execution_count": null,
   "metadata": {},
   "outputs": [],
   "source": [
    "fig.write_html('html_files/plotly_choropleth_map_race_densities_precinct.html', include_plotlyjs=\"cdn\", full_html = False)"
   ]
  },
  {
   "cell_type": "markdown",
   "metadata": {},
   "source": [
    "# Interactive choropleth map of counties"
   ]
  },
  {
   "cell_type": "markdown",
   "metadata": {},
   "source": [
    "Similar steps were conducted to create the interactive map for counties."
   ]
  },
  {
   "cell_type": "code",
   "execution_count": null,
   "metadata": {},
   "outputs": [],
   "source": [
    "# Read the shapefilefile\n",
    "map_df_county = gpd.read_file('data/georgia_shapefiles_2020_county/georgia_county.shp')\n",
    "\n",
    "# Export the shapefile as GeoJSON\n",
    "map_df_county.to_file(\"data/json/georgia_geojson_2020_county.json\", driver='GeoJSON')\n",
    "\n",
    "# Read the GeoJSON\n",
    "filepath_county = 'data/json/georgia_geojson_2020_county.json'\n",
    "map_df_county = gpd.read_file(filepath_county)\n",
    "map_df_county.to_crs(pyproj.CRS.from_epsg(4326), inplace=True)\n",
    "map_df_county.columns = map_df_county.columns.map(str)\n",
    "\n"
   ]
  },
  {
   "cell_type": "markdown",
   "metadata": {},
   "source": [
    "Unlike the shapefile for precincts, the geo id's in the shapefile for counties consist of only 5 characters, which are the last 5 characters in a county's full geo id. Thus, these last 5 characters must be extracted from the race data."
   ]
  },
  {
   "cell_type": "code",
   "execution_count": null,
   "metadata": {},
   "outputs": [],
   "source": [
    "map_df_county.head()"
   ]
  },
  {
   "cell_type": "code",
   "execution_count": null,
   "metadata": {},
   "outputs": [],
   "source": [
    "# Read the racial densities csv\n",
    "df_county = pd.read_csv(\"data/race_county_data/cleaned_georgia_race_county.csv\")\n",
    "\n",
    "# Extract the last five characters of the id\n",
    "df_county['id']=df_county['id'].str.slice(start=-5)"
   ]
  },
  {
   "cell_type": "code",
   "execution_count": null,
   "metadata": {},
   "outputs": [],
   "source": [
    "# Merge the geodataframe with the cleaned up csv dataframe\n",
    "merged_county = map_df_county.set_index('GEOID').join(df_county.set_index('id'))\n",
    "merged_county.set_index('Area Name', inplace=True)\n",
    "\n",
    "merged_county.head()"
   ]
  },
  {
   "cell_type": "code",
   "execution_count": null,
   "metadata": {},
   "outputs": [],
   "source": [
    "print(merged_county.shape)"
   ]
  },
  {
   "cell_type": "code",
   "execution_count": null,
   "metadata": {},
   "outputs": [],
   "source": [
    "df_county = merged_county\n",
    "\n",
    "fig = px.choropleth_mapbox(df_county, geojson=merged_county.geometry,\n",
    "                    locations=merged_county.index, zoom = 5, center = {\"lat\": 32.6047297, \"lon\": -83.3045263}, color=\"Population Density: White\", labels={'Population Density: White':'Population Density'}, \n",
    "                    mapbox_style=\"open-street-map\", color_continuous_scale=\"deep\"\n",
    "                   )\n",
    "fig.update_geos(fitbounds=\"locations\", visible=False)\n",
    "\n",
    "\n",
    "button1 =  dict(method = \"restyle\",\n",
    "                args = [{'z': [ df_county[\"Population Density: White\"] ]}],\n",
    "                label = \"White\")\n",
    "button2 =  dict(method = \"restyle\",\n",
    "                args = [{'z': [ df_county[\"Population Density: Black\"] ] }],\n",
    "                label = \"Black\")\n",
    "button3 =  dict(method = \"restyle\",\n",
    "                args = [{'z': [ df_county[\"Population Density: Hispanic\"] ] }],\n",
    "                label = \"Hispanic\")\n",
    "button4 =  dict(method = \"restyle\",\n",
    "                args = [{'z': [ df_county[\"Population Density: Asian\"] ] }],\n",
    "                label = \"Asian\")  \n",
    "button5 =  dict(method = \"restyle\",\n",
    "                args = [{'z': [ df_county[\"Population Density: Others\"] ] }],\n",
    "                label = \"Others\")\n",
    "button6 =  dict(method = \"restyle\",\n",
    "                args = [{'z': [ df_county[\"Population Density: Mixed\"] ] }],\n",
    "                label = \"Mixed\")                              \n",
    "\n",
    "fig.update_layout(width=700,\n",
    "                  coloraxis_colorbar_thickness=23,\n",
    "                  updatemenus=[dict(y=0.9,\n",
    "                                    x=0.275,\n",
    "                                    xanchor='right',\n",
    "                                    yanchor='top',\n",
    "                                    active=0,\n",
    "                                    buttons=[button1, button2, button3, button4, button5, button6])\n",
    "                              ]) \n"
   ]
  },
  {
   "cell_type": "code",
   "execution_count": null,
   "metadata": {},
   "outputs": [],
   "source": [
    "fig.write_html('html_files/plotly_choropleth_map_race_densities_county.html', include_plotlyjs=\"cdn\", full_html = False)"
   ]
  },
  {
   "cell_type": "markdown",
   "metadata": {},
   "source": [
    "Citations:\n",
    "\n",
    "Plotly. 2022. Plotly. [online] Available at: <https://plotly.com/python/> [Accessed January 11, 2022]. \n",
    "\n",
    "Plotly. (2019a). Chloropleth maps in Python. [online] Available at: <https://plotly.com/python/choropleth-maps/> (Accessed December 24, 2021).\n",
    "\n",
    "Plotly. (2019b). Mapbox Choropleth Maps in Python. [online] Available at: <https://plotly.com/python/mapbox-county-choropleth/> (Accessed December 24, 2021).\n",
    "\n",
    "Plotly Community, 2021. Creating a dropdown + slider for a choropleth map with plotly.express? Plotly Community Forum. [online] Available at: <https://community.plotly.com/t/creating-a-dropdown-slider-for-a-choropleth-map-with-plotly-express/49370> [Accessed December 26, 2021]. \n",
    "\n",
    "PyPi, 2022. Pyproj. PyPI. [online] Available at: <https://pypi.org/project/pyproj/> [Accessed January 11, 2022]. \n",
    "\n",
    "Python, 2022. JSON - JSON encoder and decoder. Python 3.10.1 documentation. [online] Available at: <https://docs.python.org/3/library/json.html> [Accessed January 11, 2022]. \n",
    "\n",
    "Sanghvi, Y., 2020. Interactive Map-based Visualization using Plotly. Medium. [online] Available at: <https://medium.com/tech-carnot/interactive-map-based-visualization-using-plotly-44e8ad419b97> [Accessed December 24, 2021]. "
   ]
  }
 ],
 "metadata": {
  "interpreter": {
   "hash": "ae287a4b2f3f98ee4d859b3fe7457b4ff6f9cedf230831be035bbfc39aa45414"
  },
  "kernelspec": {
   "display_name": "Python 3.8.5 64-bit ('.venv': venv)",
   "language": "python",
   "name": "python3"
  },
  "language_info": {
   "codemirror_mode": {
    "name": "ipython",
    "version": 3
   },
   "file_extension": ".py",
   "mimetype": "text/x-python",
   "name": "python",
   "nbconvert_exporter": "python",
   "pygments_lexer": "ipython3",
   "version": "3.8.5"
  },
  "orig_nbformat": 4
 },
 "nbformat": 4,
 "nbformat_minor": 2
}
