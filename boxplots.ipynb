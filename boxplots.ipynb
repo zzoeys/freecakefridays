{
  "cells": [
    {
      "cell_type": "code",
      "execution_count": null,
      "metadata": {
        "id": "RMELIHr75zab"
      },
      "outputs": [],
      "source": [
        "import matplotlib.pyplot as plt\n",
        "import pandas as pd\n",
        "import numpy as np\n",
        "import matplotlib.cm as cm\n",
        "import plotly.express as px\n",
        "import plotly.graph_objs as go\n",
        "\n",
        "#This is a comment - python does not try to execute it\n",
        "\n",
        "#This tells python to draw the graphs \"inline\" - in the notebook\n",
        "%matplotlib inline  \n",
        "import matplotlib.pyplot as plt\n",
        "plt.style.use('ggplot')\n"
      ]
    },
    {
      "cell_type": "markdown",
      "metadata": {
        "id": "4tIiD9P5L35u"
      },
      "source": [
        "The following two functions were based on the example on https://plotly.com/python/box-plots/. The code was modified based on this site: https://stackoverflow.com/questions/54368158/add-multiple-text-labels-from-dataframe-columns-in-plotly in order to add county/precinct names as a label."
      ]
    },
    {
      "cell_type": "code",
      "execution_count": null,
      "metadata": {
        "id": "3Hy_PK_L56Nu"
      },
      "outputs": [],
      "source": [
        "# function for distribution\n",
        "\n",
        "def distribution(x, t, name_of_the_html_file, label):\n",
        "\n",
        "  N = 50\n",
        "\n",
        "  y_data = x\n",
        "\n",
        "  colors = ['rgba(93, 164, 214, 0.5)', 'rgba(255, 144, 14, 0.5)', 'rgba(44, 160, 101, 0.5)',\n",
        "            'rgba(255, 65, 54, 0.5)', 'rgba(207, 114, 255, 0.5)', 'rgba(127, 96, 0, 0.5)']\n",
        "\n",
        "  x_data = ['Hispanic','White','Black','Asian','Mixed','Others']\n",
        "\n",
        "  fig = go.Figure()\n",
        "\n",
        "  for xd, yd, cls in zip(x_data, y_data, colors):\n",
        "          fig.add_trace(go.Box(\n",
        "              y=yd,\n",
        "              name=xd,\n",
        "              boxpoints='all',\n",
        "              jitter=0.5,\n",
        "              whiskerwidth=0.2,\n",
        "              fillcolor=cls,\n",
        "              marker_size=2,\n",
        "              line_width=2,\n",
        "              text = label)\n",
        "          )\n",
        "\n",
        "  fig.update_layout(\n",
        "      title=t,\n",
        "      yaxis=dict(\n",
        "          autorange=True,\n",
        "          showgrid=True,\n",
        "          zeroline=True,\n",
        "          dtick=0.1,\n",
        "          gridcolor='rgb(255, 255, 255)',\n",
        "          gridwidth=0.1,\n",
        "          zerolinecolor='rgb(255, 255, 255)',\n",
        "          zerolinewidth=1,\n",
        "      ),\n",
        "      margin=dict(\n",
        "          l=40,\n",
        "          r=30,\n",
        "          b=80,\n",
        "          t=100,\n",
        "      ),\n",
        "      paper_bgcolor='rgb(243, 243, 243)',\n",
        "      plot_bgcolor='rgb(243, 243, 243)',\n",
        "      showlegend=False\n",
        "  )\n",
        "\n",
        "  fig.write_html(name_of_the_html_file)\n",
        "  fig.show()\n"
      ]
    },
    {
      "cell_type": "code",
      "execution_count": null,
      "metadata": {
        "id": "a2smYi9C68BF"
      },
      "outputs": [],
      "source": [
        "# opening files and selecting the right columns:\n",
        "race =  pd.read_csv('data/race_county_data/cleaned_georgia_race_county.csv', index_col = 0)\n",
        "\n",
        "racedenscounty = race[['Area Name', 'Population Density:Hispanic','Population Density: White','Population Density: Black','Population Density: Asian','Population Density: Mixed','Population Density: Others']]\n",
        "\n",
        "race.head()"
      ]
    },
    {
      "cell_type": "code",
      "execution_count": null,
      "metadata": {
        "colab": {
          "base_uri": "https://localhost:8080/",
          "height": 542
        },
        "id": "7iWxT4O97dsq",
        "outputId": "0de2c2d5-a70d-451b-a548-a798062274be"
      },
      "outputs": [],
      "source": [
        "# racial density distribution county level\n",
        "# Georgia State 2020 county level population density distribution by race\n",
        "# list1 is a list for county level pop density\n",
        "list1 = [racedenscounty['Population Density:Hispanic'],racedenscounty['Population Density: White'],racedenscounty['Population Density: Black'],racedenscounty['Population Density: Asian'], racedenscounty['Population Density: Mixed'], racedenscounty['Population Density: Others']]\n",
        "name1 = 'Georgia State 2020 county level population density distribution by race'\n",
        "distribution(list1, 'Georgia State 2020 county level population density distribution by race', 'html_files/county_race_density.html',racedenscounty['Area Name'] )\n"
      ]
    },
    {
      "cell_type": "code",
      "execution_count": null,
      "metadata": {
        "id": "FrovdYszG_u-"
      },
      "outputs": [],
      "source": [
        "from enum import auto\n",
        "# for non density distribution\n",
        "def raw_distribution (x, t, name_of_the_html_file, label):\n",
        "  N= 50\n",
        "\n",
        "  y_data = x\n",
        "\n",
        "  colors = ['rgba(93, 164, 214, 0.5)', 'rgba(255, 144, 14, 0.5)', 'rgba(44, 160, 101, 0.5)',\n",
        "            'rgba(255, 65, 54, 0.5)', 'rgba(207, 114, 255, 0.5)', 'rgba(127, 96, 0, 0.5)']\n",
        "\n",
        "  x_data = ['Hispanic','White','Black','Asian','Mixed','Others']\n",
        "\n",
        "  fig = go.Figure()\n",
        "\n",
        "  for xd, yd, cls in zip(x_data, y_data, colors):\n",
        "          fig.add_trace(go.Box(\n",
        "              y=yd,\n",
        "              name=xd,\n",
        "              boxpoints='all',\n",
        "              jitter=0.5,\n",
        "              whiskerwidth=0.2,\n",
        "              fillcolor=cls,\n",
        "              marker_size=2,\n",
        "              line_width=1)\n",
        "          )\n",
        "\n",
        "  fig.update_layout(\n",
        "      title=t,\n",
        "      yaxis=dict(\n",
        "          autorange=True,\n",
        "          showgrid=True,\n",
        "          zeroline=True,\n",
        "          gridcolor='rgb(255, 255, 255)',\n",
        "          zerolinecolor='rgb(255, 255, 255)',\n",
        "          zerolinewidth=2,\n",
        "      ),\n",
        "      margin=dict(\n",
        "          l=40,\n",
        "          r=30,\n",
        "          b=80,\n",
        "          t=100,\n",
        "      ),\n",
        "      paper_bgcolor='rgb(243, 243, 243)',\n",
        "      plot_bgcolor='rgb(243, 243, 243)',\n",
        "      showlegend=False\n",
        "  )\n",
        "\n",
        "  fig.write_html(name_of_the_html_file)\n",
        "  fig.show()"
      ]
    },
    {
      "cell_type": "code",
      "execution_count": null,
      "metadata": {
        "colab": {
          "base_uri": "https://localhost:8080/",
          "height": 245
        },
        "id": "DC0nRZ5t8Txe",
        "outputId": "13db7f21-574a-4534-db71-12ca5d50e852"
      },
      "outputs": [],
      "source": [
        "# Georgia state 2020 county level population distribution by race\n",
        "# sample_data/html files/raw_county.html\n",
        "# list2 is a list for raw data of county level population by race\n",
        "list2 = [race['Hispanic'], race['White'], race['Black'], race['Asian'], race['Mixed'], race['Others']]\n",
        "raw_distribution(list2, 'Georgia state 2020 county level population distribution by race', 'html_files/county_raw_distribution.html')"
      ]
    },
    {
      "cell_type": "code",
      "execution_count": null,
      "metadata": {
        "id": "grecDjG6B2or"
      },
      "outputs": [],
      "source": [
        "# precinct level data\n",
        "precincts = pd.read_csv('data/polling_site_data/clean_precincts_with_polling_site.csv')"
      ]
    },
    {
      "cell_type": "code",
      "execution_count": null,
      "metadata": {
        "colab": {
          "base_uri": "https://localhost:8080/",
          "height": 579
        },
        "id": "_VC-osK0KaHP",
        "outputId": "8a05960c-37b5-4cdf-bf38-e0cdad664b81"
      },
      "outputs": [],
      "source": [
        "# raw precincts\n",
        "# Georgia state 2020 precinct level population distribution by race\n",
        "# sample_data/html files/raw_precinct.html\n",
        "# list3 is a list for raw precinct level population data by race\n",
        "list3 = [precincts['Hispanic'], precincts['White'], precincts['Black'], precincts['Asian'], precincts['Mixed'], precincts['Others']]\n",
        "raw_distribution(list3, 'Georgia state 2020 precinct level population distribution by race', 'html_files/raw_precincts.html')"
      ]
    },
    {
      "cell_type": "code",
      "execution_count": null,
      "metadata": {
        "colab": {
          "base_uri": "https://localhost:8080/",
          "height": 579
        },
        "id": "7WJsfNmsB_Lf",
        "outputId": "dc92f951-f12b-440a-a9d7-7f10cf78472c"
      },
      "outputs": [],
      "source": [
        "# general precinct racial density dist\n",
        "# Georgia State 2020 precinct level population density distribution by race\n",
        "# sample_data/html files/precinct_general_dist.html\n",
        "# list4 is a list for precinct level population density by race\n",
        "list4 = [precincts['Population Density: Hispanic'],precincts['Population Density: White'],precincts['Population Density: Black'],precincts['Population Density: Asian'], precincts['Population Density: Mixed'], precincts['Population Density: Others']]\n",
        "distribution(list4, 'Georgia State 2020 precinct level population density distribution by race', 'html_files/precinct_general_dist.html')"
      ]
    },
    {
      "cell_type": "code",
      "execution_count": null,
      "metadata": {
        "id": "6gxcJy47DMAc"
      },
      "outputs": [],
      "source": [
        "# precincts with poling sites in 2020\n",
        "withpolling = precincts[precincts['Polling Site 2020']==1]"
      ]
    },
    {
      "cell_type": "code",
      "execution_count": null,
      "metadata": {
        "colab": {
          "base_uri": "https://localhost:8080/",
          "height": 599
        },
        "id": "-YCfQLorDbLk",
        "outputId": "dda42837-a0ff-4859-9ad7-0fdef313b1a5"
      },
      "outputs": [],
      "source": [
        "# precincts with polling sites racial density distribution\n",
        "# Georgia State 2020 population density distribution by race in precincts with polling sites\n",
        "# list5 is a list population density by race in precincts with polling sites\n",
        "list5 = [withpolling['Population Density: Hispanic'], withpolling['Population Density: White'], withpolling['Population Density: Black'], withpolling['Population Density: Asian'], withpolling['Population Density: Mixed'], withpolling['Population Density: Others']]\n",
        "distribution(list5, 'Georgia State 2020 population density distribution by race in precincts with polling sites', 'html_files/precincts_density_with_polling.html')"
      ]
    },
    {
      "cell_type": "code",
      "execution_count": null,
      "metadata": {
        "id": "01TatMQAEv48"
      },
      "outputs": [],
      "source": [
        "# without polling sites distribution precinct level\n",
        "withoutpolling = precincts[precincts['Polling Site 2020']==0]"
      ]
    },
    {
      "cell_type": "code",
      "execution_count": null,
      "metadata": {
        "colab": {
          "base_uri": "https://localhost:8080/",
          "height": 599
        },
        "id": "MZbsvH7FE9BP",
        "outputId": "ebccf514-520d-42d8-f60f-b498f004d858"
      },
      "outputs": [],
      "source": [
        "# precincts without polling sites population density distribution\n",
        "# Georgia State 2020 population density distribution by race in precincts without polling sites\n",
        "# list6 is a list of population densities by race in precincts without polling sites\n",
        "list6 = [withoutpolling['Population Density: Hispanic'], withoutpolling['Population Density: White'], withoutpolling['Population Density: Black'], withoutpolling['Population Density: Asian'], withoutpolling['Population Density: Mixed'], withoutpolling['Population Density: Others']]\n",
        "distribution(list6, 'Georgia State 2020 population density distribution by race in precincts without polling sites', 'html_files/precincts_density_without_polling.html')"
      ]
    },
    {
      "cell_type": "markdown",
      "metadata": {
        "id": "tSjCgGLtMCUW"
      },
      "source": [
        "The following code was based on an example from https://plotly.com/python/table/#styled-table"
      ]
    },
    {
      "cell_type": "code",
      "execution_count": null,
      "metadata": {
        "colab": {
          "base_uri": "https://localhost:8080/",
          "height": 245
        },
        "id": "dzIdUqRRjBht",
        "outputId": "100b49d8-3459-4a78-a723-003b3e60024e"
      },
      "outputs": [],
      "source": [
        "import plotly.graph_objects as go\n",
        "\n",
        "# list of all lists for averages by race\n",
        "The_list = [list2, list1, list3, list4, list5, list6]\n",
        "\n",
        "averages = []\n",
        "for l in The_list:\n",
        "  av_list = []\n",
        "  for i in l:\n",
        "    av = sum(i)/len(i)\n",
        "    av = round(av, 3)\n",
        "    av_list.append(av)\n",
        "  averages.append(av_list)\n",
        "averages.insert(0, ['Hispanic','White','Black','Asian','Mixed','Other'])\n",
        "# table\n",
        "fig = go.Figure(data=[go.Table(\n",
        "    header=dict(values=['Race', 'Average county population ', 'Average county level density', 'Average precinct population', 'Average precinct population density', 'Average population density in precincts with polling sites', 'Average population density in precincts without polling sites'],\n",
        "                line_color='darkslategray',\n",
        "                fill_color='lightskyblue',\n",
        "                align='left'),\n",
        "    cells=dict(values=averages,\n",
        "               line_color='darkslategray',\n",
        "               fill_color='lightgrey',\n",
        "               align='left'))\n",
        "])\n",
        "\n",
        "fig.update_layout(width=1000, height=600)\n",
        "fig.write_html('html_files/averages_table.html')\n",
        "fig.show()"
      ]
    }
  ],
  "metadata": {
    "colab": {
      "name": "QM2.ipynb",
      "provenance": []
    },
    "kernelspec": {
      "display_name": "Python 3",
      "name": "python3"
    },
    "language_info": {
      "codemirror_mode": {
        "name": "ipython",
        "version": 3
      },
      "file_extension": ".py",
      "mimetype": "text/x-python",
      "name": "python",
      "nbconvert_exporter": "python",
      "pygments_lexer": "ipython3",
      "version": "3.8.5"
    }
  },
  "nbformat": 4,
  "nbformat_minor": 0
}
