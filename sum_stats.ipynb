{
  "cells": [
    {
      "cell_type": "code",
      "execution_count": null,
      "metadata": {
        "id": "RMELIHr75zab"
      },
      "outputs": [],
      "source": [
        "import matplotlib.pyplot as plt\n",
        "import pandas as pd\n",
        "import numpy as np\n",
        "import matplotlib.cm as cm\n",
        "import plotly.graph_objects as go\n",
        "\n",
        "#This is a comment - python does not try to execute it\n",
        "\n",
        "#This tells python to draw the graphs \"inline\" - in the notebook\n",
        "%matplotlib inline  \n",
        "import matplotlib.pyplot as plt\n",
        "plt.style.use('ggplot')\n"
      ]
    },
    {
      "cell_type": "markdown",
      "metadata": {
        "id": "4tIiD9P5L35u"
      },
      "source": [
        "The following two functions were based on the example on https://plotly.com/python/box-plots/. The code was modified based on this site: https://stackoverflow.com/questions/54368158/add-multiple-text-labels-from-dataframe-columns-in-plotly in order to add county/precinct names as a label."
      ]
    },
    {
      "cell_type": "code",
      "execution_count": null,
      "metadata": {
        "id": "3Hy_PK_L56Nu"
      },
      "outputs": [],
      "source": [
        "# function for distribution\n",
        "\n",
        "def distribution(data_set, t, name_of_the_html_file, label):\n",
        "\n",
        "  colors = ['rgba(93, 164, 214, 0.5)', 'rgba(255, 144, 14, 0.5)', 'rgba(44, 160, 101, 0.5)',\n",
        "            'rgba(255, 65, 54, 0.5)', 'rgba(207, 114, 255, 0.5)', 'rgba(127, 96, 0, 0.5)']\n",
        "\n",
        "  x_data = ['Hispanic','White','Black','Asian','Mixed','Others']\n",
        "\n",
        "  fig = go.Figure()\n",
        "\n",
        "  for xd, yd, cls in zip(x_data, data_set, colors):\n",
        "          fig.add_trace(go.Box(\n",
        "              y=yd,\n",
        "              name=xd,\n",
        "              boxpoints='all',\n",
        "              jitter=0.5,\n",
        "              whiskerwidth=0.2,\n",
        "              fillcolor=cls,\n",
        "              marker_size=2,\n",
        "              line_width=2,\n",
        "              boxmean=True,\n",
        "              text = label)\n",
        "          )\n",
        "\n",
        "  fig.update_layout(\n",
        "      title=t,\n",
        "      yaxis=dict(\n",
        "          autorange=True,\n",
        "          showgrid=True,\n",
        "          zeroline=True,\n",
        "          dtick=0.1,\n",
        "          gridcolor='rgb(255, 255, 255)',\n",
        "          gridwidth=0.1,\n",
        "          zerolinecolor='rgb(255, 255, 255)',\n",
        "          zerolinewidth=1,\n",
        "      ),\n",
        "      margin=dict(\n",
        "          l=40,\n",
        "          r=30,\n",
        "          b=80,\n",
        "          t=100,\n",
        "      ),\n",
        "      paper_bgcolor='rgb(243, 243, 243)',\n",
        "      plot_bgcolor='rgb(243, 243, 243)',\n",
        "      showlegend=False\n",
        "  )\n",
        "\n",
        "  fig.write_html(name_of_the_html_file)\n",
        "  fig.show()\n"
      ]
    },
    {
      "cell_type": "code",
      "execution_count": null,
      "metadata": {
        "id": "a2smYi9C68BF"
      },
      "outputs": [],
      "source": [
        "# opening files and selecting the right columns:\n",
        "race =  pd.read_csv('data/race_county_data/cleaned_georgia_race_county.csv')\n",
        "racedenscounty = race[['Population Density: Hispanic','Population Density: White','Population Density: Black','Population Density: Asian','Population Density: Mixed','Population Density: Others']]"
      ]
    },
    {
      "cell_type": "code",
      "execution_count": null,
      "metadata": {
        "colab": {
          "base_uri": "https://localhost:8080/",
          "height": 542
        },
        "id": "7iWxT4O97dsq",
        "outputId": "d7a6a29f-4f06-4f12-d4d1-7ffb5f48a13e"
      },
      "outputs": [],
      "source": [
        "# racial density distribution county level\n",
        "# Georgia State 2020 county level population density distribution by race\n",
        "# list1 is a list for county level pop density\n",
        "list1 = [racedenscounty['Population Density: Hispanic'],racedenscounty['Population Density: White'],racedenscounty['Population Density: Black'],racedenscounty['Population Density: Asian'], racedenscounty['Population Density: Mixed'], racedenscounty['Population Density: Others']]\n",
        "name1 = 'Georgia State 2020 county level population density distribution by race'\n",
        "distribution(list1, 'Georgia State 2020 county level population density distribution by race', 'html_files/county_race_density.html', race['Area Name'])\n"
      ]
    },
    {
      "cell_type": "code",
      "execution_count": null,
      "metadata": {
        "id": "FrovdYszG_u-"
      },
      "outputs": [],
      "source": [
        "from enum import auto\n",
        "# for non density distribution\n",
        "def raw_distribution (x, t, name_of_the_html_file, title):\n",
        "  N= 50\n",
        "\n",
        "  y_data = x\n",
        "\n",
        "  colors = ['rgba(93, 164, 214, 0.5)', 'rgba(255, 144, 14, 0.5)', 'rgba(44, 160, 101, 0.5)',\n",
        "            'rgba(255, 65, 54, 0.5)', 'rgba(207, 114, 255, 0.5)', 'rgba(127, 96, 0, 0.5)']\n",
        "\n",
        "  x_data = ['Hispanic','White','Black','Asian','Mixed','Others']\n",
        "\n",
        "  fig = go.Figure()\n",
        "\n",
        "  for xd, yd, cls in zip(x_data, y_data, colors):\n",
        "          fig.add_trace(go.Box(\n",
        "              y=yd,\n",
        "              name=xd,\n",
        "              boxpoints='all',\n",
        "              jitter=0.5,\n",
        "              whiskerwidth=0.2,\n",
        "              fillcolor=cls,\n",
        "              marker_size=2,\n",
        "              line_width=1,\n",
        "              boxmean=True,\n",
        "              text = title)\n",
        "          )\n",
        "\n",
        "  fig.update_layout(\n",
        "      title=t,\n",
        "      yaxis=dict(\n",
        "          autorange=True,\n",
        "          showgrid=True,\n",
        "          zeroline=True,\n",
        "          gridcolor='rgb(255, 255, 255)',\n",
        "          zerolinecolor='rgb(255, 255, 255)',\n",
        "          zerolinewidth=2,\n",
        "      ),\n",
        "      margin=dict(\n",
        "          l=40,\n",
        "          r=30,\n",
        "          b=80,\n",
        "          t=100,\n",
        "      ),\n",
        "      paper_bgcolor='rgb(243, 243, 243)',\n",
        "      plot_bgcolor='rgb(243, 243, 243)',\n",
        "      showlegend=False\n",
        "  )\n",
        "\n",
        "  fig.write_html(name_of_the_html_file)\n",
        "  fig.show()"
      ]
    },
    {
      "cell_type": "code",
      "execution_count": null,
      "metadata": {
        "colab": {
          "base_uri": "https://localhost:8080/",
          "height": 542
        },
        "id": "DC0nRZ5t8Txe",
        "outputId": "babfbbfa-71a6-4224-803f-aef52b2940b0"
      },
      "outputs": [],
      "source": [
        "# Georgia state 2020 county level population distribution by race\n",
        "# sample_data/html files/raw_county.html\n",
        "# list2 is a list for raw data of county level population by race\n",
        "list2 = [race['Hispanic'], race['White'], race['Black'], race['Asian'], race['Mixed'], race['Others']]\n",
        "raw_distribution(list2, 'Georgia state 2020 county level population distribution by race', 'html_files/county_raw_distribution.html', race['Area Name'])"
      ]
    },
    {
      "cell_type": "code",
      "execution_count": null,
      "metadata": {
        "id": "grecDjG6B2or"
      },
      "outputs": [],
      "source": [
        "# precinct level data\n",
        "precincts = pd.read_csv('data/polling_site_data/clean_precincts_with_polling_site.csv')"
      ]
    },
    {
      "cell_type": "code",
      "execution_count": null,
      "metadata": {
        "colab": {
          "base_uri": "https://localhost:8080/",
          "height": 542
        },
        "id": "_VC-osK0KaHP",
        "outputId": "5b971173-2996-4264-ac2e-124d4668dd1f"
      },
      "outputs": [],
      "source": [
        "# raw precincts\n",
        "# Georgia state 2020 precinct level population distribution by race\n",
        "# sample_data/html files/raw_precinct.html\n",
        "# list3 is a list for raw precinct level population data by race\n",
        "list3 = [precincts['Hispanic'], precincts['White'], precincts['Black'], precincts['Asian'], precincts['Mixed'], precincts['Others']]\n",
        "raw_distribution(list3, 'Georgia state 2020 precinct level population distribution by race', 'html_files/raw_precincts.html', precincts['Area Name'])"
      ]
    },
    {
      "cell_type": "code",
      "execution_count": null,
      "metadata": {
        "colab": {
          "base_uri": "https://localhost:8080/",
          "height": 542
        },
        "id": "7WJsfNmsB_Lf",
        "outputId": "e207e510-5f1d-4fdf-c4fa-5e4d2766b723"
      },
      "outputs": [],
      "source": [
        "# general precinct racial density dist\n",
        "# Georgia State 2020 precinct level population density distribution by race\n",
        "# sample_data/html files/precinct_general_dist.html\n",
        "# list4 is a list for precinct level population density by race\n",
        "list4 = [precincts['Population Density: Hispanic'],precincts['Population Density: White'],precincts['Population Density: Black'],precincts['Population Density: Asian'], precincts['Population Density: Mixed'], precincts['Population Density: Others']]\n",
        "distribution(list4, 'Georgia State 2020 precinct level population density distribution by race', 'html_files/precinct_general_dist.html', precincts['Area Name'])"
      ]
    },
    {
      "cell_type": "markdown",
      "metadata": {},
      "source": [
        "# Identifying the outliers"
      ]
    },
    {
      "cell_type": "markdown",
      "metadata": {},
      "source": [
        "Tukey's method function is based on [this website](https://towardsdatascience.com/detecting-and-treating-outliers-in-python-part-1-4ece5098b755)"
      ]
    },
    {
      "cell_type": "code",
      "execution_count": 49,
      "metadata": {},
      "outputs": [],
      "source": [
        "#Tukey's method\n",
        "def tukeys_method(variable):\n",
        "    #Takes two parameters: dataframe & variable of interest as string\n",
        "    q1 = variable.quantile(0.25)\n",
        "    q3 = variable.quantile(0.75)\n",
        "    iqr = q3-q1\n",
        "    inner_fence = 1.5*iqr\n",
        "    outer_fence = 3*iqr\n",
        "    \n",
        "    #inner fence lower and upper end\n",
        "    inner_fence_le = q1-inner_fence\n",
        "    inner_fence_ue = q3+inner_fence\n",
        "    \n",
        "    #outer fence lower and upper end\n",
        "    outer_fence_le = q1-outer_fence\n",
        "    outer_fence_ue = q3+outer_fence\n",
        "    \n",
        "    outliers_prob = []\n",
        "    outliers_poss = []\n",
        "    for index, x in enumerate(variable):\n",
        "        if x <= outer_fence_le or x >= outer_fence_ue:\n",
        "            outliers_prob.append(index)\n",
        "    for index, x in enumerate(variable):\n",
        "        if x <= inner_fence_le or x >= inner_fence_ue:\n",
        "            outliers_poss.append(index)\n",
        "    print(outliers_prob,outliers_poss, sep='\\n')"
      ]
    },
    {
      "cell_type": "code",
      "execution_count": 50,
      "metadata": {},
      "outputs": [
        {
          "name": "stdout",
          "output_type": "stream",
          "text": [
            "Outliers of county population \n",
            "Hispanic\n",
            "[1, 49, 68, 154]\n",
            "[1, 25, 34, 49, 66, 68, 127, 154]\n",
            "White\n",
            "[]\n",
            "[30]\n",
            "Black\n",
            "[]\n",
            "[]\n",
            "Asian\n",
            "[30, 32, 35, 43, 55, 57, 59, 66, 107]\n",
            "[6, 24, 25, 28, 30, 32, 35, 43, 55, 57, 59, 66, 74, 75, 107, 127]\n",
            "Mixed\n",
            "[]\n",
            "[25, 88, 90]\n",
            "Other\n",
            "[25]\n",
            "[25, 32, 88, 90]\n",
            "\n",
            "\n",
            "Outliers of county level density\n",
            "Hispanic\n",
            "[24, 27, 28, 30, 32, 43, 47, 57, 59, 66, 68, 74, 105, 154]\n",
            "[6, 7, 21, 24, 27, 28, 30, 32, 35, 37, 43, 47, 55, 56, 57, 59, 66, 68, 74, 75, 105, 109, 120, 121, 154]\n",
            "White\n",
            "[24, 27, 32, 43, 57, 59, 66, 68, 109]\n",
            "[7, 21, 24, 27, 28, 32, 35, 37, 43, 57, 59, 66, 68, 74, 75, 105, 109]\n",
            "Black\n",
            "[10, 24, 30, 32, 43, 46, 47, 59, 66, 74, 75, 91, 105, 106, 120, 121]\n",
            "[10, 24, 28, 30, 32, 35, 37, 43, 46, 47, 55, 59, 66, 74, 75, 88, 91, 105, 106, 109, 120, 121]\n",
            "Asian\n",
            "[6, 10, 24, 27, 28, 30, 32, 35, 37, 43, 55, 57, 59, 66, 68, 74, 75, 105, 120]\n",
            "[6, 10, 24, 27, 28, 30, 32, 35, 37, 43, 47, 55, 57, 59, 66, 68, 74, 75, 91, 105, 107, 109, 120]\n",
            "Mixed\n",
            "[24, 27, 32, 35, 43, 57, 59, 66, 74, 105, 120]\n",
            "[21, 24, 27, 30, 32, 35, 37, 43, 47, 57, 59, 66, 68, 74, 75, 105, 109, 120]\n",
            "Other\n",
            "[24, 27, 28, 30, 32, 35, 43, 47, 57, 59, 66, 74, 105, 109, 120]\n",
            "[10, 24, 27, 28, 30, 32, 35, 37, 43, 47, 55, 57, 59, 66, 68, 74, 75, 88, 91, 105, 106, 109, 120, 121]\n",
            "\n",
            "\n",
            "Outliers of precinct population\n",
            "Hispanic\n",
            "[64, 66, 216, 235, 331, 359, 371, 378, 383, 391, 396, 405, 422, 423, 426, 472, 497, 508, 521, 522, 528, 548, 557, 568, 576, 580, 581, 584, 608, 625, 772, 785, 794, 804, 806, 865, 882, 884, 891, 1128, 1132, 1133, 1145, 1146, 1150, 1152, 1154, 1159, 1339, 1360, 1362, 1473, 1537, 1608, 1609, 1628, 1638, 1639, 1642, 1644, 1645, 1646, 1647, 1648, 1650, 1651, 1652, 1653, 1664, 1665, 1670, 1677, 1678, 1682, 1684, 1685, 1686, 1687, 1692, 1693, 1699, 1701, 1704, 1713, 1714, 1722, 1726, 1730, 1737, 1741, 1742, 1743, 1744, 1747, 1750, 1766, 1771, 1774, 1777, 1785, 1791, 1792, 1793, 1799, 1800, 1801, 1811, 1812, 1813, 1814, 1919, 1925, 1927, 2019, 2036, 2037, 2044, 2138, 2213, 2216, 2262, 2316, 2360, 2449, 2638, 2642, 2643, 2644, 2647, 2648, 2650, 2654]\n",
            "[56, 61, 63, 64, 65, 66, 76, 156, 216, 235, 315, 318, 331, 355, 359, 360, 361, 365, 371, 372, 373, 378, 383, 391, 392, 396, 405, 421, 422, 423, 424, 425, 426, 431, 434, 452, 453, 470, 472, 473, 485, 486, 488, 490, 494, 497, 502, 505, 508, 521, 522, 528, 533, 547, 548, 557, 560, 566, 568, 576, 580, 581, 582, 584, 596, 604, 606, 608, 616, 625, 632, 719, 720, 730, 772, 773, 785, 794, 804, 805, 806, 815, 865, 882, 884, 891, 915, 945, 1013, 1019, 1020, 1030, 1070, 1092, 1119, 1128, 1132, 1133, 1144, 1145, 1146, 1148, 1149, 1150, 1152, 1153, 1154, 1156, 1158, 1159, 1227, 1258, 1339, 1360, 1362, 1442, 1473, 1474, 1477, 1536, 1537, 1555, 1608, 1609, 1622, 1628, 1630, 1633, 1638, 1639, 1642, 1643, 1644, 1645, 1646, 1647, 1648, 1650, 1651, 1652, 1653, 1655, 1661, 1664, 1665, 1666, 1669, 1670, 1671, 1677, 1678, 1682, 1684, 1685, 1686, 1687, 1692, 1693, 1694, 1698, 1699, 1701, 1704, 1707, 1709, 1710, 1711, 1713, 1714, 1715, 1717, 1722, 1724, 1726, 1730, 1732, 1735, 1737, 1740, 1741, 1742, 1743, 1744, 1747, 1749, 1750, 1751, 1760, 1763, 1764, 1766, 1770, 1771, 1772, 1774, 1777, 1780, 1785, 1788, 1789, 1791, 1792, 1793, 1794, 1797, 1799, 1800, 1801, 1802, 1806, 1809, 1811, 1812, 1813, 1814, 1820, 1872, 1873, 1897, 1916, 1919, 1925, 1926, 1927, 1928, 2019, 2036, 2037, 2044, 2138, 2142, 2144, 2154, 2155, 2213, 2215, 2216, 2217, 2220, 2221, 2262, 2275, 2316, 2360, 2414, 2449, 2489, 2494, 2638, 2640, 2641, 2642, 2643, 2644, 2647, 2648, 2649, 2650, 2654, 2659]\n",
            "White\n",
            "[66, 156, 174, 232, 401, 625, 720, 750, 751, 1144, 1146, 1152, 1153, 1154, 1156, 1158, 1159, 1609, 1784, 1906, 1920, 1925, 1926, 1927, 2036, 2037, 2044, 2213, 2216, 2217, 2223, 2275, 2557]\n",
            "[13, 62, 64, 65, 66, 69, 76, 79, 83, 105, 120, 123, 138, 154, 156, 174, 188, 225, 232, 233, 339, 359, 361, 366, 367, 372, 373, 383, 384, 386, 391, 399, 401, 625, 704, 720, 730, 750, 751, 1061, 1070, 1124, 1144, 1146, 1147, 1148, 1149, 1151, 1152, 1153, 1154, 1156, 1157, 1158, 1159, 1227, 1236, 1365, 1367, 1604, 1608, 1609, 1627, 1666, 1784, 1785, 1786, 1789, 1806, 1818, 1832, 1856, 1906, 1908, 1910, 1912, 1916, 1917, 1920, 1925, 1926, 1927, 1928, 1981, 2035, 2036, 2037, 2039, 2044, 2138, 2150, 2152, 2163, 2213, 2214, 2215, 2216, 2217, 2220, 2221, 2222, 2223, 2224, 2262, 2265, 2267, 2275, 2543, 2545, 2548, 2557, 2659]\n",
            "Black\n",
            "[94, 101, 174, 421, 431, 497, 625, 739, 791, 818, 1282, 1378, 1444, 1447, 1487, 1555, 1872, 1873, 1883, 1919, 1983, 2036, 2037, 2147, 2154, 2155, 2156, 2158, 2159, 2220, 2356, 2364]\n",
            "[90, 94, 98, 101, 115, 152, 155, 156, 174, 308, 315, 318, 397, 421, 426, 431, 432, 436, 438, 445, 446, 452, 461, 465, 466, 468, 470, 476, 488, 497, 505, 508, 528, 581, 625, 719, 730, 739, 752, 777, 779, 784, 786, 791, 798, 818, 837, 846, 854, 858, 864, 878, 886, 897, 900, 902, 903, 904, 907, 919, 920, 930, 932, 942, 978, 981, 1000, 1001, 1012, 1016, 1021, 1024, 1061, 1225, 1267, 1272, 1282, 1288, 1322, 1378, 1442, 1444, 1446, 1447, 1484, 1487, 1491, 1505, 1516, 1518, 1550, 1555, 1596, 1668, 1687, 1699, 1702, 1707, 1722, 1731, 1749, 1771, 1772, 1773, 1869, 1872, 1873, 1875, 1876, 1877, 1878, 1883, 1889, 1912, 1916, 1919, 1920, 1983, 2036, 2037, 2039, 2040, 2145, 2146, 2147, 2154, 2155, 2156, 2157, 2158, 2159, 2176, 2177, 2186, 2193, 2195, 2213, 2216, 2217, 2220, 2221, 2230, 2288, 2299, 2314, 2318, 2321, 2322, 2355, 2356, 2363, 2364, 2367, 2423, 2502, 2543, 2583, 2604]\n",
            "Asian\n",
            "[105, 311, 320, 401, 425, 427, 435, 436, 499, 515, 523, 572, 602, 605, 610, 613, 616, 620, 720, 730, 767, 790, 791, 804, 806, 808, 817, 830, 832, 835, 840, 842, 860, 873, 879, 884, 888, 1100, 1144, 1145, 1152, 1154, 1155, 1156, 1157, 1159, 1181, 1199, 1225, 1227, 1231, 1236, 1305, 1306, 1327, 1330, 1333, 1340, 1341, 1342, 1343, 1344, 1345, 1346, 1347, 1348, 1349, 1350, 1367, 1383, 1392, 1394, 1404, 1406, 1409, 1450, 1451, 1455, 1467, 1468, 1469, 1533, 1548, 1633, 1634, 1636, 1638, 1639, 1643, 1644, 1645, 1648, 1651, 1652, 1653, 1654, 1659, 1660, 1661, 1662, 1663, 1665, 1666, 1667, 1670, 1674, 1675, 1677, 1679, 1684, 1685, 1692, 1693, 1694, 1695, 1696, 1697, 1699, 1704, 1709, 1710, 1711, 1712, 1713, 1714, 1716, 1719, 1722, 1723, 1724, 1725, 1726, 1727, 1730, 1732, 1733, 1736, 1738, 1740, 1741, 1742, 1743, 1744, 1748, 1750, 1755, 1757, 1758, 1759, 1762, 1763, 1764, 1765, 1766, 1767, 1769, 1770, 1771, 1776, 1777, 1781, 1782, 1876, 1877, 1896, 1917, 1927, 2037, 2150, 2163, 2206]\n",
            "[105, 303, 311, 315, 316, 318, 320, 330, 355, 391, 401, 412, 415, 425, 426, 427, 435, 436, 440, 493, 498, 499, 502, 507, 508, 513, 515, 518, 523, 530, 534, 536, 541, 553, 571, 572, 595, 597, 598, 599, 602, 604, 605, 607, 609, 610, 612, 613, 616, 620, 681, 695, 720, 730, 767, 775, 785, 788, 790, 791, 803, 804, 805, 806, 808, 810, 815, 817, 830, 832, 834, 835, 839, 840, 842, 851, 860, 866, 873, 879, 880, 883, 884, 888, 911, 914, 946, 1100, 1113, 1144, 1145, 1148, 1150, 1152, 1154, 1155, 1156, 1157, 1159, 1181, 1196, 1199, 1225, 1227, 1231, 1236, 1238, 1239, 1255, 1305, 1306, 1327, 1330, 1333, 1340, 1341, 1342, 1343, 1344, 1345, 1346, 1347, 1348, 1349, 1350, 1352, 1354, 1367, 1383, 1390, 1392, 1394, 1396, 1400, 1404, 1405, 1406, 1407, 1409, 1450, 1451, 1453, 1455, 1462, 1467, 1468, 1469, 1477, 1530, 1533, 1548, 1609, 1628, 1631, 1633, 1634, 1635, 1636, 1638, 1639, 1641, 1643, 1644, 1645, 1646, 1647, 1648, 1650, 1651, 1652, 1653, 1654, 1658, 1659, 1660, 1661, 1662, 1663, 1665, 1666, 1667, 1669, 1670, 1672, 1674, 1675, 1676, 1677, 1678, 1679, 1681, 1682, 1684, 1685, 1692, 1693, 1694, 1695, 1696, 1697, 1699, 1702, 1704, 1705, 1706, 1709, 1710, 1711, 1712, 1713, 1714, 1716, 1719, 1720, 1722, 1723, 1724, 1725, 1726, 1727, 1729, 1730, 1732, 1733, 1734, 1736, 1737, 1738, 1739, 1740, 1741, 1742, 1743, 1744, 1745, 1746, 1748, 1750, 1751, 1755, 1756, 1757, 1758, 1759, 1761, 1762, 1763, 1764, 1765, 1766, 1767, 1768, 1769, 1770, 1771, 1772, 1774, 1775, 1776, 1777, 1779, 1781, 1782, 1785, 1792, 1800, 1873, 1876, 1877, 1882, 1883, 1893, 1896, 1907, 1910, 1912, 1917, 1925, 1927, 2036, 2037, 2150, 2152, 2163, 2206, 2213]\n",
            "Mixed\n",
            "[66, 174, 372, 616, 625, 730, 1144, 1152, 1154, 1156, 1158, 1159, 1609, 1906, 1912, 1916, 1917, 1919, 1920, 1925, 1926, 1927, 2036, 2037, 2044, 2213, 2216, 2217, 2220, 2223]\n",
            "[62, 64, 66, 76, 138, 156, 174, 188, 199, 232, 311, 315, 339, 355, 359, 361, 365, 367, 371, 372, 373, 383, 384, 391, 490, 499, 502, 508, 534, 536, 568, 606, 609, 616, 625, 654, 661, 668, 720, 730, 750, 751, 791, 1144, 1145, 1146, 1148, 1152, 1153, 1154, 1156, 1157, 1158, 1159, 1227, 1236, 1305, 1609, 1628, 1652, 1666, 1699, 1771, 1772, 1784, 1873, 1906, 1908, 1910, 1912, 1914, 1916, 1917, 1919, 1920, 1925, 1926, 1927, 2016, 2017, 2019, 2036, 2037, 2039, 2044, 2150, 2155, 2158, 2163, 2166, 2169, 2184, 2213, 2215, 2216, 2217, 2220, 2221, 2222, 2223, 2224, 2275, 2316, 2545, 2557]\n",
            "Other\n",
            "[174, 397, 499, 508, 534, 568, 581, 585, 616, 1144, 1152, 1159, 1699, 1925, 2019, 2036, 2037, 2044, 2213, 2216, 2217, 2220]\n",
            "[66, 138, 156, 174, 188, 311, 315, 316, 318, 355, 367, 372, 373, 383, 384, 391, 397, 399, 401, 431, 490, 499, 502, 508, 515, 521, 522, 527, 534, 536, 560, 566, 568, 581, 582, 585, 603, 605, 616, 620, 623, 625, 661, 720, 730, 750, 791, 806, 1000, 1001, 1013, 1128, 1144, 1145, 1152, 1153, 1154, 1156, 1157, 1159, 1225, 1227, 1392, 1555, 1628, 1639, 1643, 1652, 1668, 1686, 1699, 1704, 1722, 1731, 1761, 1771, 1773, 1813, 1872, 1873, 1878, 1882, 1883, 1885, 1906, 1910, 1912, 1916, 1919, 1920, 1925, 1926, 1927, 2011, 2014, 2016, 2017, 2019, 2036, 2037, 2039, 2044, 2150, 2151, 2155, 2159, 2160, 2162, 2163, 2166, 2182, 2213, 2215, 2216, 2217, 2220, 2221, 2222, 2223, 2262, 2356, 2364]\n",
            "\n",
            "\n",
            "Outliers of precinct population density\n",
            "Hispanic\n",
            "[12, 235, 322, 331, 335, 378, 396, 405, 423, 424, 425, 426, 427, 453, 521, 522, 548, 557, 568, 576, 581, 584, 608, 634, 641, 648, 649, 772, 785, 794, 804, 805, 806, 813, 865, 882, 884, 891, 915, 945, 1020, 1030, 1132, 1133, 1329, 1339, 1362, 1473, 1474, 1506, 1537, 1538, 1552, 1553, 1559, 1560, 1638, 1642, 1644, 1645, 1646, 1647, 1648, 1650, 1651, 1661, 1664, 1665, 1670, 1677, 1678, 1684, 1685, 1686, 1687, 1692, 1693, 1699, 1701, 1713, 1714, 1726, 1730, 1737, 1740, 1741, 1742, 1743, 1744, 1747, 1750, 1766, 1777, 1780, 1788, 1791, 1792, 1793, 1800, 1801, 1812, 1813, 1814, 1939, 2028, 2262, 2360, 2414, 2449, 2484, 2638, 2640, 2641, 2642, 2643, 2644, 2647, 2648, 2649, 2650, 2654]\n",
            "[9, 12, 216, 235, 252, 302, 322, 331, 335, 336, 337, 359, 371, 378, 383, 392, 396, 405, 422, 423, 424, 425, 426, 427, 434, 453, 472, 473, 494, 497, 503, 508, 518, 521, 522, 528, 533, 547, 548, 557, 564, 566, 568, 576, 580, 581, 582, 584, 592, 596, 604, 608, 633, 634, 635, 637, 640, 641, 645, 648, 649, 772, 773, 785, 794, 804, 805, 806, 813, 815, 865, 882, 884, 891, 915, 945, 1019, 1020, 1022, 1030, 1093, 1119, 1128, 1132, 1133, 1150, 1175, 1258, 1329, 1339, 1351, 1360, 1362, 1370, 1408, 1413, 1420, 1437, 1461, 1473, 1474, 1476, 1477, 1478, 1489, 1506, 1529, 1536, 1537, 1538, 1540, 1542, 1549, 1552, 1553, 1559, 1560, 1561, 1569, 1570, 1608, 1609, 1622, 1630, 1633, 1638, 1639, 1642, 1643, 1644, 1645, 1646, 1647, 1648, 1650, 1651, 1652, 1653, 1658, 1661, 1664, 1665, 1670, 1677, 1678, 1682, 1683, 1684, 1685, 1686, 1687, 1688, 1691, 1692, 1693, 1698, 1699, 1701, 1704, 1710, 1711, 1713, 1714, 1717, 1722, 1726, 1730, 1735, 1737, 1740, 1741, 1742, 1743, 1744, 1747, 1750, 1751, 1754, 1755, 1763, 1766, 1771, 1774, 1775, 1777, 1780, 1785, 1787, 1788, 1791, 1792, 1793, 1794, 1799, 1800, 1801, 1802, 1811, 1812, 1813, 1814, 1939, 2019, 2028, 2142, 2144, 2171, 2173, 2174, 2229, 2262, 2343, 2360, 2414, 2449, 2484, 2638, 2640, 2641, 2642, 2643, 2644, 2645, 2647, 2648, 2649, 2650, 2653, 2654]\n",
            "White\n",
            "[]\n",
            "[]\n",
            "Black\n",
            "[]\n",
            "[]\n",
            "Asian\n",
            "[425, 427, 435, 436, 440, 499, 523, 572, 601, 602, 613, 620, 681, 695, 767, 790, 791, 804, 805, 808, 817, 830, 832, 840, 842, 860, 873, 879, 884, 888, 911, 923, 1100, 1144, 1145, 1155, 1156, 1157, 1159, 1190, 1196, 1231, 1306, 1327, 1330, 1333, 1340, 1341, 1342, 1343, 1344, 1345, 1346, 1347, 1348, 1349, 1350, 1383, 1394, 1395, 1403, 1404, 1405, 1406, 1407, 1408, 1409, 1420, 1449, 1450, 1451, 1452, 1453, 1455, 1462, 1465, 1467, 1468, 1469, 1476, 1530, 1532, 1533, 1548, 1631, 1633, 1634, 1638, 1639, 1659, 1660, 1661, 1662, 1663, 1667, 1670, 1674, 1675, 1676, 1679, 1684, 1692, 1694, 1695, 1696, 1697, 1704, 1709, 1710, 1711, 1712, 1714, 1716, 1719, 1722, 1723, 1724, 1725, 1726, 1727, 1730, 1732, 1733, 1734, 1736, 1738, 1739, 1740, 1742, 1743, 1745, 1746, 1748, 1755, 1757, 1758, 1759, 1765, 1766, 1767, 1769, 1770, 1775, 1776, 1777, 1781, 1782, 1877, 1896]\n",
            "[276, 303, 320, 330, 412, 425, 427, 435, 436, 440, 450, 464, 475, 487, 489, 498, 499, 507, 510, 513, 515, 518, 523, 541, 553, 571, 572, 589, 595, 598, 599, 601, 602, 605, 612, 613, 616, 617, 620, 680, 681, 682, 683, 695, 761, 767, 770, 771, 775, 788, 790, 791, 803, 804, 805, 807, 808, 810, 813, 815, 817, 828, 830, 832, 834, 835, 838, 839, 840, 842, 851, 855, 860, 866, 873, 879, 880, 881, 883, 884, 888, 911, 923, 937, 938, 946, 948, 1100, 1103, 1113, 1144, 1145, 1152, 1155, 1156, 1157, 1159, 1181, 1190, 1196, 1199, 1225, 1231, 1236, 1240, 1244, 1245, 1305, 1306, 1327, 1328, 1330, 1333, 1340, 1341, 1342, 1343, 1344, 1345, 1346, 1347, 1348, 1349, 1350, 1351, 1352, 1354, 1367, 1383, 1390, 1392, 1393, 1394, 1395, 1396, 1397, 1400, 1401, 1402, 1403, 1404, 1405, 1406, 1407, 1408, 1409, 1420, 1424, 1449, 1450, 1451, 1452, 1453, 1454, 1455, 1457, 1462, 1464, 1465, 1467, 1468, 1469, 1471, 1476, 1530, 1532, 1533, 1548, 1552, 1631, 1633, 1634, 1635, 1636, 1638, 1639, 1641, 1643, 1644, 1645, 1646, 1648, 1649, 1650, 1651, 1653, 1654, 1658, 1659, 1660, 1661, 1662, 1663, 1665, 1667, 1670, 1672, 1673, 1674, 1675, 1676, 1677, 1679, 1683, 1684, 1685, 1689, 1690, 1692, 1694, 1695, 1696, 1697, 1704, 1705, 1706, 1709, 1710, 1711, 1712, 1713, 1714, 1716, 1719, 1720, 1721, 1722, 1723, 1724, 1725, 1726, 1727, 1729, 1730, 1732, 1733, 1734, 1736, 1737, 1738, 1739, 1740, 1741, 1742, 1743, 1744, 1745, 1746, 1747, 1748, 1750, 1751, 1754, 1755, 1757, 1758, 1759, 1762, 1763, 1764, 1765, 1766, 1767, 1768, 1769, 1770, 1775, 1776, 1777, 1781, 1782, 1877, 1896, 1917, 2067, 2163, 2170, 2206]\n",
            "Mixed\n",
            "[1221, 1307, 1424, 1476, 1478, 1479, 1508, 1552, 1553, 1560, 2056, 2170]\n",
            "[135, 141, 333, 335, 344, 568, 585, 616, 659, 662, 676, 677, 685, 1031, 1221, 1223, 1307, 1315, 1324, 1328, 1356, 1398, 1411, 1417, 1418, 1420, 1421, 1424, 1428, 1449, 1457, 1470, 1476, 1478, 1479, 1488, 1489, 1490, 1497, 1506, 1508, 1517, 1522, 1552, 1553, 1556, 1559, 1560, 1831, 2011, 2015, 2031, 2056, 2082, 2170, 2171, 2172, 2173, 2274, 2284, 2682]\n",
            "Other\n",
            "[336, 397, 566, 568, 585, 616, 1221, 1408, 1409, 1420, 1424, 1426, 1428, 1476, 1479, 1507, 1531, 1549, 1552, 1553, 2009, 2056, 2170, 2173, 2174, 2274, 2325, 2498]\n",
            "[28, 183, 336, 337, 397, 482, 487, 489, 499, 508, 515, 516, 520, 527, 534, 566, 567, 568, 585, 603, 613, 616, 623, 661, 686, 735, 761, 856, 890, 893, 1108, 1207, 1221, 1370, 1408, 1409, 1420, 1424, 1426, 1427, 1428, 1432, 1473, 1476, 1479, 1501, 1507, 1528, 1531, 1543, 1549, 1552, 1553, 1632, 1734, 2009, 2011, 2014, 2016, 2019, 2029, 2031, 2056, 2082, 2105, 2170, 2171, 2173, 2174, 2182, 2194, 2274, 2325, 2329, 2345, 2347, 2498, 2628]\n",
            "\n",
            "\n"
          ]
        }
      ],
      "source": [
        "# Tukey fences inner and outer performed\n",
        "names = ['Outliers of county population ', 'Outliers of county level density', 'Outliers of precinct population', 'Outliers of precinct population density', 'Outliers of population density in precincts with polling sites', 'Outliers of population density in precincts without polling sites']\n",
        "list_outliers = [list1, list2, list3, list4]\n",
        "\n",
        "for lists, n in zip(list_outliers, ['Outliers of county population ', 'Outliers of county level density', 'Outliers of precinct population', 'Outliers of precinct population density']):\n",
        "  print(n)\n",
        "  for race_dist, r in zip(lists, ['Hispanic','White','Black','Asian','Mixed','Other']):\n",
        "    print(r)\n",
        "    tukeys_method(race_dist)      \n",
        "  print('\\n')\n"
      ]
    },
    {
      "cell_type": "markdown",
      "metadata": {},
      "source": [
        "# Table of averages"
      ]
    },
    {
      "cell_type": "markdown",
      "metadata": {},
      "source": [
        "A table of averages on the average racial density of all counties, all precincts and precincts with polling sites and precincts without polling sites."
      ]
    },
    {
      "cell_type": "code",
      "execution_count": null,
      "metadata": {
        "id": "6gxcJy47DMAc"
      },
      "outputs": [],
      "source": [
        "# precincts with poling sites\n",
        "withpolling = precincts[precincts['Polling Site 2020']==1]\n",
        "\n",
        "# precincts without poling sites\n",
        "withoutpolling = precincts[precincts['Polling Site 2020']==0]"
      ]
    },
    {
      "cell_type": "code",
      "execution_count": null,
      "metadata": {
        "colab": {
          "base_uri": "https://localhost:8080/",
          "height": 542
        },
        "id": "MZbsvH7FE9BP",
        "outputId": "5834cd48-c19e-4e06-bb57-efdefaa63ab4"
      },
      "outputs": [],
      "source": [
        "# precincts with polling sites racial density distribution\n",
        "# Georgia State 2020 population density distribution by race in precincts with polling sites\n",
        "# list5 is a list population density by race in precincts with polling sites\n",
        "list5 = [withpolling['Population Density: Hispanic'], withpolling['Population Density: White'], withpolling['Population Density: Black'], withpolling['Population Density: Asian'], withpolling['Population Density: Mixed'], withpolling['Population Density: Others']]\n",
        "\n",
        "# precincts without polling sites population density distribution\n",
        "# Georgia State 2020 population density distribution by race in precincts without polling sites\n",
        "# list6 is a list of population densities by race in precincts without polling sites\n",
        "list6 = [withoutpolling['Population Density: Hispanic'], withoutpolling['Population Density: White'], withoutpolling['Population Density: Black'], withoutpolling['Population Density: Asian'], withoutpolling['Population Density: Mixed'], withoutpolling['Population Density: Others']]"
      ]
    },
    {
      "cell_type": "markdown",
      "metadata": {
        "id": "tSjCgGLtMCUW"
      },
      "source": [
        "The following code was based on an example from https://plotly.com/python/table/#styled-table"
      ]
    },
    {
      "cell_type": "code",
      "execution_count": null,
      "metadata": {},
      "outputs": [],
      "source": [
        "import plotly.graph_objects as go\n",
        "\n",
        "# list of all lists for averages by race\n",
        "list_averages = [list4, list5, list6]\n",
        "\n",
        "averages = []\n",
        "for l in list_averages:\n",
        "  av_list = []\n",
        "  for i in l:\n",
        "    av = sum(i)/len(i)\n",
        "    av = round(av, 3)\n",
        "    av_list.append(av)\n",
        "  averages.append(av_list)\n",
        "averages.insert(0, ['Hispanic','White','Black','Asian','Mixed','Other'])\n",
        "# table\n",
        "fig = go.Figure(data=[go.Table(\n",
        "    header=dict(values=['Race', 'Average precinct population density', \n",
        "                        'Average population density in precincts with polling sites', \n",
        "                        'Average population density in precincts without polling sites'],\n",
        "                line_color='darkslategray',\n",
        "                fill_color='darksalmon',\n",
        "                align='left'),\n",
        "    cells=dict(values=averages,\n",
        "               line_color='darkslategray',\n",
        "               fill_color='white',\n",
        "               align='left'))\n",
        "])\n",
        "\n",
        "fig.update_layout(width=1000, height=600)\n",
        "fig.write_html('html_files/averages_table.html')\n",
        "fig.show()"
      ]
    }
  ],
  "metadata": {
    "colab": {
      "name": "QM2.ipynb",
      "provenance": []
    },
    "kernelspec": {
      "display_name": "Python 3",
      "name": "python3"
    },
    "language_info": {
      "codemirror_mode": {
        "name": "ipython",
        "version": 3
      },
      "file_extension": ".py",
      "mimetype": "text/x-python",
      "name": "python",
      "nbconvert_exporter": "python",
      "pygments_lexer": "ipython3",
      "version": "3.8.5"
    }
  },
  "nbformat": 4,
  "nbformat_minor": 0
}
